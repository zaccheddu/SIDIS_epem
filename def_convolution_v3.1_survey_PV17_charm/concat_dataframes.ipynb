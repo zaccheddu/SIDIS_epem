{
 "cells": [
  {
   "cell_type": "code",
   "execution_count": 1,
   "metadata": {},
   "outputs": [],
   "source": [
    "import pandas as pd"
   ]
  },
  {
   "cell_type": "code",
   "execution_count": 2,
   "metadata": {},
   "outputs": [],
   "source": [
    "df_prm = pd.read_csv('fit_parameters/dfs_to_use/new_gauss_su_charm_no_no.csv')\n",
    "df_prm1 = pd.read_csv('fit_parameters/dfs_to_use/new_gauss_su_charm_no_no_1.csv')\n",
    "df_prm2 = pd.read_csv('fit_parameters/dfs_to_use/new_gauss_su_charm_no_no_2.csv')\n",
    "df_prm3 = pd.read_csv('fit_parameters/dfs_to_use/new_gauss_su_charm_no_no_3.csv')\n",
    "df_prm4 = pd.read_csv('fit_parameters/dfs_to_use/new_gauss_su_charm_no_no_4.csv')\n",
    "df_prm5 = pd.read_csv('fit_parameters/dfs_to_use/new_gauss_su_charm_no_no_5.csv')"
   ]
  },
  {
   "cell_type": "code",
   "execution_count": 9,
   "metadata": {},
   "outputs": [],
   "source": [
    "df = pd.concat([df_prm,df_prm1,df_prm2,df_prm3,df_prm4,df_prm5])"
   ]
  },
  {
   "cell_type": "code",
   "execution_count": 11,
   "metadata": {},
   "outputs": [
    {
     "data": {
      "text/plain": [
       "NUP       0.150500\n",
       "NDO      -0.134897\n",
       "NST      -0.146317\n",
       "NSEA     -0.095966\n",
       "AST       2.053685\n",
       "BUP       3.824481\n",
       "BSEA      2.890740\n",
       "PP2       0.103901\n",
       "chi     116.728526\n",
       "dtype: float64"
      ]
     },
     "execution_count": 11,
     "metadata": {},
     "output_type": "execute_result"
    }
   ],
   "source": [
    "df.mean()"
   ]
  },
  {
   "cell_type": "code",
   "execution_count": 12,
   "metadata": {},
   "outputs": [
    {
     "data": {
      "text/plain": [
       "104.23514593021991"
      ]
     },
     "execution_count": 12,
     "metadata": {},
     "output_type": "execute_result"
    }
   ],
   "source": [
    "df['chi'].min()"
   ]
  },
  {
   "cell_type": "code",
   "execution_count": 16,
   "metadata": {},
   "outputs": [],
   "source": [
    "chi_min = 103.3\n",
    "df_new=df.loc[(df['chi']<chi_min+15.79)]"
   ]
  },
  {
   "cell_type": "code",
   "execution_count": 17,
   "metadata": {},
   "outputs": [
    {
     "data": {
      "text/html": [
       "<div>\n",
       "<style scoped>\n",
       "    .dataframe tbody tr th:only-of-type {\n",
       "        vertical-align: middle;\n",
       "    }\n",
       "\n",
       "    .dataframe tbody tr th {\n",
       "        vertical-align: top;\n",
       "    }\n",
       "\n",
       "    .dataframe thead th {\n",
       "        text-align: right;\n",
       "    }\n",
       "</style>\n",
       "<table border=\"1\" class=\"dataframe\">\n",
       "  <thead>\n",
       "    <tr style=\"text-align: right;\">\n",
       "      <th></th>\n",
       "      <th>NUP</th>\n",
       "      <th>NDO</th>\n",
       "      <th>NST</th>\n",
       "      <th>NSEA</th>\n",
       "      <th>AST</th>\n",
       "      <th>BUP</th>\n",
       "      <th>BSEA</th>\n",
       "      <th>PP2</th>\n",
       "      <th>chi</th>\n",
       "    </tr>\n",
       "  </thead>\n",
       "  <tbody>\n",
       "    <tr>\n",
       "      <th>0</th>\n",
       "      <td>0.179414</td>\n",
       "      <td>-0.154495</td>\n",
       "      <td>-0.134967</td>\n",
       "      <td>-0.114834</td>\n",
       "      <td>1.975072</td>\n",
       "      <td>3.654721</td>\n",
       "      <td>2.948449</td>\n",
       "      <td>0.119957</td>\n",
       "      <td>112.500995</td>\n",
       "    </tr>\n",
       "    <tr>\n",
       "      <th>2</th>\n",
       "      <td>0.140092</td>\n",
       "      <td>-0.103588</td>\n",
       "      <td>-0.168640</td>\n",
       "      <td>-0.086923</td>\n",
       "      <td>2.244914</td>\n",
       "      <td>4.199672</td>\n",
       "      <td>2.801611</td>\n",
       "      <td>0.084528</td>\n",
       "      <td>115.857903</td>\n",
       "    </tr>\n",
       "    <tr>\n",
       "      <th>3</th>\n",
       "      <td>0.170602</td>\n",
       "      <td>-0.140393</td>\n",
       "      <td>-0.148621</td>\n",
       "      <td>-0.098653</td>\n",
       "      <td>2.142658</td>\n",
       "      <td>4.032842</td>\n",
       "      <td>2.792415</td>\n",
       "      <td>0.114751</td>\n",
       "      <td>117.223654</td>\n",
       "    </tr>\n",
       "    <tr>\n",
       "      <th>5</th>\n",
       "      <td>0.131428</td>\n",
       "      <td>-0.144763</td>\n",
       "      <td>-0.135081</td>\n",
       "      <td>-0.084212</td>\n",
       "      <td>2.035190</td>\n",
       "      <td>3.539777</td>\n",
       "      <td>2.889007</td>\n",
       "      <td>0.100297</td>\n",
       "      <td>116.806015</td>\n",
       "    </tr>\n",
       "    <tr>\n",
       "      <th>6</th>\n",
       "      <td>0.134546</td>\n",
       "      <td>-0.137666</td>\n",
       "      <td>-0.101932</td>\n",
       "      <td>-0.077150</td>\n",
       "      <td>1.550112</td>\n",
       "      <td>3.829438</td>\n",
       "      <td>2.928802</td>\n",
       "      <td>0.089877</td>\n",
       "      <td>115.509900</td>\n",
       "    </tr>\n",
       "    <tr>\n",
       "      <th>...</th>\n",
       "      <td>...</td>\n",
       "      <td>...</td>\n",
       "      <td>...</td>\n",
       "      <td>...</td>\n",
       "      <td>...</td>\n",
       "      <td>...</td>\n",
       "      <td>...</td>\n",
       "      <td>...</td>\n",
       "      <td>...</td>\n",
       "    </tr>\n",
       "    <tr>\n",
       "      <th>494</th>\n",
       "      <td>0.162036</td>\n",
       "      <td>-0.147861</td>\n",
       "      <td>-0.177139</td>\n",
       "      <td>-0.100254</td>\n",
       "      <td>2.288681</td>\n",
       "      <td>3.865611</td>\n",
       "      <td>2.946237</td>\n",
       "      <td>0.110033</td>\n",
       "      <td>109.349952</td>\n",
       "    </tr>\n",
       "    <tr>\n",
       "      <th>495</th>\n",
       "      <td>0.118966</td>\n",
       "      <td>-0.119035</td>\n",
       "      <td>-0.118783</td>\n",
       "      <td>-0.071224</td>\n",
       "      <td>1.733556</td>\n",
       "      <td>4.002351</td>\n",
       "      <td>2.977212</td>\n",
       "      <td>0.078102</td>\n",
       "      <td>116.860152</td>\n",
       "    </tr>\n",
       "    <tr>\n",
       "      <th>496</th>\n",
       "      <td>0.131575</td>\n",
       "      <td>-0.167733</td>\n",
       "      <td>-0.119713</td>\n",
       "      <td>-0.099209</td>\n",
       "      <td>1.814585</td>\n",
       "      <td>3.010215</td>\n",
       "      <td>2.973223</td>\n",
       "      <td>0.118235</td>\n",
       "      <td>115.327194</td>\n",
       "    </tr>\n",
       "    <tr>\n",
       "      <th>497</th>\n",
       "      <td>0.147982</td>\n",
       "      <td>-0.161057</td>\n",
       "      <td>-0.164618</td>\n",
       "      <td>-0.097140</td>\n",
       "      <td>2.198179</td>\n",
       "      <td>3.588961</td>\n",
       "      <td>2.988108</td>\n",
       "      <td>0.117827</td>\n",
       "      <td>116.462929</td>\n",
       "    </tr>\n",
       "    <tr>\n",
       "      <th>499</th>\n",
       "      <td>0.197821</td>\n",
       "      <td>-0.150155</td>\n",
       "      <td>-0.139488</td>\n",
       "      <td>-0.114708</td>\n",
       "      <td>2.035369</td>\n",
       "      <td>4.031198</td>\n",
       "      <td>2.912394</td>\n",
       "      <td>0.118497</td>\n",
       "      <td>114.195029</td>\n",
       "    </tr>\n",
       "  </tbody>\n",
       "</table>\n",
       "<p>1968 rows × 9 columns</p>\n",
       "</div>"
      ],
      "text/plain": [
       "          NUP       NDO       NST      NSEA       AST       BUP      BSEA  \\\n",
       "0    0.179414 -0.154495 -0.134967 -0.114834  1.975072  3.654721  2.948449   \n",
       "2    0.140092 -0.103588 -0.168640 -0.086923  2.244914  4.199672  2.801611   \n",
       "3    0.170602 -0.140393 -0.148621 -0.098653  2.142658  4.032842  2.792415   \n",
       "5    0.131428 -0.144763 -0.135081 -0.084212  2.035190  3.539777  2.889007   \n",
       "6    0.134546 -0.137666 -0.101932 -0.077150  1.550112  3.829438  2.928802   \n",
       "..        ...       ...       ...       ...       ...       ...       ...   \n",
       "494  0.162036 -0.147861 -0.177139 -0.100254  2.288681  3.865611  2.946237   \n",
       "495  0.118966 -0.119035 -0.118783 -0.071224  1.733556  4.002351  2.977212   \n",
       "496  0.131575 -0.167733 -0.119713 -0.099209  1.814585  3.010215  2.973223   \n",
       "497  0.147982 -0.161057 -0.164618 -0.097140  2.198179  3.588961  2.988108   \n",
       "499  0.197821 -0.150155 -0.139488 -0.114708  2.035369  4.031198  2.912394   \n",
       "\n",
       "          PP2         chi  \n",
       "0    0.119957  112.500995  \n",
       "2    0.084528  115.857903  \n",
       "3    0.114751  117.223654  \n",
       "5    0.100297  116.806015  \n",
       "6    0.089877  115.509900  \n",
       "..        ...         ...  \n",
       "494  0.110033  109.349952  \n",
       "495  0.078102  116.860152  \n",
       "496  0.118235  115.327194  \n",
       "497  0.117827  116.462929  \n",
       "499  0.118497  114.195029  \n",
       "\n",
       "[1968 rows x 9 columns]"
      ]
     },
     "execution_count": 17,
     "metadata": {},
     "output_type": "execute_result"
    }
   ],
   "source": [
    "df_new"
   ]
  },
  {
   "cell_type": "code",
   "execution_count": 18,
   "metadata": {},
   "outputs": [],
   "source": [
    "df_new.to_csv(r'fit_parameters/dfs_to_use/new_gauss_su_charm_no_no_def.csv',index=False)"
   ]
  },
  {
   "cell_type": "code",
   "execution_count": 19,
   "metadata": {},
   "outputs": [],
   "source": [
    "df_prm = pd.read_csv('fit_parameters/dfs_to_use/new_gauss_su_charm_no_yes.csv')\n",
    "df_prm1 = pd.read_csv('fit_parameters/dfs_to_use/new_gauss_su_charm_no_yes_1.csv')\n",
    "df_prm2 = pd.read_csv('fit_parameters/dfs_to_use/new_gauss_su_charm_no_yes_2.csv')\n",
    "df_prm3 = pd.read_csv('fit_parameters/dfs_to_use/new_gauss_su_charm_no_yes_3.csv')\n",
    "df_prm4 = pd.read_csv('fit_parameters/dfs_to_use/new_gauss_su_charm_no_yes_4.csv')\n",
    "df_prm5 = pd.read_csv('fit_parameters/dfs_to_use/new_gauss_su_charm_no_yes_5.csv')"
   ]
  },
  {
   "cell_type": "code",
   "execution_count": 20,
   "metadata": {},
   "outputs": [
    {
     "data": {
      "text/plain": [
       "NUP       0.177524\n",
       "NDO      -0.369213\n",
       "NST      -0.122130\n",
       "NSEA     -0.125873\n",
       "ADO       0.756537\n",
       "AST       0.858585\n",
       "BUP       2.707723\n",
       "BSEA      1.572673\n",
       "PP2       0.092723\n",
       "chi     135.314376\n",
       "dtype: float64"
      ]
     },
     "execution_count": 20,
     "metadata": {},
     "output_type": "execute_result"
    }
   ],
   "source": [
    "df = pd.concat([df_prm,df_prm1,df_prm2,df_prm3,df_prm4,df_prm5])\n",
    "df.mean()"
   ]
  },
  {
   "cell_type": "code",
   "execution_count": 21,
   "metadata": {},
   "outputs": [
    {
     "data": {
      "text/plain": [
       "110.40437992089805"
      ]
     },
     "execution_count": 21,
     "metadata": {},
     "output_type": "execute_result"
    }
   ],
   "source": [
    "df['chi'].min()"
   ]
  },
  {
   "cell_type": "code",
   "execution_count": 22,
   "metadata": {},
   "outputs": [],
   "source": [
    "chi_min = 109.6\n",
    "df_new=df.loc[(df['chi']<chi_min+17.21)]"
   ]
  },
  {
   "cell_type": "code",
   "execution_count": 24,
   "metadata": {},
   "outputs": [],
   "source": [
    "df_new.to_csv(r'fit_parameters/dfs_to_use/new_gauss_su_charm_no_yes_def.csv',index=False)"
   ]
  },
  {
   "cell_type": "code",
   "execution_count": 25,
   "metadata": {},
   "outputs": [],
   "source": [
    "df_prm = pd.read_csv('fit_parameters/dfs_to_use/new_gauss_su_charm_yes_yes.csv')\n",
    "df_prm1 = pd.read_csv('fit_parameters/dfs_to_use/new_gauss_su_charm_yes_yes_1.csv')\n",
    "df_prm2 = pd.read_csv('fit_parameters/dfs_to_use/new_gauss_su_charm_yes_yes_2.csv')\n",
    "df_prm3 = pd.read_csv('fit_parameters/dfs_to_use/new_gauss_su_charm_yes_yes_3.csv')\n",
    "df_prm4 = pd.read_csv('fit_parameters/dfs_to_use/new_gauss_su_charm_yes_yes_4.csv')\n",
    "df_prm5 = pd.read_csv('fit_parameters/dfs_to_use/new_gauss_su_charm_yes_yes_5.csv')"
   ]
  },
  {
   "cell_type": "code",
   "execution_count": 26,
   "metadata": {},
   "outputs": [
    {
     "data": {
      "text/plain": [
       "NUP       0.207607\n",
       "NDO      -0.127288\n",
       "NST      -0.251832\n",
       "NSEA     -0.164981\n",
       "AST       2.103213\n",
       "BUP       2.431379\n",
       "BDO       1.140519\n",
       "PP2       0.116985\n",
       "chi     139.976178\n",
       "dtype: float64"
      ]
     },
     "execution_count": 26,
     "metadata": {},
     "output_type": "execute_result"
    }
   ],
   "source": [
    "df = pd.concat([df_prm,df_prm1,df_prm2,df_prm3,df_prm4,df_prm5])\n",
    "df.mean()"
   ]
  },
  {
   "cell_type": "code",
   "execution_count": 27,
   "metadata": {},
   "outputs": [
    {
     "data": {
      "text/plain": [
       "127.77995311807342"
      ]
     },
     "execution_count": 27,
     "metadata": {},
     "output_type": "execute_result"
    }
   ],
   "source": [
    "df['chi'].min()"
   ]
  },
  {
   "cell_type": "code",
   "execution_count": 28,
   "metadata": {},
   "outputs": [],
   "source": [
    "chi_min = 127.4\n",
    "df_new=df.loc[(df['chi']<chi_min+15.79)]"
   ]
  },
  {
   "cell_type": "code",
   "execution_count": 30,
   "metadata": {},
   "outputs": [],
   "source": [
    "df_new.to_csv(r'fit_parameters/dfs_to_use/new_gauss_su_charm_yes_yes_def.csv',index=False)"
   ]
  },
  {
   "cell_type": "code",
   "execution_count": null,
   "metadata": {},
   "outputs": [],
   "source": []
  }
 ],
 "metadata": {
  "kernelspec": {
   "display_name": "Python 3",
   "language": "python",
   "name": "python3"
  },
  "language_info": {
   "codemirror_mode": {
    "name": "ipython",
    "version": 3
   },
   "file_extension": ".py",
   "mimetype": "text/x-python",
   "name": "python",
   "nbconvert_exporter": "python",
   "pygments_lexer": "ipython3",
   "version": "3.7.3"
  }
 },
 "nbformat": 4,
 "nbformat_minor": 2
}
