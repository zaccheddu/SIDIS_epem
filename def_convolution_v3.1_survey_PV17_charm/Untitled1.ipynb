{
 "cells": [
  {
   "cell_type": "code",
   "execution_count": 5,
   "metadata": {},
   "outputs": [],
   "source": [
    "import pandas as pd\n",
    "import numpy as np\n",
    "from matplotlib.pyplot import*"
   ]
  },
  {
   "cell_type": "code",
   "execution_count": 2,
   "metadata": {},
   "outputs": [],
   "source": [
    "df_prm1 = pd.read_csv('fit_parameters/new_bands_pv17/new_gauss_70k_set.csv')\n",
    "df_prm2 = pd.read_csv('fit_parameters/new_bands_pv17/new_gauss_70k_set1.csv')"
   ]
  },
  {
   "cell_type": "code",
   "execution_count": 3,
   "metadata": {},
   "outputs": [
    {
     "data": {
      "text/html": [
       "<div>\n",
       "<style scoped>\n",
       "    .dataframe tbody tr th:only-of-type {\n",
       "        vertical-align: middle;\n",
       "    }\n",
       "\n",
       "    .dataframe tbody tr th {\n",
       "        vertical-align: top;\n",
       "    }\n",
       "\n",
       "    .dataframe thead th {\n",
       "        text-align: right;\n",
       "    }\n",
       "</style>\n",
       "<table border=\"1\" class=\"dataframe\">\n",
       "  <thead>\n",
       "    <tr style=\"text-align: right;\">\n",
       "      <th></th>\n",
       "      <th>NUP</th>\n",
       "      <th>NDO</th>\n",
       "      <th>NST</th>\n",
       "      <th>NSEA</th>\n",
       "      <th>AST</th>\n",
       "      <th>BUP</th>\n",
       "      <th>BSEA</th>\n",
       "      <th>PP2</th>\n",
       "      <th>chi</th>\n",
       "    </tr>\n",
       "  </thead>\n",
       "  <tbody>\n",
       "    <tr>\n",
       "      <th>0</th>\n",
       "      <td>0.167732</td>\n",
       "      <td>-0.138364</td>\n",
       "      <td>-0.152176</td>\n",
       "      <td>-0.101901</td>\n",
       "      <td>2.212388</td>\n",
       "      <td>4.013090</td>\n",
       "      <td>2.897532</td>\n",
       "      <td>0.095053</td>\n",
       "      <td>108.419263</td>\n",
       "    </tr>\n",
       "    <tr>\n",
       "      <th>1</th>\n",
       "      <td>0.172527</td>\n",
       "      <td>-0.131041</td>\n",
       "      <td>-0.161789</td>\n",
       "      <td>-0.102790</td>\n",
       "      <td>2.126317</td>\n",
       "      <td>4.189835</td>\n",
       "      <td>3.010464</td>\n",
       "      <td>0.101223</td>\n",
       "      <td>108.114607</td>\n",
       "    </tr>\n",
       "    <tr>\n",
       "      <th>2</th>\n",
       "      <td>0.169170</td>\n",
       "      <td>-0.135726</td>\n",
       "      <td>-0.158777</td>\n",
       "      <td>-0.100928</td>\n",
       "      <td>2.270597</td>\n",
       "      <td>4.079378</td>\n",
       "      <td>2.931179</td>\n",
       "      <td>0.095621</td>\n",
       "      <td>108.318517</td>\n",
       "    </tr>\n",
       "    <tr>\n",
       "      <th>3</th>\n",
       "      <td>0.168216</td>\n",
       "      <td>-0.137593</td>\n",
       "      <td>-0.176026</td>\n",
       "      <td>-0.099962</td>\n",
       "      <td>2.281019</td>\n",
       "      <td>4.033872</td>\n",
       "      <td>2.912493</td>\n",
       "      <td>0.101444</td>\n",
       "      <td>108.393413</td>\n",
       "    </tr>\n",
       "    <tr>\n",
       "      <th>4</th>\n",
       "      <td>0.166394</td>\n",
       "      <td>-0.141129</td>\n",
       "      <td>-0.151399</td>\n",
       "      <td>-0.107113</td>\n",
       "      <td>2.167840</td>\n",
       "      <td>3.956802</td>\n",
       "      <td>2.861132</td>\n",
       "      <td>0.111039</td>\n",
       "      <td>107.748569</td>\n",
       "    </tr>\n",
       "    <tr>\n",
       "      <th>...</th>\n",
       "      <td>...</td>\n",
       "      <td>...</td>\n",
       "      <td>...</td>\n",
       "      <td>...</td>\n",
       "      <td>...</td>\n",
       "      <td>...</td>\n",
       "      <td>...</td>\n",
       "      <td>...</td>\n",
       "      <td>...</td>\n",
       "    </tr>\n",
       "    <tr>\n",
       "      <th>2095</th>\n",
       "      <td>0.168435</td>\n",
       "      <td>-0.137287</td>\n",
       "      <td>-0.172373</td>\n",
       "      <td>-0.103904</td>\n",
       "      <td>2.283929</td>\n",
       "      <td>4.037579</td>\n",
       "      <td>2.915260</td>\n",
       "      <td>0.099393</td>\n",
       "      <td>106.286198</td>\n",
       "    </tr>\n",
       "    <tr>\n",
       "      <th>2096</th>\n",
       "      <td>0.166037</td>\n",
       "      <td>-0.141295</td>\n",
       "      <td>-0.165106</td>\n",
       "      <td>-0.104306</td>\n",
       "      <td>2.194118</td>\n",
       "      <td>3.945558</td>\n",
       "      <td>2.858399</td>\n",
       "      <td>0.102128</td>\n",
       "      <td>106.585183</td>\n",
       "    </tr>\n",
       "    <tr>\n",
       "      <th>2097</th>\n",
       "      <td>0.167324</td>\n",
       "      <td>-0.139563</td>\n",
       "      <td>-0.159623</td>\n",
       "      <td>-0.101137</td>\n",
       "      <td>2.302502</td>\n",
       "      <td>3.987773</td>\n",
       "      <td>2.874491</td>\n",
       "      <td>0.100845</td>\n",
       "      <td>108.103547</td>\n",
       "    </tr>\n",
       "    <tr>\n",
       "      <th>2098</th>\n",
       "      <td>0.167701</td>\n",
       "      <td>-0.138025</td>\n",
       "      <td>-0.156689</td>\n",
       "      <td>-0.100921</td>\n",
       "      <td>2.162930</td>\n",
       "      <td>4.016337</td>\n",
       "      <td>2.898542</td>\n",
       "      <td>0.103244</td>\n",
       "      <td>106.702143</td>\n",
       "    </tr>\n",
       "    <tr>\n",
       "      <th>2099</th>\n",
       "      <td>0.171004</td>\n",
       "      <td>-0.132869</td>\n",
       "      <td>-0.148274</td>\n",
       "      <td>-0.108440</td>\n",
       "      <td>2.139689</td>\n",
       "      <td>4.141309</td>\n",
       "      <td>2.983817</td>\n",
       "      <td>0.103588</td>\n",
       "      <td>106.454298</td>\n",
       "    </tr>\n",
       "  </tbody>\n",
       "</table>\n",
       "<p>2100 rows × 9 columns</p>\n",
       "</div>"
      ],
      "text/plain": [
       "           NUP       NDO       NST      NSEA       AST       BUP      BSEA  \\\n",
       "0     0.167732 -0.138364 -0.152176 -0.101901  2.212388  4.013090  2.897532   \n",
       "1     0.172527 -0.131041 -0.161789 -0.102790  2.126317  4.189835  3.010464   \n",
       "2     0.169170 -0.135726 -0.158777 -0.100928  2.270597  4.079378  2.931179   \n",
       "3     0.168216 -0.137593 -0.176026 -0.099962  2.281019  4.033872  2.912493   \n",
       "4     0.166394 -0.141129 -0.151399 -0.107113  2.167840  3.956802  2.861132   \n",
       "...        ...       ...       ...       ...       ...       ...       ...   \n",
       "2095  0.168435 -0.137287 -0.172373 -0.103904  2.283929  4.037579  2.915260   \n",
       "2096  0.166037 -0.141295 -0.165106 -0.104306  2.194118  3.945558  2.858399   \n",
       "2097  0.167324 -0.139563 -0.159623 -0.101137  2.302502  3.987773  2.874491   \n",
       "2098  0.167701 -0.138025 -0.156689 -0.100921  2.162930  4.016337  2.898542   \n",
       "2099  0.171004 -0.132869 -0.148274 -0.108440  2.139689  4.141309  2.983817   \n",
       "\n",
       "           PP2         chi  \n",
       "0     0.095053  108.419263  \n",
       "1     0.101223  108.114607  \n",
       "2     0.095621  108.318517  \n",
       "3     0.101444  108.393413  \n",
       "4     0.111039  107.748569  \n",
       "...        ...         ...  \n",
       "2095  0.099393  106.286198  \n",
       "2096  0.102128  106.585183  \n",
       "2097  0.100845  108.103547  \n",
       "2098  0.103244  106.702143  \n",
       "2099  0.103588  106.454298  \n",
       "\n",
       "[2100 rows x 9 columns]"
      ]
     },
     "execution_count": 3,
     "metadata": {},
     "output_type": "execute_result"
    }
   ],
   "source": [
    "df_prm1"
   ]
  },
  {
   "cell_type": "code",
   "execution_count": 4,
   "metadata": {},
   "outputs": [],
   "source": [
    "#chi_min = 105.4\n",
    "#df_prm.loc[(df_prm['chi']<chi_min+15.79)]\n"
   ]
  },
  {
   "cell_type": "code",
   "execution_count": 5,
   "metadata": {},
   "outputs": [
    {
     "data": {
      "text/plain": [
       "105.29178027783358"
      ]
     },
     "execution_count": 5,
     "metadata": {},
     "output_type": "execute_result"
    }
   ],
   "source": [
    "df_prm1['chi'].min()"
   ]
  },
  {
   "cell_type": "code",
   "execution_count": 6,
   "metadata": {},
   "outputs": [
    {
     "data": {
      "text/plain": [
       "1.1964772727272728"
      ]
     },
     "execution_count": 6,
     "metadata": {},
     "output_type": "execute_result"
    }
   ],
   "source": [
    "105.29/(96-8)"
   ]
  },
  {
   "cell_type": "code",
   "execution_count": 7,
   "metadata": {},
   "outputs": [
    {
     "data": {
      "text/plain": [
       "116.062614130935"
      ]
     },
     "execution_count": 7,
     "metadata": {},
     "output_type": "execute_result"
    }
   ],
   "source": [
    "df_prm1['chi'].max()"
   ]
  },
  {
   "cell_type": "code",
   "execution_count": 8,
   "metadata": {},
   "outputs": [],
   "source": [
    "df = pd.concat([df_prm1,df_prm2])"
   ]
  },
  {
   "cell_type": "code",
   "execution_count": 9,
   "metadata": {},
   "outputs": [
    {
     "data": {
      "text/plain": [
       "119.65777991197504"
      ]
     },
     "execution_count": 9,
     "metadata": {},
     "output_type": "execute_result"
    }
   ],
   "source": [
    "df['chi'].max()"
   ]
  },
  {
   "cell_type": "code",
   "execution_count": 10,
   "metadata": {},
   "outputs": [
    {
     "data": {
      "text/html": [
       "<div>\n",
       "<style scoped>\n",
       "    .dataframe tbody tr th:only-of-type {\n",
       "        vertical-align: middle;\n",
       "    }\n",
       "\n",
       "    .dataframe tbody tr th {\n",
       "        vertical-align: top;\n",
       "    }\n",
       "\n",
       "    .dataframe thead th {\n",
       "        text-align: right;\n",
       "    }\n",
       "</style>\n",
       "<table border=\"1\" class=\"dataframe\">\n",
       "  <thead>\n",
       "    <tr style=\"text-align: right;\">\n",
       "      <th></th>\n",
       "      <th>NUP</th>\n",
       "      <th>NDO</th>\n",
       "      <th>NST</th>\n",
       "      <th>NSEA</th>\n",
       "      <th>AST</th>\n",
       "      <th>BUP</th>\n",
       "      <th>BSEA</th>\n",
       "      <th>PP2</th>\n",
       "      <th>chi</th>\n",
       "    </tr>\n",
       "  </thead>\n",
       "  <tbody>\n",
       "    <tr>\n",
       "      <th>0</th>\n",
       "      <td>0.167732</td>\n",
       "      <td>-0.138364</td>\n",
       "      <td>-0.152176</td>\n",
       "      <td>-0.101901</td>\n",
       "      <td>2.212388</td>\n",
       "      <td>4.013090</td>\n",
       "      <td>2.897532</td>\n",
       "      <td>0.095053</td>\n",
       "      <td>108.419263</td>\n",
       "    </tr>\n",
       "    <tr>\n",
       "      <th>1</th>\n",
       "      <td>0.172527</td>\n",
       "      <td>-0.131041</td>\n",
       "      <td>-0.161789</td>\n",
       "      <td>-0.102790</td>\n",
       "      <td>2.126317</td>\n",
       "      <td>4.189835</td>\n",
       "      <td>3.010464</td>\n",
       "      <td>0.101223</td>\n",
       "      <td>108.114607</td>\n",
       "    </tr>\n",
       "    <tr>\n",
       "      <th>2</th>\n",
       "      <td>0.169170</td>\n",
       "      <td>-0.135726</td>\n",
       "      <td>-0.158777</td>\n",
       "      <td>-0.100928</td>\n",
       "      <td>2.270597</td>\n",
       "      <td>4.079378</td>\n",
       "      <td>2.931179</td>\n",
       "      <td>0.095621</td>\n",
       "      <td>108.318517</td>\n",
       "    </tr>\n",
       "    <tr>\n",
       "      <th>3</th>\n",
       "      <td>0.168216</td>\n",
       "      <td>-0.137593</td>\n",
       "      <td>-0.176026</td>\n",
       "      <td>-0.099962</td>\n",
       "      <td>2.281019</td>\n",
       "      <td>4.033872</td>\n",
       "      <td>2.912493</td>\n",
       "      <td>0.101444</td>\n",
       "      <td>108.393413</td>\n",
       "    </tr>\n",
       "    <tr>\n",
       "      <th>4</th>\n",
       "      <td>0.166394</td>\n",
       "      <td>-0.141129</td>\n",
       "      <td>-0.151399</td>\n",
       "      <td>-0.107113</td>\n",
       "      <td>2.167840</td>\n",
       "      <td>3.956802</td>\n",
       "      <td>2.861132</td>\n",
       "      <td>0.111039</td>\n",
       "      <td>107.748569</td>\n",
       "    </tr>\n",
       "    <tr>\n",
       "      <th>...</th>\n",
       "      <td>...</td>\n",
       "      <td>...</td>\n",
       "      <td>...</td>\n",
       "      <td>...</td>\n",
       "      <td>...</td>\n",
       "      <td>...</td>\n",
       "      <td>...</td>\n",
       "      <td>...</td>\n",
       "      <td>...</td>\n",
       "    </tr>\n",
       "    <tr>\n",
       "      <th>975</th>\n",
       "      <td>0.167794</td>\n",
       "      <td>-0.138050</td>\n",
       "      <td>-0.159433</td>\n",
       "      <td>-0.102878</td>\n",
       "      <td>2.209823</td>\n",
       "      <td>4.018995</td>\n",
       "      <td>2.909751</td>\n",
       "      <td>0.100199</td>\n",
       "      <td>105.864661</td>\n",
       "    </tr>\n",
       "    <tr>\n",
       "      <th>976</th>\n",
       "      <td>0.166832</td>\n",
       "      <td>-0.139785</td>\n",
       "      <td>-0.154561</td>\n",
       "      <td>-0.101092</td>\n",
       "      <td>2.227899</td>\n",
       "      <td>3.984833</td>\n",
       "      <td>2.882310</td>\n",
       "      <td>0.095743</td>\n",
       "      <td>107.984316</td>\n",
       "    </tr>\n",
       "    <tr>\n",
       "      <th>977</th>\n",
       "      <td>0.168469</td>\n",
       "      <td>-0.137254</td>\n",
       "      <td>-0.155456</td>\n",
       "      <td>-0.104614</td>\n",
       "      <td>2.153721</td>\n",
       "      <td>4.033273</td>\n",
       "      <td>2.912480</td>\n",
       "      <td>0.106633</td>\n",
       "      <td>106.171161</td>\n",
       "    </tr>\n",
       "    <tr>\n",
       "      <th>978</th>\n",
       "      <td>0.168720</td>\n",
       "      <td>-0.136369</td>\n",
       "      <td>-0.166566</td>\n",
       "      <td>-0.102775</td>\n",
       "      <td>2.279800</td>\n",
       "      <td>4.048534</td>\n",
       "      <td>2.921076</td>\n",
       "      <td>0.100240</td>\n",
       "      <td>106.431319</td>\n",
       "    </tr>\n",
       "    <tr>\n",
       "      <th>979</th>\n",
       "      <td>0.168896</td>\n",
       "      <td>-0.136872</td>\n",
       "      <td>-0.171796</td>\n",
       "      <td>-0.102669</td>\n",
       "      <td>2.271713</td>\n",
       "      <td>4.051853</td>\n",
       "      <td>2.927199</td>\n",
       "      <td>0.104578</td>\n",
       "      <td>107.360370</td>\n",
       "    </tr>\n",
       "  </tbody>\n",
       "</table>\n",
       "<p>3080 rows × 9 columns</p>\n",
       "</div>"
      ],
      "text/plain": [
       "          NUP       NDO       NST      NSEA       AST       BUP      BSEA  \\\n",
       "0    0.167732 -0.138364 -0.152176 -0.101901  2.212388  4.013090  2.897532   \n",
       "1    0.172527 -0.131041 -0.161789 -0.102790  2.126317  4.189835  3.010464   \n",
       "2    0.169170 -0.135726 -0.158777 -0.100928  2.270597  4.079378  2.931179   \n",
       "3    0.168216 -0.137593 -0.176026 -0.099962  2.281019  4.033872  2.912493   \n",
       "4    0.166394 -0.141129 -0.151399 -0.107113  2.167840  3.956802  2.861132   \n",
       "..        ...       ...       ...       ...       ...       ...       ...   \n",
       "975  0.167794 -0.138050 -0.159433 -0.102878  2.209823  4.018995  2.909751   \n",
       "976  0.166832 -0.139785 -0.154561 -0.101092  2.227899  3.984833  2.882310   \n",
       "977  0.168469 -0.137254 -0.155456 -0.104614  2.153721  4.033273  2.912480   \n",
       "978  0.168720 -0.136369 -0.166566 -0.102775  2.279800  4.048534  2.921076   \n",
       "979  0.168896 -0.136872 -0.171796 -0.102669  2.271713  4.051853  2.927199   \n",
       "\n",
       "          PP2         chi  \n",
       "0    0.095053  108.419263  \n",
       "1    0.101223  108.114607  \n",
       "2    0.095621  108.318517  \n",
       "3    0.101444  108.393413  \n",
       "4    0.111039  107.748569  \n",
       "..        ...         ...  \n",
       "975  0.100199  105.864661  \n",
       "976  0.095743  107.984316  \n",
       "977  0.106633  106.171161  \n",
       "978  0.100240  106.431319  \n",
       "979  0.104578  107.360370  \n",
       "\n",
       "[3080 rows x 9 columns]"
      ]
     },
     "execution_count": 10,
     "metadata": {},
     "output_type": "execute_result"
    }
   ],
   "source": [
    "chi_min = 105.4\n",
    "df.loc[(df['chi']<chi_min+15.79)]\n",
    "#df.loc[(df['chi']<df_prm1['chi'].min()+15.79)]"
   ]
  },
  {
   "cell_type": "code",
   "execution_count": 11,
   "metadata": {},
   "outputs": [
    {
     "ename": "NameError",
     "evalue": "name 'mean' is not defined",
     "output_type": "error",
     "traceback": [
      "\u001b[0;31m---------------------------------------------------------------------------\u001b[0m",
      "\u001b[0;31mNameError\u001b[0m                                 Traceback (most recent call last)",
      "\u001b[0;32m<ipython-input-11-18a976ba6deb>\u001b[0m in \u001b[0;36m<module>\u001b[0;34m\u001b[0m\n\u001b[0;32m----> 1\u001b[0;31m \u001b[0mmean\u001b[0m\u001b[0;34m\u001b[0m\u001b[0;34m\u001b[0m\u001b[0m\n\u001b[0m",
      "\u001b[0;31mNameError\u001b[0m: name 'mean' is not defined"
     ]
    }
   ],
   "source": [
    "mean\n"
   ]
  },
  {
   "cell_type": "code",
   "execution_count": 8,
   "metadata": {},
   "outputs": [],
   "source": [
    "x=np.linspace(0.2,1.,50)"
   ]
  },
  {
   "cell_type": "code",
   "execution_count": 9,
   "metadata": {},
   "outputs": [
    {
     "data": {
      "text/plain": [
       "[<matplotlib.lines.Line2D at 0x7f91d10cef70>]"
      ]
     },
     "execution_count": 9,
     "metadata": {},
     "output_type": "execute_result"
    },
    {
     "data": {
      "image/png": "[encoded data removed]",
      "text/plain": [
       "<Figure size 432x288 with 1 Axes>"
      ]
     },
     "metadata": {
      "needs_background": "light"
     },
     "output_type": "display_data"
    }
   ],
   "source": [
    "a=0\n",
    "b=2.44\n",
    "plot(x,x**a*(1-x)**b)"
   ]
  },
  {
   "cell_type": "code",
   "execution_count": 10,
   "metadata": {},
   "outputs": [
    {
     "data": {
      "text/plain": [
       "[<matplotlib.lines.Line2D at 0x7f91d103fe80>]"
      ]
     },
     "execution_count": 10,
     "metadata": {},
     "output_type": "execute_result"
    },
    {
     "data": {
      "image/png": "[encoded data removed]",
      "text/plain": [
       "<Figure size 432x288 with 1 Axes>"
      ]
     },
     "metadata": {
      "needs_background": "light"
     },
     "output_type": "display_data"
    }
   ],
   "source": [
    "a=2.8\n",
    "b=11\n",
    "plot(x,x**a*(1-x)**b)"
   ]
  },
  {
   "cell_type": "code",
   "execution_count": null,
   "metadata": {},
   "outputs": [],
   "source": []
  }
 ],
 "metadata": {
  "kernelspec": {
   "display_name": "Python 3",
   "language": "python",
   "name": "python3"
  },
  "language_info": {
   "codemirror_mode": {
    "name": "ipython",
    "version": 3
   },
   "file_extension": ".py",
   "mimetype": "text/x-python",
   "name": "python",
   "nbconvert_exporter": "python",
   "pygments_lexer": "ipython3",
   "version": "3.7.3"
  }
 },
 "nbformat": 4,
 "nbformat_minor": 2
}
