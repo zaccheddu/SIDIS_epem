{
 "cells": [
  {
   "cell_type": "code",
   "execution_count": 1,
   "metadata": {},
   "outputs": [
    {
     "name": "stdout",
     "output_type": "stream",
     "text": [
      "/home/zackmrc/Documenti/git_project/SIDIS_epem_git/def_convolution_v3.1_survey_PV17_charm\n"
     ]
    }
   ],
   "source": [
    "from pylab import*\n",
    "import matplotlib.pyplot as plt\n",
    "from numpy import*\n",
    "from matplotlib.pyplot import*\n",
    "import pandas as pd\n",
    "from iminuit import Minuit\n",
    "from def_conv_crs_2h import*\n",
    "from def_conv_crs_1h import*\n",
    "from least_squares_lh import*"
   ]
  },
  {
   "cell_type": "code",
   "execution_count": 2,
   "metadata": {},
   "outputs": [],
   "source": [
    "dati_lh2=pd.read_csv(\"exp_data/lambda_had_global.dat\", delimiter=r\"\\s+\", header=0, engine='python')"
   ]
  },
  {
   "cell_type": "code",
   "execution_count": 3,
   "metadata": {},
   "outputs": [],
   "source": [
    "ct_h2 = 5\n",
    "ct_h1 = 'all'\n",
    "\n",
    "charm = 'yes'\n",
    "mdl_den = 'pwr_lw_star'\n",
    "mdl_num = 'gauss'\n",
    "\n",
    "\n",
    "lst = least_sq(ct_h2,ct_h1,charm,mdl_den)\n",
    "lst.mm = 1.115\n",
    "#lst.data_cut = self.cut\n",
    "lst.unp_wd = 0.2\n",
    "lst.f2 = 'dss'\n",
    "\n",
    "lst.coef = 0.27\n",
    "\n",
    "lst.g_k_2h = 'PV17' \n",
    "\n",
    "lst.mdl_num = mdl_num\n",
    "lst.mdl_den = mdl_den\n",
    "\n",
    "lst.su2 = 'no'\n",
    "lst.nf=3\n",
    "#lst.charm = self.charm\n",
    "lst.scale = 10.58 \n",
    "lst.correct = 'no'\n"
   ]
  },
  {
   "cell_type": "code",
   "execution_count": 7,
   "metadata": {},
   "outputs": [
    {
     "name": "stderr",
     "output_type": "stream",
     "text": [
      "/home/zackmrc/Documenti/git_project/SIDIS_epem_git/def_convolution_v3.1_survey_PV17_charm/Sudakov/sudakov_factor.py:63: RuntimeWarning: invalid value encountered in double_scalars\n",
      "  bstar = bstar/(1-np.exp(-bt**4/self.bmin**4))**(1/4)\n"
     ]
    },
    {
     "name": "stdout",
     "output_type": "stream",
     "text": [
      "108.78739446725845\n"
     ]
    }
   ],
   "source": [
    "prm = pd.read_csv('fit_parameters/to_use/fit_hadron_coef_0.27_chi_1.174__True_gk_PV17_su_no_charmno.csv')\n",
    "#prm = pd.read_csv('fit_parameters/to_use/fit_hadron_coef_0.27_chi_1.259__True_gk_PV17_su_no_charmyes_correction_no.csv')\n",
    "#prm = pd.read_csv('fit_parameters/to_use/fit_hadron_coef_0.27_chi_1.447__True_gk_PV17_su_yes_charmyes.csv')\n",
    "#prm = pd.read_csv('fit_parameters/fit_hadron_coef_0.27_chi_1.443__True_gk_PV17_su_yes_charmyes_correction_no.csv')\n",
    "\n",
    "mdl_den = 'pwr_lw_star'\n",
    "\n",
    "ct_h2 = 5\n",
    "charm = 'no' # 'yes'\n",
    "lst1 = least_sq(ct_h2,'all',charm,mdl_den)\n",
    "lst1.mm = 1.115\n",
    "#lst.data_cut = self.cut\n",
    "lst1.unp_wd = 0.2\n",
    "lst1.f2 = 'dss'\n",
    "\n",
    "lst1.coef = 0.27\n",
    "\n",
    "lst1.g_k_1h = 'PV17' \n",
    "lst1.g_k_2h = 'PV17' \n",
    "\n",
    "lst1.mdl_num = 'gauss'\n",
    "lst1.mdl_den = 'pwr_lw_star'\n",
    "\n",
    "lst1.su2 = 'no' \n",
    "lst1.nf= 3 #4\n",
    "lst1.scale = 10.58 \n",
    "lst1.correct = 'no'\n",
    "\n",
    "chi_pion=lst1.least_squares_lh(prm['NUP'].to_numpy(),prm['NDO'].to_numpy(),prm['NST'].to_numpy(),prm['NSEA'].to_numpy(),\\\n",
    "                 prm['AUP'].to_numpy(),prm['ADO'].to_numpy(),prm['AST'].to_numpy(),prm['ASEA'].to_numpy(),\\\n",
    "                 prm['BUP'].to_numpy(),prm['BDO'].to_numpy(),prm['BST'].to_numpy(),prm['BSEA'].to_numpy(),prm['PP'].to_numpy(),prm['MSS'].to_numpy())\n",
    "print(chi_pion)"
   ]
  },
  {
   "cell_type": "code",
   "execution_count": 5,
   "metadata": {},
   "outputs": [
    {
     "data": {
      "text/html": [
       "<div>\n",
       "<style scoped>\n",
       "    .dataframe tbody tr th:only-of-type {\n",
       "        vertical-align: middle;\n",
       "    }\n",
       "\n",
       "    .dataframe tbody tr th {\n",
       "        vertical-align: top;\n",
       "    }\n",
       "\n",
       "    .dataframe thead th {\n",
       "        text-align: right;\n",
       "    }\n",
       "</style>\n",
       "<table border=\"1\" class=\"dataframe\">\n",
       "  <thead>\n",
       "    <tr style=\"text-align: right;\">\n",
       "      <th></th>\n",
       "      <th>NUP</th>\n",
       "      <th>NDO</th>\n",
       "      <th>NST</th>\n",
       "      <th>NSEA</th>\n",
       "      <th>AUP</th>\n",
       "      <th>ADO</th>\n",
       "      <th>AST</th>\n",
       "      <th>ASEA</th>\n",
       "      <th>BUP</th>\n",
       "      <th>BDO</th>\n",
       "      <th>BST</th>\n",
       "      <th>BSEA</th>\n",
       "      <th>PP</th>\n",
       "      <th>MSS</th>\n",
       "      <th>coef</th>\n",
       "      <th>chi_sq</th>\n",
       "    </tr>\n",
       "  </thead>\n",
       "  <tbody>\n",
       "    <tr>\n",
       "      <th>0</th>\n",
       "      <td>0.20755</td>\n",
       "      <td>-0.128118</td>\n",
       "      <td>-0.252721</td>\n",
       "      <td>-0.164992</td>\n",
       "      <td>0.0</td>\n",
       "      <td>0.0</td>\n",
       "      <td>2.112447</td>\n",
       "      <td>0.0</td>\n",
       "      <td>2.43826</td>\n",
       "      <td>1.154119</td>\n",
       "      <td>0.0</td>\n",
       "      <td>0.0</td>\n",
       "      <td>0.117157</td>\n",
       "      <td>0.0</td>\n",
       "      <td>0.27</td>\n",
       "      <td>1.447</td>\n",
       "    </tr>\n",
       "  </tbody>\n",
       "</table>\n",
       "</div>"
      ],
      "text/plain": [
       "       NUP       NDO       NST      NSEA  AUP  ADO       AST  ASEA      BUP  \\\n",
       "0  0.20755 -0.128118 -0.252721 -0.164992  0.0  0.0  2.112447   0.0  2.43826   \n",
       "\n",
       "        BDO  BST  BSEA        PP  MSS  coef  chi_sq  \n",
       "0  1.154119  0.0   0.0  0.117157  0.0  0.27   1.447  "
      ]
     },
     "execution_count": 5,
     "metadata": {},
     "output_type": "execute_result"
    }
   ],
   "source": [
    "prm"
   ]
  },
  {
   "cell_type": "code",
   "execution_count": null,
   "metadata": {},
   "outputs": [],
   "source": []
  }
 ],
 "metadata": {
  "kernelspec": {
   "display_name": "Python 3",
   "language": "python",
   "name": "python3"
  },
  "language_info": {
   "codemirror_mode": {
    "name": "ipython",
    "version": 3
   },
   "file_extension": ".py",
   "mimetype": "text/x-python",
   "name": "python",
   "nbconvert_exporter": "python",
   "pygments_lexer": "ipython3",
   "version": "3.7.3"
  }
 },
 "nbformat": 4,
 "nbformat_minor": 2
}
