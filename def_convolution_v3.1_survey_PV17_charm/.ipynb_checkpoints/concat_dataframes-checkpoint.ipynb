{
 "cells": [
  {
   "cell_type": "code",
   "execution_count": 1,
   "metadata": {},
   "outputs": [],
   "source": [
    "import pandas as pd"
   ]
  },
  {
   "cell_type": "code",
   "execution_count": 10,
   "metadata": {},
   "outputs": [],
   "source": [
    "#df_prm = pd.read_csv('fit_parameters/dfs_to_use/new_gauss_su_charm_no_no.csv')\n",
    "#df_prm1 = pd.read_csv('fit_parameters/dfs_to_use/new_gauss_su_charm_no_no_1.csv')\n",
    "#df_prm2 = pd.read_csv('fit_parameters/dfs_to_use/new_gauss_su_charm_no_no_2.csv')\n",
    "df_prm3 = pd.read_csv('fit_parameters/dfs_to_use/new_gauss_su_charm_no_no_3.csv')\n",
    "df_prm4 = pd.read_csv('fit_parameters/dfs_to_use/new_gauss_su_charm_no_no_4.csv')\n",
    "df_prm5 = pd.read_csv('fit_parameters/dfs_to_use/new_gauss_su_charm_no_no_5.csv')"
   ]
  },
  {
   "cell_type": "code",
   "execution_count": 12,
   "metadata": {},
   "outputs": [
    {
     "data": {
      "text/html": [
       "<div>\n",
       "<style scoped>\n",
       "    .dataframe tbody tr th:only-of-type {\n",
       "        vertical-align: middle;\n",
       "    }\n",
       "\n",
       "    .dataframe tbody tr th {\n",
       "        vertical-align: top;\n",
       "    }\n",
       "\n",
       "    .dataframe thead th {\n",
       "        text-align: right;\n",
       "    }\n",
       "</style>\n",
       "<table border=\"1\" class=\"dataframe\">\n",
       "  <thead>\n",
       "    <tr style=\"text-align: right;\">\n",
       "      <th></th>\n",
       "      <th>NUP</th>\n",
       "      <th>NDO</th>\n",
       "      <th>NST</th>\n",
       "      <th>NSEA</th>\n",
       "      <th>AST</th>\n",
       "      <th>BUP</th>\n",
       "      <th>BSEA</th>\n",
       "      <th>PP2</th>\n",
       "      <th>chi</th>\n",
       "    </tr>\n",
       "  </thead>\n",
       "  <tbody>\n",
       "    <tr>\n",
       "      <th>0</th>\n",
       "      <td>0.185447</td>\n",
       "      <td>-0.141136</td>\n",
       "      <td>-0.182721</td>\n",
       "      <td>-0.103286</td>\n",
       "      <td>2.417908</td>\n",
       "      <td>3.875562</td>\n",
       "      <td>2.135000</td>\n",
       "      <td>0.121994</td>\n",
       "      <td>116.179406</td>\n",
       "    </tr>\n",
       "    <tr>\n",
       "      <th>1</th>\n",
       "      <td>0.161755</td>\n",
       "      <td>-0.157542</td>\n",
       "      <td>-0.172319</td>\n",
       "      <td>-0.112372</td>\n",
       "      <td>2.257670</td>\n",
       "      <td>3.511622</td>\n",
       "      <td>2.962888</td>\n",
       "      <td>0.118032</td>\n",
       "      <td>106.995550</td>\n",
       "    </tr>\n",
       "    <tr>\n",
       "      <th>2</th>\n",
       "      <td>0.164622</td>\n",
       "      <td>-0.147470</td>\n",
       "      <td>-0.203524</td>\n",
       "      <td>-0.132684</td>\n",
       "      <td>2.519056</td>\n",
       "      <td>3.315955</td>\n",
       "      <td>3.385634</td>\n",
       "      <td>0.113679</td>\n",
       "      <td>116.262987</td>\n",
       "    </tr>\n",
       "    <tr>\n",
       "      <th>3</th>\n",
       "      <td>0.173043</td>\n",
       "      <td>-0.143832</td>\n",
       "      <td>-0.143182</td>\n",
       "      <td>-0.104460</td>\n",
       "      <td>1.884702</td>\n",
       "      <td>4.146597</td>\n",
       "      <td>2.951389</td>\n",
       "      <td>0.104993</td>\n",
       "      <td>105.274017</td>\n",
       "    </tr>\n",
       "    <tr>\n",
       "      <th>4</th>\n",
       "      <td>0.203239</td>\n",
       "      <td>-0.168082</td>\n",
       "      <td>-0.121230</td>\n",
       "      <td>-0.140561</td>\n",
       "      <td>1.797557</td>\n",
       "      <td>4.148582</td>\n",
       "      <td>3.660050</td>\n",
       "      <td>0.128643</td>\n",
       "      <td>108.944103</td>\n",
       "    </tr>\n",
       "    <tr>\n",
       "      <th>...</th>\n",
       "      <td>...</td>\n",
       "      <td>...</td>\n",
       "      <td>...</td>\n",
       "      <td>...</td>\n",
       "      <td>...</td>\n",
       "      <td>...</td>\n",
       "      <td>...</td>\n",
       "      <td>...</td>\n",
       "      <td>...</td>\n",
       "    </tr>\n",
       "    <tr>\n",
       "      <th>495</th>\n",
       "      <td>0.129872</td>\n",
       "      <td>-0.139467</td>\n",
       "      <td>-0.117235</td>\n",
       "      <td>-0.090713</td>\n",
       "      <td>1.720626</td>\n",
       "      <td>3.311715</td>\n",
       "      <td>2.879163</td>\n",
       "      <td>0.101297</td>\n",
       "      <td>109.940547</td>\n",
       "    </tr>\n",
       "    <tr>\n",
       "      <th>496</th>\n",
       "      <td>0.076257</td>\n",
       "      <td>-0.129166</td>\n",
       "      <td>-0.131485</td>\n",
       "      <td>-0.025379</td>\n",
       "      <td>1.941580</td>\n",
       "      <td>2.800552</td>\n",
       "      <td>1.288405</td>\n",
       "      <td>0.073550</td>\n",
       "      <td>227.296570</td>\n",
       "    </tr>\n",
       "    <tr>\n",
       "      <th>497</th>\n",
       "      <td>0.174655</td>\n",
       "      <td>-0.149607</td>\n",
       "      <td>-0.149382</td>\n",
       "      <td>-0.127230</td>\n",
       "      <td>2.152773</td>\n",
       "      <td>3.832652</td>\n",
       "      <td>3.371708</td>\n",
       "      <td>0.122122</td>\n",
       "      <td>111.755989</td>\n",
       "    </tr>\n",
       "    <tr>\n",
       "      <th>498</th>\n",
       "      <td>0.126109</td>\n",
       "      <td>-0.155201</td>\n",
       "      <td>-0.164783</td>\n",
       "      <td>-0.100737</td>\n",
       "      <td>2.190233</td>\n",
       "      <td>3.091212</td>\n",
       "      <td>3.036658</td>\n",
       "      <td>0.101114</td>\n",
       "      <td>111.295790</td>\n",
       "    </tr>\n",
       "    <tr>\n",
       "      <th>499</th>\n",
       "      <td>0.199272</td>\n",
       "      <td>-0.161221</td>\n",
       "      <td>-0.151201</td>\n",
       "      <td>-0.122741</td>\n",
       "      <td>1.905403</td>\n",
       "      <td>4.219614</td>\n",
       "      <td>3.378872</td>\n",
       "      <td>0.109020</td>\n",
       "      <td>110.861860</td>\n",
       "    </tr>\n",
       "  </tbody>\n",
       "</table>\n",
       "<p>1500 rows × 9 columns</p>\n",
       "</div>"
      ],
      "text/plain": [
       "          NUP       NDO       NST      NSEA       AST       BUP      BSEA  \\\n",
       "0    0.185447 -0.141136 -0.182721 -0.103286  2.417908  3.875562  2.135000   \n",
       "1    0.161755 -0.157542 -0.172319 -0.112372  2.257670  3.511622  2.962888   \n",
       "2    0.164622 -0.147470 -0.203524 -0.132684  2.519056  3.315955  3.385634   \n",
       "3    0.173043 -0.143832 -0.143182 -0.104460  1.884702  4.146597  2.951389   \n",
       "4    0.203239 -0.168082 -0.121230 -0.140561  1.797557  4.148582  3.660050   \n",
       "..        ...       ...       ...       ...       ...       ...       ...   \n",
       "495  0.129872 -0.139467 -0.117235 -0.090713  1.720626  3.311715  2.879163   \n",
       "496  0.076257 -0.129166 -0.131485 -0.025379  1.941580  2.800552  1.288405   \n",
       "497  0.174655 -0.149607 -0.149382 -0.127230  2.152773  3.832652  3.371708   \n",
       "498  0.126109 -0.155201 -0.164783 -0.100737  2.190233  3.091212  3.036658   \n",
       "499  0.199272 -0.161221 -0.151201 -0.122741  1.905403  4.219614  3.378872   \n",
       "\n",
       "          PP2         chi  \n",
       "0    0.121994  116.179406  \n",
       "1    0.118032  106.995550  \n",
       "2    0.113679  116.262987  \n",
       "3    0.104993  105.274017  \n",
       "4    0.128643  108.944103  \n",
       "..        ...         ...  \n",
       "495  0.101297  109.940547  \n",
       "496  0.073550  227.296570  \n",
       "497  0.122122  111.755989  \n",
       "498  0.101114  111.295790  \n",
       "499  0.109020  110.861860  \n",
       "\n",
       "[1500 rows x 9 columns]"
      ]
     },
     "execution_count": 12,
     "metadata": {},
     "output_type": "execute_result"
    }
   ],
   "source": [
    "df = pd.concat([df_prm3,df_prm4,df_prm5])\n",
    "df"
   ]
  },
  {
   "cell_type": "code",
   "execution_count": 5,
   "metadata": {},
   "outputs": [
    {
     "data": {
      "text/plain": [
       "NUP       0.141178\n",
       "NDO      -0.139282\n",
       "NST      -0.150818\n",
       "NSEA     -0.087934\n",
       "AST       2.044389\n",
       "BUP       3.545475\n",
       "BSEA      2.566814\n",
       "PP2       0.096002\n",
       "chi     133.194000\n",
       "dtype: float64"
      ]
     },
     "execution_count": 5,
     "metadata": {},
     "output_type": "execute_result"
    }
   ],
   "source": [
    "df.mean()"
   ]
  },
  {
   "cell_type": "code",
   "execution_count": 7,
   "metadata": {},
   "outputs": [
    {
     "data": {
      "text/plain": [
       "104.22737434172718"
      ]
     },
     "execution_count": 7,
     "metadata": {},
     "output_type": "execute_result"
    }
   ],
   "source": [
    "df['chi'].min()"
   ]
  },
  {
   "cell_type": "code",
   "execution_count": 13,
   "metadata": {},
   "outputs": [],
   "source": [
    "chi_min = 103.3\n",
    "df_new=df.loc[(df['chi']<chi_min+15.79)]"
   ]
  },
  {
   "cell_type": "code",
   "execution_count": 14,
   "metadata": {},
   "outputs": [
    {
     "data": {
      "text/html": [
       "<div>\n",
       "<style scoped>\n",
       "    .dataframe tbody tr th:only-of-type {\n",
       "        vertical-align: middle;\n",
       "    }\n",
       "\n",
       "    .dataframe tbody tr th {\n",
       "        vertical-align: top;\n",
       "    }\n",
       "\n",
       "    .dataframe thead th {\n",
       "        text-align: right;\n",
       "    }\n",
       "</style>\n",
       "<table border=\"1\" class=\"dataframe\">\n",
       "  <thead>\n",
       "    <tr style=\"text-align: right;\">\n",
       "      <th></th>\n",
       "      <th>NUP</th>\n",
       "      <th>NDO</th>\n",
       "      <th>NST</th>\n",
       "      <th>NSEA</th>\n",
       "      <th>AST</th>\n",
       "      <th>BUP</th>\n",
       "      <th>BSEA</th>\n",
       "      <th>PP2</th>\n",
       "      <th>chi</th>\n",
       "    </tr>\n",
       "  </thead>\n",
       "  <tbody>\n",
       "    <tr>\n",
       "      <th>0</th>\n",
       "      <td>0.185447</td>\n",
       "      <td>-0.141136</td>\n",
       "      <td>-0.182721</td>\n",
       "      <td>-0.103286</td>\n",
       "      <td>2.417908</td>\n",
       "      <td>3.875562</td>\n",
       "      <td>2.135000</td>\n",
       "      <td>0.121994</td>\n",
       "      <td>116.179406</td>\n",
       "    </tr>\n",
       "    <tr>\n",
       "      <th>1</th>\n",
       "      <td>0.161755</td>\n",
       "      <td>-0.157542</td>\n",
       "      <td>-0.172319</td>\n",
       "      <td>-0.112372</td>\n",
       "      <td>2.257670</td>\n",
       "      <td>3.511622</td>\n",
       "      <td>2.962888</td>\n",
       "      <td>0.118032</td>\n",
       "      <td>106.995550</td>\n",
       "    </tr>\n",
       "    <tr>\n",
       "      <th>2</th>\n",
       "      <td>0.164622</td>\n",
       "      <td>-0.147470</td>\n",
       "      <td>-0.203524</td>\n",
       "      <td>-0.132684</td>\n",
       "      <td>2.519056</td>\n",
       "      <td>3.315955</td>\n",
       "      <td>3.385634</td>\n",
       "      <td>0.113679</td>\n",
       "      <td>116.262987</td>\n",
       "    </tr>\n",
       "    <tr>\n",
       "      <th>3</th>\n",
       "      <td>0.173043</td>\n",
       "      <td>-0.143832</td>\n",
       "      <td>-0.143182</td>\n",
       "      <td>-0.104460</td>\n",
       "      <td>1.884702</td>\n",
       "      <td>4.146597</td>\n",
       "      <td>2.951389</td>\n",
       "      <td>0.104993</td>\n",
       "      <td>105.274017</td>\n",
       "    </tr>\n",
       "    <tr>\n",
       "      <th>4</th>\n",
       "      <td>0.203239</td>\n",
       "      <td>-0.168082</td>\n",
       "      <td>-0.121230</td>\n",
       "      <td>-0.140561</td>\n",
       "      <td>1.797557</td>\n",
       "      <td>4.148582</td>\n",
       "      <td>3.660050</td>\n",
       "      <td>0.128643</td>\n",
       "      <td>108.944103</td>\n",
       "    </tr>\n",
       "    <tr>\n",
       "      <th>...</th>\n",
       "      <td>...</td>\n",
       "      <td>...</td>\n",
       "      <td>...</td>\n",
       "      <td>...</td>\n",
       "      <td>...</td>\n",
       "      <td>...</td>\n",
       "      <td>...</td>\n",
       "      <td>...</td>\n",
       "      <td>...</td>\n",
       "    </tr>\n",
       "    <tr>\n",
       "      <th>493</th>\n",
       "      <td>0.189536</td>\n",
       "      <td>-0.162161</td>\n",
       "      <td>-0.187116</td>\n",
       "      <td>-0.129086</td>\n",
       "      <td>2.417533</td>\n",
       "      <td>3.960787</td>\n",
       "      <td>3.299830</td>\n",
       "      <td>0.122051</td>\n",
       "      <td>107.649668</td>\n",
       "    </tr>\n",
       "    <tr>\n",
       "      <th>495</th>\n",
       "      <td>0.129872</td>\n",
       "      <td>-0.139467</td>\n",
       "      <td>-0.117235</td>\n",
       "      <td>-0.090713</td>\n",
       "      <td>1.720626</td>\n",
       "      <td>3.311715</td>\n",
       "      <td>2.879163</td>\n",
       "      <td>0.101297</td>\n",
       "      <td>109.940547</td>\n",
       "    </tr>\n",
       "    <tr>\n",
       "      <th>497</th>\n",
       "      <td>0.174655</td>\n",
       "      <td>-0.149607</td>\n",
       "      <td>-0.149382</td>\n",
       "      <td>-0.127230</td>\n",
       "      <td>2.152773</td>\n",
       "      <td>3.832652</td>\n",
       "      <td>3.371708</td>\n",
       "      <td>0.122122</td>\n",
       "      <td>111.755989</td>\n",
       "    </tr>\n",
       "    <tr>\n",
       "      <th>498</th>\n",
       "      <td>0.126109</td>\n",
       "      <td>-0.155201</td>\n",
       "      <td>-0.164783</td>\n",
       "      <td>-0.100737</td>\n",
       "      <td>2.190233</td>\n",
       "      <td>3.091212</td>\n",
       "      <td>3.036658</td>\n",
       "      <td>0.101114</td>\n",
       "      <td>111.295790</td>\n",
       "    </tr>\n",
       "    <tr>\n",
       "      <th>499</th>\n",
       "      <td>0.199272</td>\n",
       "      <td>-0.161221</td>\n",
       "      <td>-0.151201</td>\n",
       "      <td>-0.122741</td>\n",
       "      <td>1.905403</td>\n",
       "      <td>4.219614</td>\n",
       "      <td>3.378872</td>\n",
       "      <td>0.109020</td>\n",
       "      <td>110.861860</td>\n",
       "    </tr>\n",
       "  </tbody>\n",
       "</table>\n",
       "<p>1082 rows × 9 columns</p>\n",
       "</div>"
      ],
      "text/plain": [
       "          NUP       NDO       NST      NSEA       AST       BUP      BSEA  \\\n",
       "0    0.185447 -0.141136 -0.182721 -0.103286  2.417908  3.875562  2.135000   \n",
       "1    0.161755 -0.157542 -0.172319 -0.112372  2.257670  3.511622  2.962888   \n",
       "2    0.164622 -0.147470 -0.203524 -0.132684  2.519056  3.315955  3.385634   \n",
       "3    0.173043 -0.143832 -0.143182 -0.104460  1.884702  4.146597  2.951389   \n",
       "4    0.203239 -0.168082 -0.121230 -0.140561  1.797557  4.148582  3.660050   \n",
       "..        ...       ...       ...       ...       ...       ...       ...   \n",
       "493  0.189536 -0.162161 -0.187116 -0.129086  2.417533  3.960787  3.299830   \n",
       "495  0.129872 -0.139467 -0.117235 -0.090713  1.720626  3.311715  2.879163   \n",
       "497  0.174655 -0.149607 -0.149382 -0.127230  2.152773  3.832652  3.371708   \n",
       "498  0.126109 -0.155201 -0.164783 -0.100737  2.190233  3.091212  3.036658   \n",
       "499  0.199272 -0.161221 -0.151201 -0.122741  1.905403  4.219614  3.378872   \n",
       "\n",
       "          PP2         chi  \n",
       "0    0.121994  116.179406  \n",
       "1    0.118032  106.995550  \n",
       "2    0.113679  116.262987  \n",
       "3    0.104993  105.274017  \n",
       "4    0.128643  108.944103  \n",
       "..        ...         ...  \n",
       "493  0.122051  107.649668  \n",
       "495  0.101297  109.940547  \n",
       "497  0.122122  111.755989  \n",
       "498  0.101114  111.295790  \n",
       "499  0.109020  110.861860  \n",
       "\n",
       "[1082 rows x 9 columns]"
      ]
     },
     "execution_count": 14,
     "metadata": {},
     "output_type": "execute_result"
    }
   ],
   "source": [
    "df_new"
   ]
  },
  {
   "cell_type": "code",
   "execution_count": 15,
   "metadata": {},
   "outputs": [],
   "source": [
    "df_new.to_csv(r'fit_parameters/dfs_to_use/new_gauss_su_charm_no_no_def.csv',index=False)"
   ]
  },
  {
   "cell_type": "code",
   "execution_count": 16,
   "metadata": {},
   "outputs": [],
   "source": [
    "#df_prm = pd.read_csv('fit_parameters/dfs_to_use/new_gauss_su_charm_no_yes.csv')\n",
    "#df_prm1 = pd.read_csv('fit_parameters/dfs_to_use/new_gauss_su_charm_no_yes_1.csv')\n",
    "#df_prm2 = pd.read_csv('fit_parameters/dfs_to_use/new_gauss_su_charm_no_yes_2.csv')\n",
    "df_prm3 = pd.read_csv('fit_parameters/dfs_to_use/new_gauss_su_charm_no_yes_3.csv')\n",
    "df_prm4 = pd.read_csv('fit_parameters/dfs_to_use/new_gauss_su_charm_no_yes_4.csv')\n",
    "df_prm5 = pd.read_csv('fit_parameters/dfs_to_use/new_gauss_su_charm_no_yes_5.csv')"
   ]
  },
  {
   "cell_type": "code",
   "execution_count": 17,
   "metadata": {},
   "outputs": [
    {
     "data": {
      "text/plain": [
       "NUP       0.178502\n",
       "NDO      -0.365561\n",
       "NST      -0.121089\n",
       "NSEA     -0.126869\n",
       "ADO       0.755289\n",
       "AST       0.854170\n",
       "BUP       2.727494\n",
       "BSEA      1.571285\n",
       "PP2       0.093429\n",
       "chi     137.081482\n",
       "dtype: float64"
      ]
     },
     "execution_count": 17,
     "metadata": {},
     "output_type": "execute_result"
    }
   ],
   "source": [
    "df = pd.concat([df_prm3,df_prm4,df_prm5])\n",
    "df.mean()"
   ]
  },
  {
   "cell_type": "code",
   "execution_count": 18,
   "metadata": {},
   "outputs": [
    {
     "data": {
      "text/plain": [
       "110.02038099813332"
      ]
     },
     "execution_count": 18,
     "metadata": {},
     "output_type": "execute_result"
    }
   ],
   "source": [
    "df['chi'].min()"
   ]
  },
  {
   "cell_type": "code",
   "execution_count": 19,
   "metadata": {},
   "outputs": [],
   "source": [
    "chi_min = 109.6\n",
    "df_new=df.loc[(df['chi']<chi_min+17.21)]"
   ]
  },
  {
   "cell_type": "code",
   "execution_count": 20,
   "metadata": {},
   "outputs": [],
   "source": [
    "df_new.to_csv(r'fit_parameters/dfs_to_use/new_gauss_su_charm_no_yes_def.csv',index=False)"
   ]
  },
  {
   "cell_type": "code",
   "execution_count": 21,
   "metadata": {},
   "outputs": [],
   "source": [
    "#df_prm = pd.read_csv('fit_parameters/dfs_to_use/new_gauss_su_charm_yes_yes.csv')\n",
    "#df_prm1 = pd.read_csv('fit_parameters/dfs_to_use/new_gauss_su_charm_yes_yes_1.csv')\n",
    "#df_prm2 = pd.read_csv('fit_parameters/dfs_to_use/new_gauss_su_charm_yes_yes_2.csv')\n",
    "df_prm3 = pd.read_csv('fit_parameters/dfs_to_use/new_gauss_su_charm_yes_yes_3.csv')\n",
    "df_prm4 = pd.read_csv('fit_parameters/dfs_to_use/new_gauss_su_charm_yes_yes_4.csv')\n",
    "df_prm5 = pd.read_csv('fit_parameters/dfs_to_use/new_gauss_su_charm_yes_yes_5.csv')"
   ]
  },
  {
   "cell_type": "code",
   "execution_count": 26,
   "metadata": {},
   "outputs": [
    {
     "data": {
      "text/plain": [
       "NUP       0.207607\n",
       "NDO      -0.127288\n",
       "NST      -0.251832\n",
       "NSEA     -0.164981\n",
       "AST       2.103213\n",
       "BUP       2.431379\n",
       "BDO       1.140519\n",
       "PP2       0.116985\n",
       "chi     139.976178\n",
       "dtype: float64"
      ]
     },
     "execution_count": 26,
     "metadata": {},
     "output_type": "execute_result"
    }
   ],
   "source": [
    "df = pd.concat([df_prm,df_prm1,df_prm2,df_prm3,df_prm4,df_prm5])\n",
    "df.mean()"
   ]
  },
  {
   "cell_type": "code",
   "execution_count": 27,
   "metadata": {},
   "outputs": [
    {
     "data": {
      "text/plain": [
       "127.77995311807342"
      ]
     },
     "execution_count": 27,
     "metadata": {},
     "output_type": "execute_result"
    }
   ],
   "source": [
    "df['chi'].min()"
   ]
  },
  {
   "cell_type": "code",
   "execution_count": 28,
   "metadata": {},
   "outputs": [],
   "source": [
    "chi_min = 118.4\n",
    "df_new=df.loc[(df['chi']<chi_min+17.21)]"
   ]
  },
  {
   "cell_type": "code",
   "execution_count": 30,
   "metadata": {},
   "outputs": [],
   "source": [
    "df_new.to_csv(r'fit_parameters/dfs_to_use/new_gauss_su_charm_yes_yes_def.csv',index=False)"
   ]
  },
  {
   "cell_type": "code",
   "execution_count": null,
   "metadata": {},
   "outputs": [],
   "source": []
  }
 ],
 "metadata": {
  "kernelspec": {
   "display_name": "Python 3 (ipykernel)",
   "language": "python",
   "name": "python3"
  },
  "language_info": {
   "codemirror_mode": {
    "name": "ipython",
    "version": 3
   },
   "file_extension": ".py",
   "mimetype": "text/x-python",
   "name": "python",
   "nbconvert_exporter": "python",
   "pygments_lexer": "ipython3",
   "version": "3.9.7"
  }
 },
 "nbformat": 4,
 "nbformat_minor": 2
}
