{
 "cells": [
  {
   "cell_type": "code",
   "execution_count": 1,
   "metadata": {},
   "outputs": [
    {
     "name": "stdout",
     "output_type": "stream",
     "text": [
      "/home/zackmrc/Documenti/git_project/SIDIS_epem_git/def_convolution_v3.1_survey_PV17_charm\n"
     ]
    }
   ],
   "source": [
    "from pylab import*\n",
    "import matplotlib.pyplot as plt\n",
    "from numpy import*\n",
    "from matplotlib.pyplot import*\n",
    "import pandas as pd\n",
    "from iminuit import Minuit\n",
    "from def_conv_crs_2h import*\n",
    "from def_conv_crs_1h import*\n",
    "from least_squares_lh import*"
   ]
  },
  {
   "cell_type": "code",
   "execution_count": 2,
   "metadata": {},
   "outputs": [],
   "source": [
    "dati_lh2=pd.read_csv(\"exp_data/lambda_had_global.dat\", delimiter=r\"\\s+\", header=0, engine='python')"
   ]
  },
  {
   "cell_type": "code",
   "execution_count": 3,
   "metadata": {},
   "outputs": [],
   "source": [
    "ct_h2 = 5\n",
    "ct_h1 = 'all'\n",
    "\n",
    "charm = 'yes'\n",
    "mdl_den = 'pwr_lw_star'\n",
    "mdl_num = 'gauss'\n",
    "\n",
    "\n",
    "lst = least_sq(ct_h2,ct_h1,charm,mdl_den)\n",
    "lst.mm = 1.115\n",
    "#lst.data_cut = self.cut\n",
    "lst.unp_wd = 0.2\n",
    "lst.f2 = 'dss'\n",
    "\n",
    "lst.coef = 0.27\n",
    "\n",
    "lst.g_k_2h = 'PV17' \n",
    "\n",
    "lst.mdl_num = mdl_num\n",
    "lst.mdl_den = mdl_den\n",
    "\n",
    "lst.su2 = 'no'\n",
    "lst.nf=4\n",
    "#lst.charm = self.charm\n",
    "lst.scale = 10.58 \n",
    "lst.correct = 'no'\n"
   ]
  },
  {
   "cell_type": "code",
   "execution_count": 4,
   "metadata": {},
   "outputs": [
    {
     "data": {
      "text/html": [
       "<div>\n",
       "<style scoped>\n",
       "    .dataframe tbody tr th:only-of-type {\n",
       "        vertical-align: middle;\n",
       "    }\n",
       "\n",
       "    .dataframe tbody tr th {\n",
       "        vertical-align: top;\n",
       "    }\n",
       "\n",
       "    .dataframe thead th {\n",
       "        text-align: right;\n",
       "    }\n",
       "</style>\n",
       "<table border=\"1\" class=\"dataframe\">\n",
       "  <thead>\n",
       "    <tr style=\"text-align: right;\">\n",
       "      <th></th>\n",
       "      <th>NUP</th>\n",
       "      <th>NDO</th>\n",
       "      <th>NST</th>\n",
       "      <th>NSEA</th>\n",
       "      <th>AUP</th>\n",
       "      <th>ADO</th>\n",
       "      <th>AST</th>\n",
       "      <th>ASEA</th>\n",
       "      <th>BUP</th>\n",
       "      <th>BDO</th>\n",
       "      <th>BST</th>\n",
       "      <th>BSEA</th>\n",
       "      <th>PP</th>\n",
       "      <th>MSS</th>\n",
       "      <th>coef</th>\n",
       "      <th>chi_sq</th>\n",
       "    </tr>\n",
       "  </thead>\n",
       "  <tbody>\n",
       "    <tr>\n",
       "      <th>0</th>\n",
       "      <td>0.17767</td>\n",
       "      <td>-0.37635</td>\n",
       "      <td>-0.120607</td>\n",
       "      <td>-0.12731</td>\n",
       "      <td>0.0</td>\n",
       "      <td>0.773697</td>\n",
       "      <td>0.84825</td>\n",
       "      <td>0.0</td>\n",
       "      <td>2.709673</td>\n",
       "      <td>0.0</td>\n",
       "      <td>0.0</td>\n",
       "      <td>1.589869</td>\n",
       "      <td>0.093485</td>\n",
       "      <td>0.0</td>\n",
       "      <td>0.27</td>\n",
       "      <td>1.259</td>\n",
       "    </tr>\n",
       "  </tbody>\n",
       "</table>\n",
       "</div>"
      ],
      "text/plain": [
       "       NUP      NDO       NST     NSEA  AUP       ADO      AST  ASEA  \\\n",
       "0  0.17767 -0.37635 -0.120607 -0.12731  0.0  0.773697  0.84825   0.0   \n",
       "\n",
       "        BUP  BDO  BST      BSEA        PP  MSS  coef  chi_sq  \n",
       "0  2.709673  0.0  0.0  1.589869  0.093485  0.0  0.27   1.259  "
      ]
     },
     "execution_count": 4,
     "metadata": {},
     "output_type": "execute_result"
    }
   ],
   "source": [
    "prm=pd.read_csv('fit_parameters/fit_hadron_coef_0.27_chi_1.259__True_gk_PV17_su_no_charmyes_correction_no.csv')\n",
    "prm"
   ]
  },
  {
   "cell_type": "code",
   "execution_count": 5,
   "metadata": {},
   "outputs": [
    {
     "data": {
      "text/plain": [
       "0    0.17767\n",
       "Name: NUP, dtype: float64"
      ]
     },
     "execution_count": 5,
     "metadata": {},
     "output_type": "execute_result"
    }
   ],
   "source": [
    "prm['NUP']"
   ]
  },
  {
   "cell_type": "code",
   "execution_count": 6,
   "metadata": {},
   "outputs": [
    {
     "name": "stdout",
     "output_type": "stream",
     "text": [
      "0.17767041251122026\n"
     ]
    }
   ],
   "source": [
    "for nup in prm.NUP:\n",
    "    print(nup)"
   ]
  },
  {
   "cell_type": "code",
   "execution_count": 7,
   "metadata": {},
   "outputs": [
    {
     "data": {
      "text/plain": [
       "array([0.17767041])"
      ]
     },
     "execution_count": 7,
     "metadata": {},
     "output_type": "execute_result"
    }
   ],
   "source": [
    "prm['NUP'].to_numpy()"
   ]
  },
  {
   "cell_type": "code",
   "execution_count": 8,
   "metadata": {},
   "outputs": [],
   "source": [
    "f_prm=arange(0.,18.,1.)\n",
    "f_prm[0] = prm['NUP'].to_numpy() # par[0]   #up\n",
    "f_prm[1] = prm['NDO'].to_numpy() #par[0]  #do\n",
    "f_prm[2] = prm['NST'].to_numpy() #par[0]      #st\n",
    "f_prm[3] = prm['NSEA'].to_numpy() #par[0]      #upb\n",
    "f_prm[4] = f_prm[3] #par[0]      #dob\n",
    "f_prm[5] = f_prm[3] # par[0]      #stb\n",
    "#¯¯¯¯¯¯\n",
    "f_prm[6] = prm['AUP'].to_numpy() #par[0]      #aup\n",
    "f_prm[7] = prm['ADO'].to_numpy() #par[0]      #ado\n",
    "f_prm[8] = prm['AST'].to_numpy() # par[0]      #ast\n",
    "f_prm[9] = prm['ASEA'].to_numpy()# par[0]      #aupb\n",
    "f_prm[10] = f_prm[9] #par[0]      #adob\n",
    "f_prm[11] = f_prm[9] #par[0]      #astb\n",
    "#¯#¯¯¯¯¯¯¯\n",
    "f_prm[12] = prm['BUP'].to_numpy() #par[0]      #bup\n",
    "f_prm[13] = prm['BDO'].to_numpy() #par[0]      #bdo\n",
    "f_prm[14] = prm['BST'].to_numpy() # par[0]      #bst\n",
    "f_prm[15] = prm['BSEA'].to_numpy() #par[0]      #bupb\n",
    "f_prm[16] = f_prm[15] #par[0]      #bdob\n",
    "f_prm[17] = f_prm[15] # par[0]      #bstb\n",
    "pt_pp=prm['PP'].to_numpy()\n"
   ]
  },
  {
   "cell_type": "code",
   "execution_count": 9,
   "metadata": {},
   "outputs": [],
   "source": [
    "fnc = polarization(0.27)\n",
    "fnc.scale = 10.58\n",
    "fnc.mass = 1.115 \n",
    "fnc.frag2 = 'dss'\n",
    "fnc.mdl_num = mdl_num \n",
    "fnc.mdl_den = mdl_den \n",
    "\n",
    "fnc.g_k = 'PV17' \n",
    "fnc.charm='yes'\n",
    "fnc.nf=4\n"
   ]
  },
  {
   "cell_type": "code",
   "execution_count": 10,
   "metadata": {},
   "outputs": [
    {
     "name": "stderr",
     "output_type": "stream",
     "text": [
      "/home/zackmrc/Documenti/git_project/SIDIS_epem_git/def_convolution_v3.1_survey_PV17_charm/Sudakov/sudakov_factor.py:63: RuntimeWarning: invalid value encountered in double_scalars\n",
      "  bstar = bstar/(1-np.exp(-bt**4/self.bmin**4))**(1/4)\n"
     ]
    },
    {
     "data": {
      "text/plain": [
       "-0.0006577504731062382"
      ]
     },
     "execution_count": 10,
     "metadata": {},
     "output_type": "execute_result"
    }
   ],
   "source": [
    "fnc.numerator('lbd','pi+',0.25,0.45,f_prm,pt_pp,0)"
   ]
  },
  {
   "cell_type": "code",
   "execution_count": 11,
   "metadata": {},
   "outputs": [
    {
     "name": "stdout",
     "output_type": "stream",
     "text": [
      "109.57184603502867\n"
     ]
    }
   ],
   "source": [
    "chi=lst.least_squares_lh(prm['NUP'].to_numpy(),prm['NDO'].to_numpy(),prm['NST'].to_numpy(),prm['NSEA'].to_numpy(),\\\n",
    "                         prm['AUP'].to_numpy(),prm['ADO'].to_numpy(),prm['AST'].to_numpy(),prm['ASEA'].to_numpy(),\\\n",
    "                         prm['BUP'].to_numpy(),prm['BDO'].to_numpy(),prm['BST'].to_numpy(),prm['BSEA'].to_numpy(),prm['PP'].to_numpy(),prm['MSS'].to_numpy())"
   ]
  },
  {
   "cell_type": "code",
   "execution_count": null,
   "metadata": {
    "collapsed": true
   },
   "outputs": [],
   "source": []
  },
  {
   "cell_type": "code",
   "execution_count": 15,
   "metadata": {},
   "outputs": [
    {
     "name": "stderr",
     "output_type": "stream",
     "text": [
      "/home/zackmrc/Documenti/git_project/SIDIS_epem_git/def_convolution_v3.1_survey_PV17_charm/Sudakov/sudakov_factor.py:63: RuntimeWarning: invalid value encountered in double_scalars\n",
      "  bstar = bstar/(1-np.exp(-bt**4/self.bmin**4))**(1/4)\n"
     ]
    },
    {
     "name": "stdout",
     "output_type": "stream",
     "text": [
      "51.323765441573435\n"
     ]
    }
   ],
   "source": [
    "ct_h2 = 'pions_cut'\n",
    "ct_h1 = 'all'\n",
    "\n",
    "charm = 'yes'\n",
    "mdl_den = 'pwr_lw_star'\n",
    "mdl_num = 'gauss'\n",
    "\n",
    "\n",
    "lst = least_sq(ct_h2,ct_h1,charm,mdl_den)\n",
    "lst.mm = 1.115\n",
    "#lst.data_cut = self.cut\n",
    "lst.unp_wd = 0.2\n",
    "lst.f2 = 'dss'\n",
    "\n",
    "lst.coef = 0.27\n",
    "\n",
    "lst.g_k_2h = 'PV17' \n",
    "\n",
    "lst.mdl_num = mdl_num\n",
    "lst.mdl_den = mdl_den\n",
    "\n",
    "lst.su2 = 'no'\n",
    "lst.nf=4\n",
    "#lst.charm = self.charm\n",
    "lst.scale = 10.58 \n",
    "lst.correct = 'no'\n",
    "chi=lst.least_squares_lh(prm['NUP'].to_numpy(),prm['NDO'].to_numpy(),prm['NST'].to_numpy(),prm['NSEA'].to_numpy(),\\\n",
    "                         prm['AUP'].to_numpy(),prm['ADO'].to_numpy(),prm['AST'].to_numpy(),prm['ASEA'].to_numpy(),\\\n",
    "                         prm['BUP'].to_numpy(),prm['BDO'].to_numpy(),prm['BST'].to_numpy(),prm['BSEA'].to_numpy(),prm['PP'].to_numpy(),prm['MSS'].to_numpy())"
   ]
  },
  {
   "cell_type": "code",
   "execution_count": 13,
   "metadata": {},
   "outputs": [
    {
     "ename": "NameError",
     "evalue": "name 'tr' is not defined",
     "output_type": "error",
     "traceback": [
      "\u001b[0;31m---------------------------------------------------------------------------\u001b[0m",
      "\u001b[0;31mNameError\u001b[0m                                 Traceback (most recent call last)",
      "\u001b[0;32m<ipython-input-13-b9f591a3282b>\u001b[0m in \u001b[0;36m<module>\u001b[0;34m\u001b[0m\n\u001b[0;32m----> 1\u001b[0;31m \u001b[0msum\u001b[0m\u001b[0;34m(\u001b[0m\u001b[0mtr\u001b[0m\u001b[0;34m)\u001b[0m\u001b[0;34m/\u001b[0m\u001b[0;36m96\u001b[0m\u001b[0;34m\u001b[0m\u001b[0;34m\u001b[0m\u001b[0m\n\u001b[0m",
      "\u001b[0;31mNameError\u001b[0m: name 'tr' is not defined"
     ]
    }
   ],
   "source": [
    "sum(tr)/96"
   ]
  },
  {
   "cell_type": "code",
   "execution_count": null,
   "metadata": {},
   "outputs": [],
   "source": [
    "dati_lh2=pd.read_csv(\"exp_data/lambda_had_global.dat\", delimiter=r\"\\s+\", header=0, engine='python')\n",
    "dati_lh2=dati_lh2.loc[~(dati_lh2['z2']>0.5) ]\n",
    "dati_lh2=dati_lh2.loc[(dati_lh2['h2']==100) |(dati_lh2['h2']==105)]\n",
    "dati_lh2"
   ]
  },
  {
   "cell_type": "code",
   "execution_count": null,
   "metadata": {},
   "outputs": [],
   "source": []
  },
  {
   "cell_type": "code",
   "execution_count": null,
   "metadata": {},
   "outputs": [],
   "source": []
  }
 ],
 "metadata": {
  "kernelspec": {
   "display_name": "Python 3",
   "language": "python",
   "name": "python3"
  },
  "language_info": {
   "codemirror_mode": {
    "name": "ipython",
    "version": 3
   },
   "file_extension": ".py",
   "mimetype": "text/x-python",
   "name": "python",
   "nbconvert_exporter": "python",
   "pygments_lexer": "ipython3",
   "version": "3.7.3"
  }
 },
 "nbformat": 4,
 "nbformat_minor": 2
}
