{
 "cells": [
  {
   "cell_type": "code",
   "execution_count": 1,
   "metadata": {},
   "outputs": [],
   "source": [
    "# -*- coding: utf-8 -*-\n",
    "from pylab import*\n",
    "import matplotlib.pyplot as plt\n",
    "from numpy import*\n",
    "from matplotlib.pyplot import*\n",
    "import pandas as pd\n",
    "from iminuit import Minuit\n",
    "from least_squares_lh import*\n",
    "import time \n",
    "from datetime import datetime\n"
   ]
  },
  {
   "cell_type": "code",
   "execution_count": 2,
   "metadata": {},
   "outputs": [],
   "source": [
    "nup = 0.1\n",
    "ndo = -0.1\n",
    "nst = -0.1\n",
    "nsea = -0.2\n",
    "\n",
    "aup = 0.\n",
    "ado = 0.\n",
    "ast = 1.\n",
    "asea = 0.\n",
    "\n",
    "bup = 1.\n",
    "bdo = 0.\n",
    "bst = 0.\n",
    "bsea = 1.\n",
    "\n",
    "pp=0.1\n",
    "mss = 0.\n",
    "##"
   ]
  },
  {
   "cell_type": "code",
   "execution_count": 3,
   "metadata": {},
   "outputs": [],
   "source": [
    "nup_fix = False\n",
    "ndo_fix = False\n",
    "nst_fix = False\n",
    "nsea_fix = False\n",
    "\n",
    "aup_fix = True\n",
    "ado_fix = True\n",
    "ast_fix = False\n",
    "asea_fix = True\n",
    "\n",
    "bup_fix = False\n",
    "bdo_fix = True\n",
    "bst_fix = True\n",
    "bsea_fix = False\n",
    "\n",
    "pp_fix = False\n",
    "mss_fix = True\n",
    "\n",
    "nst_lt_lw = -1\n",
    "nst_lt_up = 1\n",
    "\n",
    "pp_up_lim=None\n",
    "pp_down_lim=0.\n"
   ]
  },
  {
   "cell_type": "code",
   "execution_count": 4,
   "metadata": {},
   "outputs": [],
   "source": [
    "ct_h2 = 5  # 0 : global, 1: cut umb; 2 : my cut; 5: cut_paper\n",
    "ct_h1 = 'all'\n",
    "\n",
    "lst = least_sq(ct_h2,ct_h1)\n",
    "\n"
   ]
  },
  {
   "cell_type": "code",
   "execution_count": 5,
   "metadata": {},
   "outputs": [],
   "source": [
    "lst.mm = 1.115\n",
    "#lst.data_cut = self.cut\n",
    "lst.unp_wd = 0.2\n",
    "lst.f2 = 'dss'\n",
    "\n",
    "lst.coef = 0.27\n",
    "\n",
    "lst.g_k_1h = 'log_b'\n",
    "lst.g_k_2h = 'log_b' \n",
    "\n",
    "lst.mdl_den = 'gauss'\n",
    "lst.mdl_num = 'gauss'\n",
    "\n",
    "fit_type = 'hadron'\n"
   ]
  },
  {
   "cell_type": "code",
   "execution_count": 6,
   "metadata": {},
   "outputs": [],
   "source": [
    "if fit_type == 'hadron' : least_sq = lst.least_squares_lh\n",
    "elif fit_type == 'both' : least_sq = lst.least_squares_ljh\n",
    "    \n",
    "\n",
    "fit6 = Minuit(least_sq, NUP= nup ,NDO= ndo, NST=nst, NSEA=nsea,\\\n",
    "              AUP=aup,ADO=ado,AST=ast,ASEA=asea,BUP=bup,BDO=bdo,\\\n",
    "              BST=bst,BSEA=bsea,PP=pp,MSS=mss, error_NUP=0.001,error_NDO=0.001,\\\n",
    "              error_NST=0.001,error_NSEA=0.001,error_AUP=0.001,error_ADO=0.001,error_AST=0.001,\\\n",
    "              error_BUP=0.001,error_BDO=0.001,error_BSEA=0.001,error_PP=0.005,error_MSS=0.005,\\\n",
    "              fix_NUP=nup_fix,fix_NDO=ndo_fix  ,fix_NST=nst_fix  ,fix_NSEA=nsea_fix ,\\\n",
    "              fix_AUP=aup_fix ,fix_ADO=ado_fix ,fix_AST=ast_fix ,fix_ASEA=asea_fix,\\\n",
    "              fix_BUP=bup_fix,fix_BDO=bdo_fix, fix_BST=bst_fix,fix_BSEA=bsea_fix, \\\n",
    "              fix_PP=pp_fix, limit_NUP=(None,None),limit_NDO=(None,None),\\\n",
    "              limit_NST=(None,None ), limit_NSEA=(None,None), limit_BUP=(0., 20.),\\\n",
    "              limit_AST=(0., None),limit_BSEA=(0., None), limit_PP=(pp_down_lim, pp_up_lim),limit_MSS=(0., None) , \\\n",
    "              errordef=1)\n"
   ]
  },
  {
   "cell_type": "code",
   "execution_count": 7,
   "metadata": {},
   "outputs": [
    {
     "name": "stdout",
     "output_type": "stream",
     "text": [
      "Current Time = 15:37:11\n"
     ]
    }
   ],
   "source": [
    "now = datetime.now()\n",
    "current_time = now.strftime(\"%H:%M:%S\")\n",
    "print(\"Current Time =\", current_time)\n",
    "start = time.time()"
   ]
  },
  {
   "cell_type": "code",
   "execution_count": null,
   "metadata": {},
   "outputs": [],
   "source": [
    "fit6.migrad()"
   ]
  },
  {
   "cell_type": "code",
   "execution_count": null,
   "metadata": {},
   "outputs": [],
   "source": [
    "end = time.time()\n",
    "mins=(end -start)/60\n",
    "print('¯¯¯¯¯¯¯¯¯¯¯¯¯¯¯¯¯¯¯¯¯¯¯¯¯¯¯¯¯¯¯¯¯¯¯¯¯¯¯¯¯¯¯')\n",
    "print('time passed:')\n",
    "\n",
    "print(str(end - start) +'   ' + 'sec')\n",
    "print(str((end - start)/60) +'   ' + 'min')"
   ]
  },
  {
   "cell_type": "code",
   "execution_count": null,
   "metadata": {},
   "outputs": [],
   "source": [
    "pwd"
   ]
  },
  {
   "cell_type": "code",
   "execution_count": null,
   "metadata": {},
   "outputs": [],
   "source": [
    "print( 'reduced chi-square = ' + str( fit6.fval/(len(lst.z2) - 8) ))"
   ]
  },
  {
   "cell_type": "code",
   "execution_count": null,
   "metadata": {},
   "outputs": [],
   "source": [
    "fit6.draw_profile('NUP')"
   ]
  },
  {
   "cell_type": "code",
   "execution_count": null,
   "metadata": {},
   "outputs": [],
   "source": [
    "a , fa = fit6.profile('NUP')\n",
    "plt.plot(a, fa)\n",
    "plt.xlim(0.55,0.75);"
   ]
  },
  {
   "cell_type": "code",
   "execution_count": null,
   "metadata": {},
   "outputs": [],
   "source": []
  },
  {
   "cell_type": "code",
   "execution_count": null,
   "metadata": {},
   "outputs": [],
   "source": []
  }
 ],
 "metadata": {
  "kernelspec": {
   "display_name": "Python 3",
   "language": "python",
   "name": "python3"
  },
  "language_info": {
   "codemirror_mode": {
    "name": "ipython",
    "version": 3
   },
   "file_extension": ".py",
   "mimetype": "text/x-python",
   "name": "python",
   "nbconvert_exporter": "python",
   "pygments_lexer": "ipython3",
   "version": "3.7.3"
  }
 },
 "nbformat": 4,
 "nbformat_minor": 2
}
