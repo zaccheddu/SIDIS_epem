{
 "cells": [
  {
   "cell_type": "code",
   "execution_count": 1,
   "metadata": {},
   "outputs": [],
   "source": [
    "from pylab import*\n",
    "import matplotlib.pyplot as plt\n",
    "import numpy as np\n",
    "from matplotlib.pyplot import*\n",
    "from scipy import special\n",
    "from def_crs import*\n",
    "from model_fct import*\n",
    "from g_funct import*\n",
    "from FBT import FBT \n",
    "from model_fct import*\n",
    "from def_conv_crs_1h import*\n",
    "from def_conv_crs_2h import*\n",
    "\n",
    "import pandas as pd\n",
    "import sys \n"
   ]
  },
  {
   "cell_type": "code",
   "execution_count": 2,
   "metadata": {},
   "outputs": [],
   "source": [
    "chi=1.278 #sys.argv[2] #1.337\n",
    "coef = 0.27\n",
    "\n",
    "fit_type= 'hadron' #sys.argv[3] #'hadron'\n",
    "df = pd.read_csv(\"fit_parameters/fit_\"+str(fit_type)+\"_coef_\"+str(coef)+\"_chi_\"+str(chi)+\".csv\") \n",
    "# sys.argv[4] # 'blny'\n",
    "\n",
    "#print (sys.argv[1])\n",
    "#print (sys.argv[1])\n",
    "\n",
    "#coef=0.5\n",
    "\n",
    "\n",
    "#print(fit_type)\n",
    "#print(gk_type)\n",
    "# In[3]:\n",
    "\n",
    "\n",
    "f_prm=arange(0.,18.,1.)\n",
    "f_prm[0] = df['NUP']\n",
    "f_prm[1] = df['NDO']#par[0]  #do\n",
    "f_prm[2] = df['NST']  #par[0]      #st\n",
    "f_prm[3] = df['NSEA']  #par[0]      #upb\n",
    "f_prm[4] = f_prm[3] #par[0]      #dob\n",
    "f_prm[5] = f_prm[3] # par[0]      #stb\n",
    "#¯¯¯¯¯¯\n",
    "f_prm[6] = 0 #par[0]      #aup\n",
    "f_prm[7] = 0 #par[0]      #ado\n",
    "f_prm[8] = df['AST']  # par[0]      #ast\n",
    "f_prm[9] = 0# par[0]      #aupb\n",
    "f_prm[10] = f_prm[9] #par[0]      #adob\n",
    "f_prm[11] = f_prm[9] #par[0]      #astb\n",
    "#¯#¯¯¯¯¯¯¯\n",
    "f_prm[12] = df['BUP'] #par[0]      #bup\n",
    "f_prm[13] = 0 #par[0]      #bdo\n",
    "f_prm[14] = 0# par[0]      #bst\n",
    "f_prm[15] =  df['BSEA'] #par[0]      #bupb\n",
    "f_prm[16] = f_prm[15] #par[0]      #bdob\n",
    "f_prm[17] = f_prm[15] # par[0]      #bstb\n",
    "pt_pp=float(df['PP'])\n"
   ]
  },
  {
   "cell_type": "code",
   "execution_count": 3,
   "metadata": {},
   "outputs": [
    {
     "data": {
      "text/html": [
       "<div>\n",
       "<style scoped>\n",
       "    .dataframe tbody tr th:only-of-type {\n",
       "        vertical-align: middle;\n",
       "    }\n",
       "\n",
       "    .dataframe tbody tr th {\n",
       "        vertical-align: top;\n",
       "    }\n",
       "\n",
       "    .dataframe thead th {\n",
       "        text-align: right;\n",
       "    }\n",
       "</style>\n",
       "<table border=\"1\" class=\"dataframe\">\n",
       "  <thead>\n",
       "    <tr style=\"text-align: right;\">\n",
       "      <th></th>\n",
       "      <th>NUP</th>\n",
       "      <th>NDO</th>\n",
       "      <th>NST</th>\n",
       "      <th>NSEA</th>\n",
       "      <th>AUP</th>\n",
       "      <th>ADO</th>\n",
       "      <th>AST</th>\n",
       "      <th>ASEA</th>\n",
       "      <th>BUP</th>\n",
       "      <th>BDO</th>\n",
       "      <th>BST</th>\n",
       "      <th>BSEA</th>\n",
       "      <th>PP</th>\n",
       "      <th>coef</th>\n",
       "      <th>chi_sq</th>\n",
       "    </tr>\n",
       "  </thead>\n",
       "  <tbody>\n",
       "    <tr>\n",
       "      <th>0</th>\n",
       "      <td>0.673364</td>\n",
       "      <td>-0.490214</td>\n",
       "      <td>-0.905787</td>\n",
       "      <td>-0.380766</td>\n",
       "      <td>0.0</td>\n",
       "      <td>0.0</td>\n",
       "      <td>2.374265</td>\n",
       "      <td>0.0</td>\n",
       "      <td>4.478285</td>\n",
       "      <td>0.0</td>\n",
       "      <td>0.0</td>\n",
       "      <td>2.971445</td>\n",
       "      <td>0.101215</td>\n",
       "      <td>0.27</td>\n",
       "      <td>1.278</td>\n",
       "    </tr>\n",
       "  </tbody>\n",
       "</table>\n",
       "</div>"
      ],
      "text/plain": [
       "        NUP       NDO       NST      NSEA  AUP  ADO       AST  ASEA       BUP  \\\n",
       "0  0.673364 -0.490214 -0.905787 -0.380766  0.0  0.0  2.374265   0.0  4.478285   \n",
       "\n",
       "   BDO  BST      BSEA        PP  coef  chi_sq  \n",
       "0  0.0  0.0  2.971445  0.101215  0.27   1.278  "
      ]
     },
     "execution_count": 3,
     "metadata": {},
     "output_type": "execute_result"
    }
   ],
   "source": [
    "df"
   ]
  },
  {
   "cell_type": "code",
   "execution_count": 4,
   "metadata": {},
   "outputs": [],
   "source": [
    "fnc = polarization(coef)"
   ]
  },
  {
   "cell_type": "code",
   "execution_count": 5,
   "metadata": {},
   "outputs": [],
   "source": [
    "fnc.mass = 1.115\n",
    "gk_type = 'log_b'\n",
    "fnc.g_k = gk_type\n",
    "\n",
    "fnc1h = polarization_1h()\n",
    "fnc1h.mass = 1.115\n",
    "fnc1h.g_k = gk_type\n",
    "fnc1h.bmax = 0.5\n"
   ]
  },
  {
   "cell_type": "code",
   "execution_count": 6,
   "metadata": {},
   "outputs": [],
   "source": [
    "pts = linspace(0.01,1.2,50)\n",
    "rat = zeros(len(pts))\n",
    "num = zeros(len(pts))\n",
    "den = zeros(len(pts))\n",
    "\n",
    "had1 = 'lbd'\n",
    "zh = 0.25\n",
    "\n",
    "fnc1h.mdl_den = 'gauss'\n",
    "fnc1h.mdl_num = 'gauss'\n"
   ]
  },
  {
   "cell_type": "code",
   "execution_count": 7,
   "metadata": {},
   "outputs": [
    {
     "name": "stderr",
     "output_type": "stream",
     "text": [
      "/home/zackmrc/Documenti/git_project/lambda_fit/def_convolution_v2/def_crs.py:310: RuntimeWarning: invalid value encountered in sqrt\n",
      "  mp=sqrt( (pt_pl1*pt_pp)/(pt_pl1-pt_pp))\n"
     ]
    }
   ],
   "source": [
    "for i in range(len(pts)):\n",
    "    rat[i] = fnc1h.ratio(had1,zh,pts[i],f_prm,pt_pp,0.)\n",
    "    num[i] = fnc1h.numerator(had1,zh,pts[i],f_prm,pt_pp,0.)\n",
    "    den[i] = fnc1h.denominator(had1,zh,pts[i])\n",
    "    "
   ]
  },
  {
   "cell_type": "code",
   "execution_count": 8,
   "metadata": {},
   "outputs": [
    {
     "data": {
      "text/plain": [
       "[<matplotlib.lines.Line2D at 0x7fabdba60a20>]"
      ]
     },
     "execution_count": 8,
     "metadata": {},
     "output_type": "execute_result"
    },
    {
     "data": {
      "image/png": "[encoded data removed]",
      "text/plain": [
       "<Figure size 432x288 with 1 Axes>"
      ]
     },
     "metadata": {
      "needs_background": "light"
     },
     "output_type": "display_data"
    }
   ],
   "source": [
    "plot(pts,rat)"
   ]
  },
  {
   "cell_type": "code",
   "execution_count": 9,
   "metadata": {},
   "outputs": [
    {
     "data": {
      "text/plain": [
       "[<matplotlib.lines.Line2D at 0x7fabdb9c45f8>]"
      ]
     },
     "execution_count": 9,
     "metadata": {},
     "output_type": "execute_result"
    },
    {
     "data": {
      "image/png": "[encoded data removed]",
      "text/plain": [
       "<Figure size 432x288 with 1 Axes>"
      ]
     },
     "metadata": {
      "needs_background": "light"
     },
     "output_type": "display_data"
    }
   ],
   "source": [
    "plot(pts,num)\n",
    "plot(pts,den)\n",
    "#plot(pts,1.115*num/den)"
   ]
  },
  {
   "cell_type": "code",
   "execution_count": 10,
   "metadata": {},
   "outputs": [
    {
     "data": {
      "text/plain": [
       "'/home/zackmrc/Documenti/git_project/lambda_fit/def_convolution_v2'"
      ]
     },
     "execution_count": 10,
     "metadata": {},
     "output_type": "execute_result"
    }
   ],
   "source": [
    "pwd"
   ]
  },
  {
   "cell_type": "code",
   "execution_count": null,
   "metadata": {},
   "outputs": [],
   "source": []
  },
  {
   "cell_type": "code",
   "execution_count": null,
   "metadata": {},
   "outputs": [],
   "source": []
  }
 ],
 "metadata": {
  "kernelspec": {
   "display_name": "Python 3",
   "language": "python",
   "name": "python3"
  },
  "language_info": {
   "codemirror_mode": {
    "name": "ipython",
    "version": 3
   },
   "file_extension": ".py",
   "mimetype": "text/x-python",
   "name": "python",
   "nbconvert_exporter": "python",
   "pygments_lexer": "ipython3",
   "version": "3.7.3"
  }
 },
 "nbformat": 4,
 "nbformat_minor": 2
}
