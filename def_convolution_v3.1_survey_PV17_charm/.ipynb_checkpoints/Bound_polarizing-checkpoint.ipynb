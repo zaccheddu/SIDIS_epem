{
 "cells": [
  {
   "cell_type": "code",
   "execution_count": 1,
   "metadata": {},
   "outputs": [
    {
     "name": "stdout",
     "output_type": "stream",
     "text": [
      "/home/zackmrc/Documenti/git_project/SIDIS_epem_git/def_convolution_v3.1_survey_PV17_charm\n"
     ]
    }
   ],
   "source": [
    "from pylab import*\n",
    "import matplotlib.pyplot as plt\n",
    "import numpy as np\n",
    "from matplotlib.pyplot import*\n",
    "from scipy import special\n",
    "from def_crs import*\n",
    "from model_fct import*\n",
    "from g_funct import*\n",
    "from FBT import FBT \n",
    "from model_fct import*\n",
    "from Sudakov.sudakov_factor import*\n",
    "from Sudakov.evolve import evolve, sng\n",
    "from set_FF.FF_akk import akk_ff\n",
    "import scipy.integrate as integrate"
   ]
  },
  {
   "cell_type": "code",
   "execution_count": 2,
   "metadata": {},
   "outputs": [],
   "source": [
    "def gk_bac(bt,z1):\n",
    "    ml1= 1.115\n",
    "    scale= 10.58 ## GeV\n",
    "    bmax = 0.6\n",
    "    bmin=2*e**(-euler_gamma)/scale\n",
    "    \n",
    "    \n",
    "    eta_p= (1 - 4*ml1**2/z1**2/scale**2)\n",
    "    zp1 = z1*sqrt(eta_p)   # momentum fraction\n",
    "    zlc1 = (z1 + zp1)/2\n",
    "    \n",
    "    term = scale*zlc1/ml1\n",
    "    logs = np.log(term)\n",
    "    \n",
    "\n",
    "    b_new = sqrt(bt**2 + bmin**2)\n",
    "    g2 = 0.13\n",
    "    esp =  g2*logs*b_new**2\n",
    "    out =  np.exp(-esp)\n",
    "    \n",
    "    return out"
   ]
  },
  {
   "cell_type": "code",
   "execution_count": 3,
   "metadata": {},
   "outputs": [],
   "source": [
    "def unpolarized_FF(zz,pt,flav):\n",
    "        \n",
    "        ## zz energy fractionm\n",
    "        ## zp long fraction\n",
    "        ## zlcl light cone fraction\n",
    "        \n",
    "        bmax = 0.6\n",
    "        scale= 10.58 ## GeV\n",
    "        \n",
    "        ### bt_model\n",
    "        mdl1 = model_bt()\n",
    "        mdl1.mass = 1.115\n",
    "        mdl1.qq = scale\n",
    "\n",
    "        #### unpolarized FF model\n",
    "        \n",
    "        \n",
    "        \n",
    "        ### Sudakov factor\n",
    "        scl = Soft(1)\n",
    "        scl.bmax = bmax \n",
    "        scl.scale = scale\n",
    "        scl.nf= 4\n",
    "        \n",
    "        \n",
    "        \n",
    "        ############################# \n",
    "        # Unpolarized FF\n",
    "        ml1= 1.115\n",
    "        eta_p= (1 - 4*ml1**2/zz**2/scale**2)\n",
    "        zp1 = zz*sqrt(eta_p)   # momentum fraction\n",
    "        zlc1 = (zz + zp1)/2\n",
    "        \n",
    "        def fnc(btt):\n",
    "            model=mdl1.MD_bstar(btt,2.,zz,1.)\n",
    "            sudakov=scl.analytic_sudakov(btt)\n",
    "            sudakov=np.sqrt(sudakov)\n",
    "            gk=gk_bac(btt,zz)\n",
    "\n",
    "            dss1=akk_ff()\n",
    "            dup1=dss1.D1('lbd',flav,zp1,scl.mu_b(btt))\n",
    "\n",
    "            if flav in ['u','d','s']: fact=1/(2-zp1)\n",
    "            if flav in ['ub','db','sb']: fact=(1-zp1)/(2-zp1)\n",
    "            if flav in ['c','cb']: fact=0.5\n",
    "            dup1=dup1*fact             \n",
    "            \n",
    "            res= dup1*model*sudakov*gk/zlc1\n",
    "            return res\n",
    "        \n",
    "        test = lambda bt : bt*fnc(bt)\n",
    "        \n",
    "        N=10\n",
    "        fbt = FBT(0)\n",
    "        wfbt_unp = fbt.fbt(test,pt,N)\n",
    "\n",
    "        return wfbt_unp"
   ]
  },
  {
   "cell_type": "code",
   "execution_count": 4,
   "metadata": {},
   "outputs": [
    {
     "name": "stderr",
     "output_type": "stream",
     "text": [
      "/home/zackmrc/Documenti/git_project/SIDIS_epem_git/def_convolution_v3.1_survey_PV17_charm/Sudakov/sudakov_factor.py:63: RuntimeWarning: invalid value encountered in double_scalars\n",
      "  bstar = bstar/(1-np.exp(-bt**4/self.bmin**4))**(1/4)\n"
     ]
    },
    {
     "data": {
      "text/plain": [
       "[<matplotlib.lines.Line2D at 0x7f2419a3dcf8>]"
      ]
     },
     "execution_count": 4,
     "metadata": {},
     "output_type": "execute_result"
    },
    {
     "data": {
      "image/png": "[encoded data removed]",
      "text/plain": [
       "<Figure size 432x288 with 1 Axes>"
      ]
     },
     "metadata": {
      "needs_background": "light"
     },
     "output_type": "display_data"
    }
   ],
   "source": [
    "unp_u=array([])\n",
    "unp_ub=array([])\n",
    "\n",
    "pts=np.linspace(0.1,10,1000)\n",
    "for pt in pts:\n",
    "    unp_u=np.append(unp_u,unpolarized_FF(0.25,pt,'u'))\n",
    "    unp_ub=np.append(unp_ub,unpolarized_FF(0.25,pt,'s'))\n",
    "\n",
    "    #print(unp)\n",
    "\n",
    "plot(pts,unp_u)\n",
    "plot(pts,unp_ub)    "
   ]
  },
  {
   "cell_type": "code",
   "execution_count": 8,
   "metadata": {},
   "outputs": [],
   "source": [
    "def jack(z1):\n",
    "\n",
    "    ml=1.115\n",
    "    q=10.58\n",
    "\n",
    "    eta_p= (1 - 4*ml**2/z1**2/q**2)\n",
    "    zp1 = z1*sqrt(eta_p)\t# momentum fraction\n",
    "\n",
    "    zlc1 = 1/2*(z1 + zp1)\t#light-cone momentum fraction\n",
    "\n",
    "    jack= 2/(1 + sqrt(eta_p))\n",
    "\n",
    "\n",
    "    return jack, zlc1\n",
    "\n",
    "def integral(zz,flav):\n",
    "    ml1= 1.115\n",
    "    scale= 10.58 ## GeV\n",
    "    eta_p= (1 - 4*ml1**2/zz**2/scale**2)\n",
    "    zp1 = zz*sqrt(eta_p)   # momentum fraction\n",
    "    zlc1 = (zz + zp1)/2\n",
    "    \n",
    "    jacks, dummy = jack(zz)\n",
    "     \n",
    "        \n",
    "        \n",
    "    integrand=lambda pt : (pt**2/2/ml1/zlc1)*unpolarized_FF(zz,pt,flav)\n",
    "\n",
    "    result = integrate.quad(integrand, 0.2, 10)[0]\n",
    "    #print(result)\n",
    "    return result*jacks*zlc1"
   ]
  },
  {
   "cell_type": "code",
   "execution_count": 9,
   "metadata": {},
   "outputs": [
    {
     "data": {
      "text/plain": [
       "(1.3005960165259969, 0.19221956458683565)"
      ]
     },
     "execution_count": 9,
     "metadata": {},
     "output_type": "execute_result"
    }
   ],
   "source": [
    "jack(0.25)"
   ]
  },
  {
   "cell_type": "code",
   "execution_count": 10,
   "metadata": {},
   "outputs": [
    {
     "name": "stderr",
     "output_type": "stream",
     "text": [
      "/home/zackmrc/anaconda3/lib/python3.7/site-packages/ipykernel_launcher.py:29: IntegrationWarning: The occurrence of roundoff error is detected, which prevents \n",
      "  the requested tolerance from being achieved.  The error may be \n",
      "  underestimated.\n"
     ]
    },
    {
     "data": {
      "text/plain": [
       "0.2849586836078608"
      ]
     },
     "execution_count": 10,
     "metadata": {},
     "output_type": "execute_result"
    }
   ],
   "source": [
    "integral(0.25,'u')"
   ]
  },
  {
   "cell_type": "code",
   "execution_count": null,
   "metadata": {},
   "outputs": [
    {
     "name": "stderr",
     "output_type": "stream",
     "text": [
      "/home/zackmrc/Documenti/git_project/SIDIS_epem_git/def_convolution_v3.1_survey_PV17_charm/Sudakov/sudakov_factor.py:63: RuntimeWarning: invalid value encountered in double_scalars\n",
      "  bstar = bstar/(1-np.exp(-bt**4/self.bmin**4))**(1/4)\n",
      "/home/zackmrc/anaconda3/lib/python3.7/site-packages/ipykernel_launcher.py:29: IntegrationWarning: The occurrence of roundoff error is detected, which prevents \n",
      "  the requested tolerance from being achieved.  The error may be \n",
      "  underestimated.\n"
     ]
    }
   ],
   "source": [
    "unp_int_U=array([])\n",
    "unp_int_D=array([])\n",
    "unp_int_S=array([])\n",
    "zlcs=array([])\n",
    "zs=np.linspace(0.25,0.7,20)\n",
    "for z in zs: \n",
    "    #print(z)\n",
    "    jacks, zl = jack(z)\n",
    "    unp_int_U=np.append(unp_int_U,integral(z,'u'))\n",
    "    unp_int_D=np.append(unp_int_D,integral(z,'d'))\n",
    "\n",
    "    unp_int_S=np.append(unp_int_S,integral(z,'s'))\n",
    "\n",
    "    zlcs=np.append(zlcs,zl)\n",
    "    #print(unp_int)\n"
   ]
  },
  {
   "cell_type": "code",
   "execution_count": null,
   "metadata": {},
   "outputs": [],
   "source": [
    "plot(zlcs,unp_int_U,label='up')\n",
    "plot(zlcs,unp_int_D,label='down')\n",
    "plot(zlcs,unp_int_S,label='strange')\n",
    "legend()"
   ]
  },
  {
   "cell_type": "code",
   "execution_count": null,
   "metadata": {},
   "outputs": [],
   "source": []
  }
 ],
 "metadata": {
  "kernelspec": {
   "display_name": "Python 3",
   "language": "python",
   "name": "python3"
  },
  "language_info": {
   "codemirror_mode": {
    "name": "ipython",
    "version": 3
   },
   "file_extension": ".py",
   "mimetype": "text/x-python",
   "name": "python",
   "nbconvert_exporter": "python",
   "pygments_lexer": "ipython3",
   "version": "3.7.3"
  }
 },
 "nbformat": 4,
 "nbformat_minor": 2
}
