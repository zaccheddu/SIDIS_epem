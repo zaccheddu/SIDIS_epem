{
 "cells": [
  {
   "cell_type": "code",
   "execution_count": 1,
   "metadata": {},
   "outputs": [],
   "source": [
    "from def_conv_crs_2h import*\n",
    "from def_conv_crs_1h import*\n",
    "import matplotlib.pyplot as plt\n",
    "from model_fct import*\n",
    "#from iminuit import Minuit,cost\n",
    "import numpy as np\n",
    "#from iminuit.cost import LeastSquares\n",
    "import pandas as pd"
   ]
  },
  {
   "cell_type": "code",
   "execution_count": 2,
   "metadata": {},
   "outputs": [],
   "source": [
    "f_prm=arange(0.,18.,1.)\n",
    "f_prm[0] =0.188\n",
    "f_prm[1] = -0.210#par[0]  #do\n",
    "f_prm[2] =-0.332  #par[0]      #st\n",
    "f_prm[3] =-0.107  #par[0]      #upb\n",
    "f_prm[4] = f_prm[3] #par[0]      #dob\n",
    "f_prm[5] = f_prm[3] # par[0]      #stb\n",
    "#¯¯¯¯¯¯\n",
    "f_prm[6] = 0 #par[0]      #aup\n",
    "f_prm[7] = 0 #par[0]      #ado\n",
    "f_prm[8] = 2.47# par[0]      #ast\n",
    "f_prm[9] = 0# par[0]      #aupb\n",
    "f_prm[10] = f_prm[9] #par[0]      #adob\n",
    "f_prm[11] = f_prm[9] #par[0]      #astb\n",
    "#¯#¯¯¯¯¯¯¯\n",
    "f_prm[12] = 3.339 #par[0]      #bup\n",
    "f_prm[13] = 0 #par[0]      #bdo\n",
    "f_prm[14] = 0# par[0]      #bst\n",
    "f_prm[15] = 2.059 #par[0]      #bupb\n",
    "f_prm[16] = f_prm[15] #par[0]      #bdob\n",
    "f_prm[17] = f_prm[15] # par[0]      #bstb\n",
    "pp=3.525\n",
    "mss=0.479"
   ]
  },
  {
   "cell_type": "code",
   "execution_count": 3,
   "metadata": {},
   "outputs": [],
   "source": [
    "fr = polarization_1h()\n",
    "gr = polarization_1h()\n",
    "hr = polarization_1h()\n"
   ]
  },
  {
   "cell_type": "code",
   "execution_count": 4,
   "metadata": {},
   "outputs": [],
   "source": [
    "dati_exp_lj=pd.read_csv(\"exp_data/lambda_jet_global_err.dat\")"
   ]
  },
  {
   "cell_type": "code",
   "execution_count": null,
   "metadata": {},
   "outputs": [],
   "source": [
    "fr.bmax=0.6\n",
    "fr.mdl_den='pwr_lw_star'\n",
    "fr.mdl_num ='pwr_lw_star'\n",
    "\n",
    "gr.bmax=0.6\n",
    "gr.mdl_den='gauss'\n",
    "gr.mdl_num ='pwr_lw'\n",
    "\n",
    "hr.bmax=0.6\n",
    "hr.mdl_den='gauss'\n",
    "hr.mdl_num ='gauss'\n",
    "\n",
    "pts = linspace(0.01,1.,100)\n",
    "rat1h=zeros(len(pts))\n",
    "rat2h=zeros(len(pts))\n",
    "fr.g_k = 'll_lgm'\n",
    "gr.g_k = 'll_lgm'\n",
    "hr.g_k = 'll_lgm'\n",
    "\n",
    "cl_r='red'\n",
    "cl_b='mediumblue'\n",
    "\n",
    "fig4, axes = plt.subplots(1,4)\n",
    "ct=1\n",
    "zs = [0.25,0.35,0.45,0.6]\n",
    "#zh = 0.35\n",
    "mss = 1.2\n",
    "for zh,ax in zip(zs,axes):\n",
    "    rat1h=zeros(len(pts))\n",
    "    rat2h=zeros(len(pts))\n",
    "    rat3h=zeros(len(pts))\n",
    "    lim=[-0.15,0.15]\n",
    "    \n",
    "    i=0\n",
    "    for pt in pts:\n",
    "\n",
    "        rat1h[i]=fr.ratio('lbd',zh,pt,f_prm,pp,mss)\n",
    "        rat2h[i]=gr.ratio('lbd',zh,pt,f_prm,pp,1.)\n",
    "        rat3h[i]=hr.ratio('lbd',zh,pt,f_prm,0.123,1.)\n",
    "        #if rat1h[i]<rat1h[i-1]:print(i)\n",
    "        i+=1\n",
    "\n",
    "        \n",
    "    pnt1 = dati_exp_lj.loc[(dati_exp_lj['h1']==300) & (dati_exp_lj['z1']< zh+0.05) & (dati_exp_lj['z1']> zh-0.05)]  \n",
    "    pnt2 = dati_exp_lj.loc[(dati_exp_lj['h1']==310) & (dati_exp_lj['z1']< zh+0.05) & (dati_exp_lj['z1']> zh-0.05)] \n",
    "\n",
    "        \n",
    "    ax=plt.subplot(1,4,ct)    \n",
    "        \n",
    "    plt.suptitle('zh = '+str(zh))\n",
    "    ax.plot(pts,rat1h,label='mod_pwr_lw')\n",
    "    #ax.plot(pts,rat2h,label='gauss_pwr_lw')\n",
    "    #ax.plot(pts,rat3h,label='gauss_gauss')\n",
    "    ax.errorbar(pnt1.pt, pnt1.P_exp,   fmt='o', markersize=4, color=cl_r,elinewidth=0.7,label= '$\\Lambda$ $')\n",
    "    ax.errorbar(pnt2.pt, pnt2.P_exp,  fmt='o', markersize=4, color=cl_b,elinewidth=0.7, label= '$\\Lambda$ $')\n",
    "    if ct==4:legend()\n",
    "    ct+=1\n",
    "    \n",
    "\n",
    "fig4.subplots_adjust(top=0.8,bottom=0.2,left=0.1,right=0.99,hspace=0.2,wspace=0.0)\n",
    "fig4.set_size_inches(19.5, 10.5, forward=True)   \n",
    "fig4.show() "
   ]
  }
 ],
 "metadata": {
  "kernelspec": {
   "display_name": "Python 3",
   "language": "python",
   "name": "python3"
  },
  "language_info": {
   "codemirror_mode": {
    "name": "ipython",
    "version": 3
   },
   "file_extension": ".py",
   "mimetype": "text/x-python",
   "name": "python",
   "nbconvert_exporter": "python",
   "pygments_lexer": "ipython3",
   "version": "3.7.3"
  }
 },
 "nbformat": 4,
 "nbformat_minor": 2
}
