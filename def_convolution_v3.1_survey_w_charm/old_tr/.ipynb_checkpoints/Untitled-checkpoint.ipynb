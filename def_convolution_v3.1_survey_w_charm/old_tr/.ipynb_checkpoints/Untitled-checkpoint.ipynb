{
 "cells": [
  {
   "cell_type": "code",
   "execution_count": 1,
   "metadata": {},
   "outputs": [],
   "source": [
    "# -*- coding: utf-8 -*-\n",
    "from pylab import*\n",
    "import matplotlib.pyplot as plt\n",
    "import numpy as np\n",
    "from matplotlib.pyplot import*\n",
    "from scipy import special\n",
    "from def_crs import*\n",
    "from model_fct import*\n",
    "from g_funct import*\n",
    "from FBT import FBT \n",
    "from model_fct import*\n",
    "from def_conv_crs import*\n",
    "import pandas as pd\n"
   ]
  },
  {
   "cell_type": "code",
   "execution_count": 2,
   "metadata": {},
   "outputs": [],
   "source": [
    "fnc = polarization(0.5)\n",
    "fnc.mass = 1.115"
   ]
  },
  {
   "cell_type": "code",
   "execution_count": 3,
   "metadata": {},
   "outputs": [],
   "source": [
    "f_prm=arange(0.,18.,1.)\n",
    "f_prm[0] = 0.67486074\n",
    "f_prm[1] = -0.65605671#par[0]  #do\n",
    "f_prm[2] = -0.99999975  #par[0]      #st\n",
    "f_prm[3] = -0.39721677  #par[0]      #upb\n",
    "f_prm[4] = f_prm[3] #par[0]      #dob\n",
    "f_prm[5] = f_prm[3] # par[0]      #stb\n",
    "#¯¯¯¯¯¯\n",
    "f_prm[6] = 0 #par[0]      #aup\n",
    "f_prm[7] = 0 #par[0]      #ado\n",
    "f_prm[8] = 2.1669248  # par[0]      #ast\n",
    "f_prm[9] = 0# par[0]      #aupb\n",
    "f_prm[10] = f_prm[9] #par[0]      #adob\n",
    "f_prm[11] = f_prm[9] #par[0]      #astb\n",
    "#¯#¯¯¯¯¯¯¯\n",
    "f_prm[12] = 3.35974926 #par[0]      #bup\n",
    "f_prm[13] = 0 #par[0]      #bdo\n",
    "f_prm[14] = 0# par[0]      #bst\n",
    "f_prm[15] =  2.1412581 #par[0]      #bupb\n",
    "f_prm[16] = f_prm[15] #par[0]      #bdob\n",
    "f_prm[17] = f_prm[15] # par[0]      #bstb\n",
    "pt_pp=0.05622766"
   ]
  },
  {
   "cell_type": "code",
   "execution_count": 4,
   "metadata": {},
   "outputs": [],
   "source": [
    "dati_lp = pd.read_csv(\"set_bande_pols/dati_lp_flh.csv\")\n",
    "dati_lk = pd.read_csv(\"set_bande_pols/dati_lk_flh.csv\")"
   ]
  },
  {
   "cell_type": "code",
   "execution_count": 5,
   "metadata": {},
   "outputs": [],
   "source": [
    "num=zeros(len(dati_lp.had1))\n",
    "i=0"
   ]
  },
  {
   "cell_type": "code",
   "execution_count": 6,
   "metadata": {},
   "outputs": [],
   "source": [
    "for hads1,hads2,zs1,zs2 in zip(dati_lp.had1,dati_lp.had2,dati_lp.z1,dati_lp.z2):\n",
    "\n",
    "    if hads1 == 300 : had1='lbd'\n",
    "    elif hads1 == 310 : had1='lbd_b'\n",
    "\n",
    "    if hads2 == 100 : had2='pi+'\n",
    "    elif hads2 == 105 : had2='pi-'\n",
    "    elif hads2 == 200 : had2='k-'\n",
    "    elif hads2 == 205 : had2='k-'\n",
    "\n",
    "    num[i]= fnc.ratio(had1,had2,zs1,zs2,f_prm,pt_pp)\n",
    "    i+=1"
   ]
  },
  {
   "cell_type": "code",
   "execution_count": 7,
   "metadata": {},
   "outputs": [],
   "source": [
    "dati_lp['conv'] = num"
   ]
  },
  {
   "cell_type": "code",
   "execution_count": 8,
   "metadata": {},
   "outputs": [],
   "source": [
    "dati_lp\n",
    "dati_lp.to_csv(r'dati_lp_conv.csv',index=False)"
   ]
  },
  {
   "cell_type": "code",
   "execution_count": 9,
   "metadata": {},
   "outputs": [],
   "source": [
    "num=zeros(len(dati_lk.had1))\n",
    "i=0\n",
    "for hads1,hads2,zs1,zs2 in zip(dati_lk.had1,dati_lk.had2,dati_lk.z1,dati_lk.z2):\n",
    "    if hads1 == 300 : had1='lbd'\n",
    "    elif hads1 == 310 : had1='lbd_b'\n",
    "\n",
    "    if hads2 == 100 : had2='pi+'\n",
    "    elif hads2 == 105 : had2='pi-'\n",
    "    elif hads2 == 200 : had2='k-'\n",
    "    elif hads2 == 205 : had2='k-'\n",
    "\n",
    "    num[i]= fnc.ratio(had1,had2,zs1,zs2,f_prm,pt_pp)\n",
    "    i+=1"
   ]
  },
  {
   "cell_type": "code",
   "execution_count": 10,
   "metadata": {},
   "outputs": [],
   "source": [
    "dati_lk['conv'] = num\n",
    "dati_lk.to_csv(r'dati_lk_conv.csv',index=False)"
   ]
  },
  {
   "cell_type": "code",
   "execution_count": null,
   "metadata": {},
   "outputs": [],
   "source": []
  },
  {
   "cell_type": "code",
   "execution_count": null,
   "metadata": {},
   "outputs": [],
   "source": []
  }
 ],
 "metadata": {
  "kernelspec": {
   "display_name": "Python 3",
   "language": "python",
   "name": "python3"
  },
  "language_info": {
   "codemirror_mode": {
    "name": "ipython",
    "version": 3
   },
   "file_extension": ".py",
   "mimetype": "text/x-python",
   "name": "python",
   "nbconvert_exporter": "python",
   "pygments_lexer": "ipython3",
   "version": "3.7.3"
  }
 },
 "nbformat": 4,
 "nbformat_minor": 2
}
