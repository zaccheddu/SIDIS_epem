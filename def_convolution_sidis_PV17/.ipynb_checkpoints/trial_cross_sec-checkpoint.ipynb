{
 "cells": [
  {
   "cell_type": "code",
   "execution_count": 1,
   "metadata": {},
   "outputs": [],
   "source": [
    "# -*- coding: utf-8 -*-\n",
    "from pylab import*\n",
    "import matplotlib.pyplot as plt\n",
    "import numpy as np\n",
    "from matplotlib.pyplot import*\n",
    "from scipy import special\n",
    "from def_crs import*\n",
    "from model_fct import*\n",
    "from g_funct import*\n",
    "from FBT import FBT \n",
    "from model_fct import*"
   ]
  },
  {
   "cell_type": "code",
   "execution_count": 2,
   "metadata": {},
   "outputs": [],
   "source": [
    "fnt = cr_sec()\n",
    "fnt.mass = 1.115"
   ]
  },
  {
   "cell_type": "code",
   "execution_count": 3,
   "metadata": {},
   "outputs": [],
   "source": [
    " ########### non polarizzata"
   ]
  },
  {
   "cell_type": "code",
   "execution_count": 4,
   "metadata": {},
   "outputs": [],
   "source": [
    "mdl1 = model_bt()\n",
    "mdl1.mass = 1.115\n",
    "mdl2 = model_bt()\n",
    "mdl2.mass = 0."
   ]
  },
  {
   "cell_type": "code",
   "execution_count": 5,
   "metadata": {},
   "outputs": [],
   "source": [
    "wdt1 = 0.2\n",
    "wdt2 = 0.2"
   ]
  },
  {
   "cell_type": "code",
   "execution_count": 6,
   "metadata": {},
   "outputs": [
    {
     "data": {
      "text/plain": [
       "1.115"
      ]
     },
     "execution_count": 6,
     "metadata": {},
     "output_type": "execute_result"
    }
   ],
   "source": [
    "fnt.mass"
   ]
  },
  {
   "cell_type": "code",
   "execution_count": 7,
   "metadata": {},
   "outputs": [],
   "source": [
    "z1 = 0.5 \n",
    "z2 = 0.23\n",
    "h1 = 'lbd_b'\n",
    "h2 = 'k+'\n",
    "q = 10.58\n",
    "bt= 100."
   ]
  },
  {
   "cell_type": "code",
   "execution_count": 8,
   "metadata": {},
   "outputs": [],
   "source": [
    "den = fnt.cross_sec2(h1,h2,z1,z2,q)"
   ]
  },
  {
   "cell_type": "code",
   "execution_count": 9,
   "metadata": {},
   "outputs": [
    {
     "data": {
      "text/plain": [
       "0.012450427699400449"
      ]
     },
     "execution_count": 9,
     "metadata": {},
     "output_type": "execute_result"
    }
   ],
   "source": [
    "den"
   ]
  },
  {
   "cell_type": "code",
   "execution_count": 10,
   "metadata": {},
   "outputs": [],
   "source": [
    "scl = g_funct()"
   ]
  },
  {
   "cell_type": "code",
   "execution_count": 11,
   "metadata": {},
   "outputs": [],
   "source": [
    "mu = scl.mu_b(bt)"
   ]
  },
  {
   "cell_type": "code",
   "execution_count": 12,
   "metadata": {},
   "outputs": [],
   "source": [
    "mu\n",
    "qT_max = array([10.58*0.5])"
   ]
  },
  {
   "cell_type": "code",
   "execution_count": 13,
   "metadata": {},
   "outputs": [],
   "source": [
    "bts = np.arange(0.1,100,20)"
   ]
  },
  {
   "cell_type": "code",
   "execution_count": 14,
   "metadata": {},
   "outputs": [
    {
     "name": "stdout",
     "output_type": "stream",
     "text": [
      "0.01344490811918756\n",
      "0.020827937722495464\n",
      "0.0208253417282282\n",
      "0.020824857931634227\n",
      "0.02082468823971542\n"
     ]
    }
   ],
   "source": [
    "for bt in bts:\n",
    "    #print(bt)\n",
    "    mu = scl.mu_b(bt)\n",
    "    #print(mu)\n",
    "    num = fnt.cross_sec2(h1,h2,z1,z2,mu)\n",
    "    print(num)"
   ]
  },
  {
   "cell_type": "code",
   "execution_count": 15,
   "metadata": {},
   "outputs": [
    {
     "data": {
      "text/plain": [
       "array([ 0.1, 20.1, 40.1, 60.1, 80.1])"
      ]
     },
     "execution_count": 15,
     "metadata": {},
     "output_type": "execute_result"
    }
   ],
   "source": [
    "bts"
   ]
  },
  {
   "cell_type": "code",
   "execution_count": 16,
   "metadata": {},
   "outputs": [
    {
     "data": {
      "text/plain": [
       "array([7.78191397, 1.12430779, 1.12326807, 1.1230744 , 1.12300647])"
      ]
     },
     "execution_count": 16,
     "metadata": {},
     "output_type": "execute_result"
    }
   ],
   "source": [
    "scl.mu_b(bts)"
   ]
  },
  {
   "cell_type": "code",
   "execution_count": 17,
   "metadata": {},
   "outputs": [],
   "source": [
    "test = lambda btt : fnt.cross_sec2(h1,h2,z1,z2,scl.mu_b(btt))*mdl1.MD_gauss(btt,z1,wdt1)*mdl2.MD_gauss(btt,z2,wdt2)\n"
   ]
  },
  {
   "cell_type": "code",
   "execution_count": 18,
   "metadata": {},
   "outputs": [],
   "source": [
    "N=10\n",
    "fbt = FBT(1)\n",
    "wfbt_unp = fbt.fbt(test,qT_max,N)\n",
    "wfbt_unp = wfbt_unp*2*pi*qT_max"
   ]
  },
  {
   "cell_type": "code",
   "execution_count": 19,
   "metadata": {},
   "outputs": [
    {
     "data": {
      "text/plain": [
       "array([0.01285929])"
      ]
     },
     "execution_count": 19,
     "metadata": {},
     "output_type": "execute_result"
    }
   ],
   "source": [
    "wfbt_unp"
   ]
  },
  {
   "cell_type": "code",
   "execution_count": 20,
   "metadata": {},
   "outputs": [],
   "source": [
    "#######à  polarizzata\n",
    "wdt_pol = 0.056"
   ]
  },
  {
   "cell_type": "code",
   "execution_count": 21,
   "metadata": {},
   "outputs": [],
   "source": [
    "mean=array([0.67486074, -0.65605671, -0.99999975, -0.39721677, 2.1669248 ,3.35974926,2.1412581, 0.05622766])\n",
    "\n",
    "prm=arange(0.,18.,1.)\n",
    "prm[0] = mean[0] # par[0]   #up\n",
    "prm[1] = mean[1] #par[0]  #do\n",
    "prm[2] = mean[2] #par[0]      #st\n",
    "prm[3] = mean[3] #par[0]      #upb\n",
    "prm[4] = prm[3] #par[0]      #dob\n",
    "prm[5] = prm[3] # par[0]      #stb\n",
    "#¯¯¯¯¯¯\n",
    "prm[6] = 0 #par[0]      #aup\n",
    "prm[7] = prm[6] #par[0]      #ado\n",
    "prm[8] = mean[4] # par[0]      #ast\n",
    "prm[9] = 0.# par[0]      #aupb\n",
    "prm[10] = prm[9] #par[0]      #adob\n",
    "prm[11] = prm[9] #par[0]      #astb\n",
    "#¯¯¯¯¯¯¯\n",
    "prm[12] = mean[5] #par[0]      #bup\n",
    "prm[13] = 0. #par[0]      #bdo\n",
    "prm[14] = 0. # par[0]      #bst\n",
    "prm[15] = mean[6] #par[0]      #bupb\n",
    "prm[16] = prm[15] #par[0]      #bdob\n",
    "prm[17] = prm[15] # par[0]      #bstb\n",
    "wdt_pol=mean[7]\t\n"
   ]
  },
  {
   "cell_type": "code",
   "execution_count": 22,
   "metadata": {},
   "outputs": [],
   "source": [
    "test1 = lambda btt : btt*fnt.cross_sec2_polda(h1,h2,z1,z2,scl.mu_b(btt),prm)*mdl1.MD_gauss(btt,z1,wdt_pol)*mdl2.MD_gauss(btt,z2,wdt2)*special.struve(0,btt*qT_max)\n",
    "\n"
   ]
  },
  {
   "cell_type": "code",
   "execution_count": 23,
   "metadata": {},
   "outputs": [],
   "source": [
    "N=10\n",
    "fbt1 = FBT(1)\n",
    "wfbt_pol1 = fbt1.fbt(test1,qT_max,N)\n",
    "wfbt_pol1 = wfbt_pol1*pi**2*qT_max"
   ]
  },
  {
   "cell_type": "code",
   "execution_count": 24,
   "metadata": {},
   "outputs": [],
   "source": [
    "test2 = lambda btt : btt*fnt.cross_sec2_polda(h1,h2,z1,z2,scl.mu_b(btt),prm)*mdl1.MD_gauss(btt,z1,wdt_pol)*mdl2.MD_gauss(btt,z2,wdt2)*special.struve(1,btt*qT_max)"
   ]
  },
  {
   "cell_type": "code",
   "execution_count": 25,
   "metadata": {},
   "outputs": [],
   "source": [
    "N=10\n",
    "fbt2 = FBT(0)\n",
    "wfbt_pol2 = fbt2.fbt(test2,qT_max,N)\n",
    "wfbt_pol2 = wfbt_pol2*pi**2*qT_max"
   ]
  },
  {
   "cell_type": "code",
   "execution_count": 26,
   "metadata": {},
   "outputs": [
    {
     "name": "stdout",
     "output_type": "stream",
     "text": [
      "[-0.00112195]\n"
     ]
    }
   ],
   "source": [
    "wfbt_pol = wfbt_pol1 - wfbt_pol2\n",
    "print(wfbt_pol)"
   ]
  },
  {
   "cell_type": "code",
   "execution_count": 27,
   "metadata": {},
   "outputs": [
    {
     "data": {
      "text/plain": [
       "array([-0.00067586])"
      ]
     },
     "execution_count": 27,
     "metadata": {},
     "output_type": "execute_result"
    }
   ],
   "source": [
    "wfbt_pol1\n"
   ]
  },
  {
   "cell_type": "code",
   "execution_count": 28,
   "metadata": {},
   "outputs": [
    {
     "data": {
      "text/plain": [
       "array([0.00044609])"
      ]
     },
     "execution_count": 28,
     "metadata": {},
     "output_type": "execute_result"
    }
   ],
   "source": [
    "wfbt_pol2"
   ]
  },
  {
   "cell_type": "code",
   "execution_count": 29,
   "metadata": {},
   "outputs": [
    {
     "data": {
      "text/plain": [
       "array([-0.08724851])"
      ]
     },
     "execution_count": 29,
     "metadata": {},
     "output_type": "execute_result"
    }
   ],
   "source": [
    "wfbt_pol/wfbt_unp"
   ]
  },
  {
   "cell_type": "code",
   "execution_count": 30,
   "metadata": {},
   "outputs": [],
   "source": [
    "#############################\n",
    "# polarizzazione pt model\n"
   ]
  },
  {
   "cell_type": "code",
   "execution_count": 31,
   "metadata": {},
   "outputs": [],
   "source": [
    "pol = fnt.polarisation(h1,h2,z1,z2,10.58,0.2,0.2,wdt_pol,prm)"
   ]
  },
  {
   "cell_type": "code",
   "execution_count": 32,
   "metadata": {},
   "outputs": [
    {
     "data": {
      "text/plain": [
       "-0.012816781250094996"
      ]
     },
     "execution_count": 32,
     "metadata": {},
     "output_type": "execute_result"
    }
   ],
   "source": [
    "pol"
   ]
  },
  {
   "cell_type": "code",
   "execution_count": 33,
   "metadata": {},
   "outputs": [],
   "source": [
    "##### costante davanti il primo momento\n"
   ]
  },
  {
   "cell_type": "code",
   "execution_count": 34,
   "metadata": {},
   "outputs": [
    {
     "data": {
      "text/plain": [
       "0.13034401729083442"
      ]
     },
     "execution_count": 34,
     "metadata": {},
     "output_type": "execute_result"
    }
   ],
   "source": [
    "fnt.fact_fst_mom(z1,z2,0.2,wdt_pol)"
   ]
  },
  {
   "cell_type": "code",
   "execution_count": 35,
   "metadata": {},
   "outputs": [
    {
     "data": {
      "text/plain": [
       "array([-0.01268014])"
      ]
     },
     "execution_count": 35,
     "metadata": {},
     "output_type": "execute_result"
    }
   ],
   "source": [
    "1.115*fnt.fact_fst_mom(z1,z2,0.2,wdt_pol)*wfbt_pol/wfbt_unp"
   ]
  },
  {
   "cell_type": "code",
   "execution_count": null,
   "metadata": {},
   "outputs": [],
   "source": []
  }
 ],
 "metadata": {
  "kernelspec": {
   "display_name": "Python 3",
   "language": "python",
   "name": "python3"
  },
  "language_info": {
   "codemirror_mode": {
    "name": "ipython",
    "version": 3
   },
   "file_extension": ".py",
   "mimetype": "text/x-python",
   "name": "python",
   "nbconvert_exporter": "python",
   "pygments_lexer": "ipython3",
   "version": "3.7.3"
  }
 },
 "nbformat": 4,
 "nbformat_minor": 2
}
