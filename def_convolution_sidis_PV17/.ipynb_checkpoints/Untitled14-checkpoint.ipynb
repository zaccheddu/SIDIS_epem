{
 "cells": [
  {
   "cell_type": "code",
   "execution_count": 1,
   "metadata": {},
   "outputs": [],
   "source": [
    "import numpy as np\n",
    "import scipy as sc\n",
    "from least_squares_lh import*\n",
    "import pandas as pd\n",
    "#from fitter_v2 import*\n",
    "import time \n",
    "from datetime import datetime\n",
    "import multiprocessing\n"
   ]
  },
  {
   "cell_type": "code",
   "execution_count": 2,
   "metadata": {},
   "outputs": [],
   "source": [
    "matrix = np.array([[0.000824,  1.26e-05 , 2.5e-05,  2.02e-06    ,     0   ,      0 , 0.000146     ,    0 , 0.000146     ,    0    ,     0 ,  -0.0162 , 9.17e-05 , 3.19e-05 ],\n",
    "[  1.26e-05 , 6.93e-06 , 2.75e-07 ,-5.55e-08 ,        0  ,       0 , 1.65e-06   ,      0 , 5.08e-06  ,       0    ,     0, -0.000252,  8.21e-07  , 2.7e-07] ,\n",
    " [  2.5e-05,  2.75e-07 , 2.49e-05,  3.89e-08  ,       0   ,      0 ,-1.32e-06    ,     0,  4.89e-06  ,       0     ,    0, -0.000494 , 4.98e-07 , 9.72e-07] ,\n",
    " [2.02e-06, -5.55e-08 , 3.89e-08,  6.19e-07  ,       0   ,      0,  1.78e-07   ,      0 , 1.38e-06    ,    0     ,    0, -4.09e-05 , 1.44e-07 , 5.34e-09 ],\n",
    "  [       0  ,       0  ,       0 ,        0  ,       0    ,     0 ,        0  ,       0 ,        0    ,     0    ,     0  ,       0     ,    0 ,        0] ,\n",
    "   [      0 ,        0 ,        0  ,       0   ,      0   ,      0,         0  ,       0,         0      ,   0     ,    0  ,       0   ,      0 ,        0 ],\n",
    "  [0.000146 , 1.65e-06 ,-1.32e-06 , 1.78e-07 ,        0  ,       0 , 0.000453  ,       0 , 2.94e-05  ,       0   ,      0,  -0.00288 , 7.29e-06 , 5.31e-06 ],\n",
    "   [      0 ,        0 ,        0 ,        0  ,       0  ,       0,         0 ,       0 ,        0     ,    0    ,     0 ,        0,         0  ,       0 ],\n",
    " [0.000146 , 5.08e-06,  4.89e-06 , 1.38e-06 ,        0   ,      0 , 2.94e-05,         0 , 0.000779   ,     0    ,     0 , -0.00284, 1.86e-05 , 6.25e-06 ],\n",
    "  [     0 ,        0  ,       0  ,       0  ,       0 ,       0   ,      0   ,      0   ,      0     ,    0    ,     0  ,       0  ,       0 ,        0 ],\n",
    "   [      0 ,        0 ,       0  ,       0 ,        0 ,        0 ,        0  ,       0 ,        0    ,     0    ,     0  ,       0  ,       0 ,        0] ,\n",
    "   [-0.0162 ,-0.000252, -0.000494, -4.09e-05  ,       0 ,        0,  -0.00288   ,      0 , -0.00284 ,        0    ,     0  ,   0.321 , -0.00181 , -0.00063] ,\n",
    "  [9.17e-05 , 8.21e-07,  4.98e-07 , 1.44e-07 ,        0   ,      0 , 7.29e-06 ,        0 , 1.86e-05  ,       0   ,      0, -0.00181 , 9.18e-05 , 3.53e-06 ],\n",
    "  [3.19e-05 ,  2.7e-07, 9.72e-07,  5.34e-09   ,      0 ,        0 , 5.31e-06   ,      0 , 6.25e-06     ,    0    ,    0 , -0.00063 , 3.53e-06,  8.24e-06 ]])\n"
   ]
  },
  {
   "cell_type": "code",
   "execution_count": 3,
   "metadata": {},
   "outputs": [],
   "source": [
    "mean1 = np.array([ 0.19596872 ,-0.21939327, -0.33989512, -0.11168205 , 0.  ,        0.,\n",
    "  2.45843146,  0.      ,    3.33766712 , 0.  ,        0. ,         2.06037866,\n",
    "  2.6901086 ,  0.39864058])"
   ]
  },
  {
   "cell_type": "code",
   "execution_count": 4,
   "metadata": {},
   "outputs": [],
   "source": [
    "matrix_full=matrix"
   ]
  },
  {
   "cell_type": "code",
   "execution_count": 5,
   "metadata": {},
   "outputs": [],
   "source": [
    "for i in range(len(matrix[1,:])):\n",
    "    for j in range(len(matrix[1,:])):\n",
    "       if i!=j: matrix[i,j]=0"
   ]
  },
  {
   "cell_type": "code",
   "execution_count": 6,
   "metadata": {},
   "outputs": [],
   "source": [
    "matrix[0,0]=0.029\n",
    "matrix[1,1]=0.0026\n",
    "matrix[2,2]=0.005\n",
    "matrix[3,3]=0.0003\n",
    "\n",
    "matrix[4,4]=0.\n",
    "matrix[5,5]=0.\n",
    "matrix[6,6]=0.021\n",
    "matrix[7,7]=0.\n",
    "\n",
    "matrix[8,8]=0.028\n",
    "matrix[9,9]=0.\n",
    "matrix[10,10]=0.\n",
    "matrix[11,11]=0.6\n",
    "\n",
    "matrix[12,12]=0.01\n",
    "matrix[13,13]=0.0029"
   ]
  },
  {
   "cell_type": "code",
   "execution_count": 7,
   "metadata": {},
   "outputs": [],
   "source": [
    "new = np.random.multivariate_normal(mean1, matrix, 12).T\n",
    "new_full = np.random.multivariate_normal(mean1, matrix_full, 12).T\n"
   ]
  },
  {
   "cell_type": "code",
   "execution_count": 8,
   "metadata": {},
   "outputs": [],
   "source": [
    "df = pd.read_csv('fit_hadron_coef_0.25_chi_1.202__True_gk_ll_lgm.csv')\n",
    "df_new_full = pd.DataFrame(columns = df.columns)\n",
    "df_new = pd.DataFrame(columns = df.columns)"
   ]
  },
  {
   "cell_type": "code",
   "execution_count": 9,
   "metadata": {},
   "outputs": [],
   "source": [
    "df_new['NUP']=new[0]\n",
    "df_new['NDO']=new[1]\n",
    "df_new['NST']=new[2]\n",
    "df_new['NSEA']=new[3]\n",
    "df_new['AUP']=new[4]\n",
    "df_new['ADO']=new[5]\n",
    "df_new['AST']=new[6]\n",
    "df_new['ASEA']=new[6]\n",
    "df_new['BUP']=new[7]\n",
    "df_new['BDO']=new[8]\n",
    "df_new['BST']=new[9]\n",
    "df_new['BSEA']=new[10]\n",
    "df_new['PP']=new[11]\n",
    "df_new['MSS']=new[12]\n",
    "\n",
    "df_new_full['NUP']=new_full[0]\n",
    "df_new_full['NDO']=new_full[1]\n",
    "df_new_full['NST']=new_full[2]\n",
    "df_new_full['NSEA']=new_full[3]\n",
    "df_new_full['AUP']=new_full[4]\n",
    "df_new_full['ADO']=new_full[5]\n",
    "df_new_full['AST']=new_full[6]\n",
    "df_new_full['ASEA']=new_full[6]\n",
    "df_new_full['BUP']=new_full[7]\n",
    "df_new_full['BDO']=new_full[8]\n",
    "df_new_full['BST']=new_full[9]\n",
    "df_new_full['BSEA']=new_full[10]\n",
    "df_new_full['PP']=new_full[11]\n",
    "df_new_full['MSS']=new_full[12]"
   ]
  },
  {
   "cell_type": "code",
   "execution_count": 10,
   "metadata": {},
   "outputs": [],
   "source": [
    "lst =least_sq(5,'all')\n",
    "lst.g_k_2h = 'll_lgm'\n",
    "lst.g_k_1h = 'll_lgm'\n",
    "\n",
    "lst.mdl_num = 'pwr_lw_star'\n",
    "lst.mdl_den = 'pwr_lw_star'\n",
    "lst.coef=0.25"
   ]
  },
  {
   "cell_type": "code",
   "execution_count": 11,
   "metadata": {},
   "outputs": [],
   "source": [
    "nup = df_new['NUP'].to_numpy()\n",
    "ndo = df_new['NDO'].to_numpy()\n",
    "nst = df_new['NST'].to_numpy()\n",
    "nsea = df_new['NSEA'].to_numpy()\n",
    "\n",
    "aup = df_new['AUP'].to_numpy()\n",
    "ado = df_new['ADO'].to_numpy()\n",
    "ast = df_new['AST'].to_numpy()\n",
    "asea = df_new['ASEA'].to_numpy()\n",
    "\n",
    "bup = df_new['BUP'].to_numpy()\n",
    "bdo = df_new['BDO'].to_numpy()\n",
    "bst = df_new['BST'].to_numpy()\n",
    "bsea = df_new['BSEA'].to_numpy()\n",
    "\n",
    "pp = df_new['PP'].to_numpy()\n",
    "mss= df_new['MSS'].to_numpy()\n",
    "\n",
    "\n",
    "nup1 = df_new_full['NUP'].to_numpy()\n",
    "ndo1 = df_new_full['NDO'].to_numpy()\n",
    "nst1 = df_new_full['NST'].to_numpy()\n",
    "nsea1 = df_new_full['NSEA'].to_numpy()\n",
    "\n",
    "aup1 = df_new_full['AUP'].to_numpy()\n",
    "ado1 = df_new_full['ADO'].to_numpy()\n",
    "ast1 = df_new_full['AST'].to_numpy()\n",
    "asea1 = df_new_full['ASEA'].to_numpy()\n",
    "\n",
    "bup1 = df_new_full['BUP'].to_numpy()\n",
    "bdo1 = df_new_full['BDO'].to_numpy()\n",
    "bst1 = df_new_full['BST'].to_numpy()\n",
    "bsea1 = df_new_full['BSEA'].to_numpy()\n",
    "\n",
    "pp1 = df_new_full['PP'].to_numpy()\n",
    "mss1 =df_new_full['MSS'].to_numpy()"
   ]
  },
  {
   "cell_type": "code",
   "execution_count": 12,
   "metadata": {},
   "outputs": [],
   "source": [
    "def fill_least():\n",
    "\n",
    "    now = datetime.now()\n",
    "    start = time.time()\n",
    "    current_time = now.strftime(\"%H:%M:%S\")\n",
    "    print(\"Current Time =\", current_time)\n",
    "    lst_vec=zeros(len(nup))\n",
    "    i=0\n",
    "    for NUP,NDO,NST,NSEA,AUP,ADO,AST,ASEA,BUP,BDO,BST,BSEA,PP,MSS in zip(nup,ndo,nst,nsea,aup,ado,ast,asea,bup,bdo,bst,bsea,pp,mss) :\n",
    "    #print(NUP)\n",
    "    #print(AST)\n",
    "        lst_vec[i]= lst.least_squares_lh(NUP,NDO,NST,NSEA,0.,0.,AST,0.,BUP,0.,0.,BSEA,PP,MSS)\n",
    "        i+=1\n",
    "    \n",
    "\n",
    "    end = time.time()\n",
    "\n",
    "    mins=(end -start)/60\n",
    "    print('¯¯¯¯¯¯¯¯¯¯¯¯¯¯¯¯¯¯¯¯¯¯¯¯¯¯¯¯¯¯¯¯¯¯¯¯¯¯¯¯¯¯¯')\n",
    "    print('time passed:')\n",
    "\n",
    "    print(str(end - start) +'   ' + 'sec')\n",
    "    print(str((end - start)/60) +'   ' + 'min')\n",
    "    df_new['chi']=lst_vec\n",
    "    df_new.to_csv('df_part.csv')\n",
    "    #print(lst_vec)\n",
    "    return lst_vec"
   ]
  },
  {
   "cell_type": "code",
   "execution_count": 13,
   "metadata": {},
   "outputs": [],
   "source": [
    "def fill_least_full():\n",
    "\n",
    "    now = datetime.now()\n",
    "    start = time.time()\n",
    "    current_time = now.strftime(\"%H:%M:%S\")\n",
    "    print(\"Current Time =\", current_time)\n",
    "    lst_vec=zeros(len(nup))\n",
    "    i=0\n",
    "    for NUP,NDO,NST,NSEA,AUP,ADO,AST,ASEA,BUP,BDO,BST,BSEA,PP,MSS in zip(nup1,ndo1,nst1,nsea1,aup1,ado1,ast1,asea1,bup1,bdo1,bst1,bsea1,pp1,mss1) :\n",
    "    #print(NUP)\n",
    "    #print(AST)\n",
    "        lst_vec[i]= lst.least_squares_lh(NUP,NDO,NST,NSEA,0.,0.,AST,0.,BUP,0.,0.,BSEA,PP,MSS)\n",
    "        i+=1\n",
    "    \n",
    "\n",
    "    end = time.time()\n",
    "\n",
    "    mins=(end -start)/60\n",
    "    print('¯¯¯¯¯¯¯¯¯¯¯¯¯¯¯¯¯¯¯¯¯¯¯¯¯¯¯¯¯¯¯¯¯¯¯¯¯¯¯¯¯¯¯')\n",
    "    print('time passed:')\n",
    "\n",
    "    print(str(end - start) +'   ' + 'sec')\n",
    "    print(str((end - start)/60) +'   ' + 'min')\n",
    "    df_new_full['chi']=lst_vec\n",
    "    df_new_full.to_csv('df_full.csv')\n",
    "    #print(lst_vec)\n",
    "    #print()\n",
    "    return lst_vec"
   ]
  },
  {
   "cell_type": "code",
   "execution_count": 14,
   "metadata": {},
   "outputs": [
    {
     "name": "stdout",
     "output_type": "stream",
     "text": [
      "Current Time = 12:49:47\n"
     ]
    },
    {
     "name": "stderr",
     "output_type": "stream",
     "text": [
      "Process Process-2:\n",
      "Traceback (most recent call last):\n",
      "  File \"/home/zackmrc/anaconda3/envs/env_minuit/lib/python3.7/multiprocessing/process.py\", line 297, in _bootstrap\n",
      "    self.run()\n",
      "  File \"/home/zackmrc/anaconda3/envs/env_minuit/lib/python3.7/multiprocessing/process.py\", line 99, in run\n",
      "    self._target(*self._args, **self._kwargs)\n",
      "TypeError: fill_least_full() takes 0 positional arguments but 16 were given\n",
      "/home/zackmrc/Documenti/git_project/lambda_fit/def_convolution_v3.1_survey/model_fct.py:141: RuntimeWarning: floating point number truncated to an integer\n",
      "  bssl1 = special.kn(pwr-1,b_new*mass)\n"
     ]
    },
    {
     "name": "stdout",
     "output_type": "stream",
     "text": [
      "¯¯¯¯¯¯¯¯¯¯¯¯¯¯¯¯¯¯¯¯¯¯¯¯¯¯¯¯¯¯¯¯¯¯¯¯¯¯¯¯¯¯¯\n",
      "time passed:\n",
      "21.337467908859253   sec\n",
      "0.3556244651476542   min\n",
      "[1376.30876549 1493.91637197 1431.75447445 1486.39725523 1567.88115789\n",
      " 1465.87684054 1501.67354474 1474.09611813 1369.26469098 1410.39699114\n",
      " 1238.07049611 1597.61102788]\n"
     ]
    }
   ],
   "source": [
    "p1 = multiprocessing.Process(target=fill_least)\n",
    "p2 = multiprocessing.Process(target=fill_least_full,args = df_new_full)\n",
    "\n",
    "p1.start()\n",
    "p2.start()\n",
    "#print(df_new)\n",
    "p1.join()\n",
    "p2.join()\n"
   ]
  },
  {
   "cell_type": "code",
   "execution_count": null,
   "metadata": {},
   "outputs": [],
   "source": []
  },
  {
   "cell_type": "code",
   "execution_count": null,
   "metadata": {},
   "outputs": [],
   "source": []
  },
  {
   "cell_type": "code",
   "execution_count": 15,
   "metadata": {},
   "outputs": [],
   "source": [
    "full=pd.read_csv('df_full.csv')\n",
    "part=pd.read_csv('df_part.csv')"
   ]
  },
  {
   "cell_type": "code",
   "execution_count": null,
   "metadata": {},
   "outputs": [],
   "source": []
  },
  {
   "cell_type": "code",
   "execution_count": null,
   "metadata": {},
   "outputs": [],
   "source": []
  }
 ],
 "metadata": {
  "kernelspec": {
   "display_name": "Python 3",
   "language": "python",
   "name": "python3"
  },
  "language_info": {
   "codemirror_mode": {
    "name": "ipython",
    "version": 3
   },
   "file_extension": ".py",
   "mimetype": "text/x-python",
   "name": "python",
   "nbconvert_exporter": "python",
   "pygments_lexer": "ipython3",
   "version": "3.7.3"
  }
 },
 "nbformat": 4,
 "nbformat_minor": 2
}
