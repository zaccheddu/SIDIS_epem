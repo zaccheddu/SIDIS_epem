{
 "cells": [
  {
   "cell_type": "code",
   "execution_count": 1,
   "metadata": {},
   "outputs": [
    {
     "name": "stdout",
     "output_type": "stream",
     "text": [
      "/home/zackmrc/Documenti/git_project/SIDIS pol/def_convolution_sidis_PV17\n"
     ]
    }
   ],
   "source": [
    "# -*- coding: utf-8 -*-\n",
    "from pylab import*\n",
    "import matplotlib.pyplot as plt\n",
    "from numpy import*\n",
    "from matplotlib.pyplot import*\n",
    "import pandas as pd\n",
    "import time\n",
    "import sys\n",
    "from def_conv_crs_2h import*\n",
    "from numpy import*\n",
    "y_lbl=50\n",
    "x_lbl =50\n",
    "\n",
    "\n",
    "ers_bar = 1.3  # dimensione barre errore\n",
    "pnt_dat = 6 # dimensione punti\n",
    "\n",
    "title_s=35 #dimensione titolo bin\n",
    "\n",
    "fit_l=3.  # dimensione linea fit\n"
   ]
  },
  {
   "cell_type": "code",
   "execution_count": 2,
   "metadata": {},
   "outputs": [],
   "source": [
    "pol = polarization(0.25)"
   ]
  },
  {
   "cell_type": "code",
   "execution_count": 3,
   "metadata": {},
   "outputs": [],
   "source": [
    "pol.g_k = 'PV17'\n",
    "pol.scale =10.58\n",
    "pol.mass = 1.115\n",
    "pol.bmax = 0.6\n",
    "pol.charm = 'no'\n",
    "\n",
    "pol.mdl_den = 'pwr_lw_star'\n",
    "pol.mdl_num = 'gauss'\n"
   ]
  },
  {
   "cell_type": "code",
   "execution_count": 4,
   "metadata": {},
   "outputs": [
    {
     "data": {
      "text/plain": [
       "0.03246677704633319"
      ]
     },
     "execution_count": 4,
     "metadata": {},
     "output_type": "execute_result"
    }
   ],
   "source": [
    "pol.denominator('lbd','PP',0.4,0.1)\n",
    "#pol.ratio('lbd','PP',)"
   ]
  },
  {
   "cell_type": "code",
   "execution_count": 5,
   "metadata": {},
   "outputs": [],
   "source": [
    "gauss = pd.read_csv('fit_parameters/fit_hadron_coef_0.25_chi_1.192__True_gk_ll_lgm.csv')"
   ]
  },
  {
   "cell_type": "code",
   "execution_count": 6,
   "metadata": {},
   "outputs": [
    {
     "data": {
      "text/html": [
       "<div>\n",
       "<style scoped>\n",
       "    .dataframe tbody tr th:only-of-type {\n",
       "        vertical-align: middle;\n",
       "    }\n",
       "\n",
       "    .dataframe tbody tr th {\n",
       "        vertical-align: top;\n",
       "    }\n",
       "\n",
       "    .dataframe thead th {\n",
       "        text-align: right;\n",
       "    }\n",
       "</style>\n",
       "<table border=\"1\" class=\"dataframe\">\n",
       "  <thead>\n",
       "    <tr style=\"text-align: right;\">\n",
       "      <th></th>\n",
       "      <th>NUP</th>\n",
       "      <th>NDO</th>\n",
       "      <th>NST</th>\n",
       "      <th>NSEA</th>\n",
       "      <th>AUP</th>\n",
       "      <th>ADO</th>\n",
       "      <th>AST</th>\n",
       "      <th>ASEA</th>\n",
       "      <th>BUP</th>\n",
       "      <th>BDO</th>\n",
       "      <th>BST</th>\n",
       "      <th>BSEA</th>\n",
       "      <th>PP</th>\n",
       "      <th>MSS</th>\n",
       "      <th>coef</th>\n",
       "      <th>chi_sq</th>\n",
       "    </tr>\n",
       "  </thead>\n",
       "  <tbody>\n",
       "    <tr>\n",
       "      <th>0</th>\n",
       "      <td>0.093417</td>\n",
       "      <td>-0.100018</td>\n",
       "      <td>-0.11673</td>\n",
       "      <td>-0.055013</td>\n",
       "      <td>0.0</td>\n",
       "      <td>0.0</td>\n",
       "      <td>2.193973</td>\n",
       "      <td>0.0</td>\n",
       "      <td>3.472057</td>\n",
       "      <td>0.0</td>\n",
       "      <td>0.0</td>\n",
       "      <td>2.319106</td>\n",
       "      <td>0.066397</td>\n",
       "      <td>0.0</td>\n",
       "      <td>0.25</td>\n",
       "      <td>1.192</td>\n",
       "    </tr>\n",
       "  </tbody>\n",
       "</table>\n",
       "</div>"
      ],
      "text/plain": [
       "        NUP       NDO      NST      NSEA  AUP  ADO       AST  ASEA       BUP  \\\n",
       "0  0.093417 -0.100018 -0.11673 -0.055013  0.0  0.0  2.193973   0.0  3.472057   \n",
       "\n",
       "   BDO  BST      BSEA        PP  MSS  coef  chi_sq  \n",
       "0  0.0  0.0  2.319106  0.066397  0.0  0.25   1.192  "
      ]
     },
     "execution_count": 6,
     "metadata": {},
     "output_type": "execute_result"
    }
   ],
   "source": [
    "gauss"
   ]
  },
  {
   "cell_type": "code",
   "execution_count": 7,
   "metadata": {},
   "outputs": [
    {
     "data": {
      "text/plain": [
       "0    0.093417\n",
       "Name: NUP, dtype: float64"
      ]
     },
     "execution_count": 7,
     "metadata": {},
     "output_type": "execute_result"
    }
   ],
   "source": [
    "gauss.NUP"
   ]
  },
  {
   "cell_type": "code",
   "execution_count": 8,
   "metadata": {},
   "outputs": [],
   "source": [
    "f_prm=arange(0.,18.,1.)\n",
    "f_prm[0] = gauss.NUP\n",
    "f_prm[1] = gauss.NDO#par[0]  #do\n",
    "f_prm[2] = gauss.NST  #par[0]      #st\n",
    "f_prm[3] = gauss.NSEA  #par[0]      #upb\n",
    "f_prm[4] = f_prm[3] #par[0]      #dob\n",
    "f_prm[5] = f_prm[3] # par[0]      #stb\n",
    "#¯¯¯¯¯¯\n",
    "f_prm[6] = 0 #par[0]      #aup\n",
    "f_prm[7] = 0 #par[0]      #ado\n",
    "f_prm[8] = gauss.AST  # par[0]      #ast\n",
    "f_prm[9] = 0# par[0]      #aupb\n",
    "f_prm[10] = f_prm[9] #par[0]      #adob\n",
    "f_prm[11] = f_prm[9] #par[0]      #astb\n",
    "#¯#¯¯¯¯¯¯¯\n",
    "f_prm[12] = gauss.BUP #par[0]      #bup\n",
    "f_prm[13] = 0 #par[0]      #bdo\n",
    "f_prm[14] = 0# par[0]      #bst\n",
    "f_prm[15] = gauss.BSEA #par[0]      #bupb\n",
    "f_prm[16] = f_prm[15] #par[0]      #bdob\n",
    "f_prm[17] = f_prm[15] # par[0]      #bstb\n",
    "pp = np.float64(gauss.PP)\n",
    "#pp=gauss.PP.astype(float)"
   ]
  },
  {
   "cell_type": "code",
   "execution_count": 9,
   "metadata": {},
   "outputs": [
    {
     "name": "stdout",
     "output_type": "stream",
     "text": [
      "0    0.066397\n",
      "Name: PP, dtype: float64\n",
      "0.06639720163678299\n"
     ]
    }
   ],
   "source": [
    "type(gauss.PP)\n",
    "a=gauss.PP.astype(float)\n",
    "print(a)\n",
    "print(pp)\n"
   ]
  },
  {
   "cell_type": "code",
   "execution_count": 10,
   "metadata": {},
   "outputs": [],
   "source": [
    "a,b=pol.numerator_bts('lbd','PP',0.3,0.1,f_prm,pp,0.,1.4)"
   ]
  },
  {
   "cell_type": "code",
   "execution_count": 11,
   "metadata": {},
   "outputs": [
    {
     "data": {
      "text/plain": [
       "0.0002512002511467096"
      ]
     },
     "execution_count": 11,
     "metadata": {},
     "output_type": "execute_result"
    }
   ],
   "source": [
    "a"
   ]
  },
  {
   "cell_type": "code",
   "execution_count": 12,
   "metadata": {},
   "outputs": [
    {
     "data": {
      "text/plain": [
       "0.0010252257446681278"
      ]
     },
     "execution_count": 12,
     "metadata": {},
     "output_type": "execute_result"
    }
   ],
   "source": [
    "b"
   ]
  },
  {
   "cell_type": "code",
   "execution_count": 13,
   "metadata": {},
   "outputs": [],
   "source": [
    "bts=linspace(0.1,2.,30)\n",
    "a,b = zeros(len(bts)),  zeros(len(bts))\n",
    "i=0\n",
    "for bt in bts:\n",
    "    a[i],b[i]=pol.numerator_bts('lbd','PP',0.3,0.1,f_prm,pp,0.,bt)\n",
    "    i+=1"
   ]
  },
  {
   "cell_type": "code",
   "execution_count": 14,
   "metadata": {},
   "outputs": [
    {
     "data": {
      "text/plain": [
       "[<matplotlib.lines.Line2D at 0x7fc434b50668>]"
      ]
     },
     "execution_count": 14,
     "metadata": {},
     "output_type": "execute_result"
    },
    {
     "data": {
      "image/png": "[encoded data removed]",
      "text/plain": [
       "<Figure size 432x288 with 1 Axes>"
      ]
     },
     "metadata": {
      "needs_background": "light"
     },
     "output_type": "display_data"
    }
   ],
   "source": [
    "plot(bts,a)\n",
    "plot(bts,b)"
   ]
  },
  {
   "cell_type": "code",
   "execution_count": null,
   "metadata": {},
   "outputs": [],
   "source": []
  },
  {
   "cell_type": "code",
   "execution_count": 15,
   "metadata": {},
   "outputs": [],
   "source": [
    "pr = np.array([])"
   ]
  },
  {
   "cell_type": "code",
   "execution_count": 16,
   "metadata": {},
   "outputs": [],
   "source": [
    "pr = np.append(pr,2)"
   ]
  },
  {
   "cell_type": "code",
   "execution_count": 17,
   "metadata": {},
   "outputs": [
    {
     "data": {
      "text/plain": [
       "array([2.])"
      ]
     },
     "execution_count": 17,
     "metadata": {},
     "output_type": "execute_result"
    }
   ],
   "source": [
    "pr"
   ]
  },
  {
   "cell_type": "code",
   "execution_count": 18,
   "metadata": {},
   "outputs": [
    {
     "data": {
      "text/plain": [
       "0.0011792695147632556"
      ]
     },
     "execution_count": 18,
     "metadata": {},
     "output_type": "execute_result"
    }
   ],
   "source": [
    "pol.numerator('lbd','PP',0.3,0.1,f_prm,pp,0.)"
   ]
  },
  {
   "cell_type": "code",
   "execution_count": 19,
   "metadata": {},
   "outputs": [
    {
     "data": {
      "text/plain": [
       "0.017506222158041995"
      ]
     },
     "execution_count": 19,
     "metadata": {},
     "output_type": "execute_result"
    }
   ],
   "source": [
    "pol.ratio('lbd','PP',0.3,0.1,f_prm,pp,0.)"
   ]
  },
  {
   "cell_type": "code",
   "execution_count": 30,
   "metadata": {},
   "outputs": [],
   "source": [
    "zs = linspace(0.25,0.7,30)"
   ]
  },
  {
   "cell_type": "code",
   "execution_count": 31,
   "metadata": {},
   "outputs": [],
   "source": [
    "pls=zeros(len(zs))\n",
    "i=0\n",
    "for zz in zs:\n",
    "    pls[i]= pol.ratio('lbd_b','PP',zz,0.2,f_prm,pp,0.)\n",
    "    i+=1"
   ]
  },
  {
   "cell_type": "code",
   "execution_count": 32,
   "metadata": {},
   "outputs": [
    {
     "data": {
      "text/plain": [
       "[<matplotlib.lines.Line2D at 0x7fc4323e18d0>]"
      ]
     },
     "execution_count": 32,
     "metadata": {},
     "output_type": "execute_result"
    },
    {
     "data": {
      "image/png": "[encoded data removed]",
      "text/plain": [
       "<Figure size 432x288 with 1 Axes>"
      ]
     },
     "metadata": {
      "needs_background": "light"
     },
     "output_type": "display_data"
    }
   ],
   "source": [
    "plot(zs,pls)"
   ]
  },
  {
   "cell_type": "code",
   "execution_count": null,
   "metadata": {},
   "outputs": [],
   "source": []
  }
 ],
 "metadata": {
  "kernelspec": {
   "display_name": "Python 3",
   "language": "python",
   "name": "python3"
  },
  "language_info": {
   "codemirror_mode": {
    "name": "ipython",
    "version": 3
   },
   "file_extension": ".py",
   "mimetype": "text/x-python",
   "name": "python",
   "nbconvert_exporter": "python",
   "pygments_lexer": "ipython3",
   "version": "3.7.3"
  }
 },
 "nbformat": 4,
 "nbformat_minor": 2
}
