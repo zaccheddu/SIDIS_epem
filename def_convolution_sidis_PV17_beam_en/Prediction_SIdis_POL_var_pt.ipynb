{
 "cells": [
  {
   "cell_type": "code",
   "execution_count": 1,
   "metadata": {},
   "outputs": [
    {
     "name": "stdout",
     "output_type": "stream",
     "text": [
      "/home/zackmrc/Documenti/git_project/SIDIS pol/def_convolution_sidis_PV17_beam_en\n"
     ]
    }
   ],
   "source": [
    "# -*- coding: utf-8 -*-\n",
    "from pylab import*\n",
    "import matplotlib.pyplot as plt\n",
    "from numpy import*\n",
    "from matplotlib.pyplot import*\n",
    "import pandas as pd\n",
    "import time\n",
    "import sys\n",
    "from def_conv_crs_2h import*\n",
    "from numpy import*\n",
    "import time \n",
    "from datetime import datetime\n",
    "\n"
   ]
  },
  {
   "cell_type": "code",
   "execution_count": 2,
   "metadata": {},
   "outputs": [],
   "source": [
    "df1 = pd.read_csv('fit_parameters/dfs_/new_gauss_su_charm_no_no.csv') \n",
    "df2 = pd.read_csv('fit_parameters/dfs_/new_gauss_su_charm_no_yes.csv')\n",
    "df3 = pd.read_csv('fit_parameters/dfs_/new_gauss_su_charm_yes_yes.csv')"
   ]
  },
  {
   "cell_type": "code",
   "execution_count": 3,
   "metadata": {},
   "outputs": [],
   "source": [
    "chi_min1 = 103.3\n",
    "chi_min2 = 109.8\n",
    "chi_min3 = 127.4\n",
    "\n",
    "df1 = df1.loc[(df1['chi']<chi_min1+15.79)]\n",
    "df2 = df2.loc[(df2['chi']<chi_min2+17.21)]\n",
    "df3 = df3.loc[(df3['chi']<chi_min3+15.79)]"
   ]
  },
  {
   "cell_type": "code",
   "execution_count": 4,
   "metadata": {},
   "outputs": [
    {
     "ename": "TypeError",
     "evalue": "__init__() missing 1 required positional argument: 'sep'",
     "output_type": "error",
     "traceback": [
      "\u001b[0;31m---------------------------------------------------------------------------\u001b[0m",
      "\u001b[0;31mTypeError\u001b[0m                                 Traceback (most recent call last)",
      "\u001b[0;32m<ipython-input-4-6c1e42741156>\u001b[0m in \u001b[0;36m<module>\u001b[0;34m\u001b[0m\n\u001b[1;32m      1\u001b[0m \u001b[0mqq\u001b[0m \u001b[0;34m=\u001b[0m \u001b[0;36m10.58\u001b[0m\u001b[0;34m\u001b[0m\u001b[0;34m\u001b[0m\u001b[0m\n\u001b[1;32m      2\u001b[0m \u001b[0;34m\u001b[0m\u001b[0m\n\u001b[0;32m----> 3\u001b[0;31m \u001b[0mpol1\u001b[0m \u001b[0;34m=\u001b[0m \u001b[0mpolarization\u001b[0m\u001b[0;34m(\u001b[0m\u001b[0;36m0.27\u001b[0m\u001b[0;34m)\u001b[0m\u001b[0;34m\u001b[0m\u001b[0;34m\u001b[0m\u001b[0m\n\u001b[0m\u001b[1;32m      4\u001b[0m \u001b[0mpol1\u001b[0m\u001b[0;34m.\u001b[0m\u001b[0mg_k\u001b[0m \u001b[0;34m=\u001b[0m \u001b[0;34m'PV17'\u001b[0m\u001b[0;34m\u001b[0m\u001b[0;34m\u001b[0m\u001b[0m\n\u001b[1;32m      5\u001b[0m \u001b[0mpol1\u001b[0m\u001b[0;34m.\u001b[0m\u001b[0mmdl_den\u001b[0m \u001b[0;34m=\u001b[0m \u001b[0;34m'pwr_lw_star'\u001b[0m\u001b[0;34m\u001b[0m\u001b[0;34m\u001b[0m\u001b[0m\n",
      "\u001b[0;31mTypeError\u001b[0m: __init__() missing 1 required positional argument: 'sep'"
     ]
    }
   ],
   "source": [
    "qq = 10.58\n",
    "\n",
    "pol1 = polarization(0.27)\n",
    "pol1.g_k = 'PV17'\n",
    "pol1.mdl_den = 'pwr_lw_star'\n",
    "pol1.mdl_num = 'gauss'\n",
    "pol1.scale =qq\n",
    "pol1.mass = 1.115\n",
    "pol1.bmax = 0.6\n",
    "pol1.charm = 'no'\n",
    "\n",
    "\n",
    "pol2 = polarization(0.27)\n",
    "pol2.g_k = 'PV17'\n",
    "pol2.mdl_den = 'pwr_lw_star'\n",
    "pol2.mdl_num = 'gauss'\n",
    "pol2.scale =qq\n",
    "pol2.mass = 1.115\n",
    "pol2.bmax = 0.6\n",
    "pol2.charm = 'yes'\n",
    "\n",
    "pol3 = polarization(0.27)\n",
    "pol3.g_k = 'PV17'\n",
    "pol3.mdl_den = 'pwr_lw_star'\n",
    "pol3.mdl_num = 'gauss'\n",
    "pol3.scale =qq\n",
    "pol3.mass = 1.115\n",
    "pol3.bmax = 0.6\n",
    "pol3.charm = 'yes'\n",
    "\n"
   ]
  },
  {
   "cell_type": "code",
   "execution_count": null,
   "metadata": {},
   "outputs": [],
   "source": [
    "f_prm1=arange(0.,18.,1.)\n",
    "f_prm1[0] = df1['NUP'].mean()\n",
    "f_prm1[1] = df1['NDO'].mean()#par[0]  #do\n",
    "f_prm1[2] = df1['NST'].mean()  #par[0]      #st\n",
    "f_prm1[3] = df1['NSEA'].mean()  #par[0]      #upb\n",
    "f_prm1[4] = f_prm1[3] #par[0]      #dob\n",
    "f_prm1[5] = f_prm1[3] # par[0]      #stb\n",
    "#¯¯¯¯¯¯\n",
    "f_prm1[6] = 0 #par[0]      #aup\n",
    "f_prm1[7] = 0 #par[0]      #ado\n",
    "f_prm1[8] = df1['AST'].mean()  # par[0]      #ast\n",
    "f_prm1[9] = 0# par[0]      #aupb\n",
    "f_prm1[10] = f_prm1[9] #par[0]      #adob\n",
    "f_prm1[11] = f_prm1[9] #par[0]      #astb\n",
    "#¯#¯¯¯¯¯¯¯\n",
    "f_prm1[12] = df1['BUP'].mean() #par[0]      #bup\n",
    "f_prm1[13] = 0 #par[0]      #bdo\n",
    "f_prm1[14] = 0# par[0]      #bst\n",
    "f_prm1[15] = df1['BSEA'].mean() #par[0]      #bupb\n",
    "f_prm1[16] = f_prm1[15] #par[0]      #bdob\n",
    "f_prm1[17] = f_prm1[15] # par[0]      #bstb\n",
    "pp1 = np.float64(df1['PP2'].mean())\n",
    "#pp=gauss.PP.astype(float)\n"
   ]
  },
  {
   "cell_type": "code",
   "execution_count": null,
   "metadata": {},
   "outputs": [],
   "source": [
    "f_prm2=arange(0.,18.,1.)\n",
    "f_prm2[0] = df2['NUP'].mean()\n",
    "f_prm2[1] = df2['NDO'].mean()#par[0]  #do\n",
    "f_prm2[2] = df2['NST'].mean()  #par[0]      #st\n",
    "f_prm2[3] = df2['NSEA'].mean()  #par[0]      #upb\n",
    "f_prm2[4] = f_prm2[3] #par[0]      #dob\n",
    "f_prm2[5] = f_prm2[3] # par[0]      #stb\n",
    "#¯¯¯¯¯¯\n",
    "f_prm2[6] = 0 #par[0]      #aup\n",
    "f_prm2[7] = df2['ADO'].mean() #par[0]      #ado\n",
    "f_prm2[8] = df2['AST'].mean()  # par[0]      #ast\n",
    "f_prm2[9] = 0# par[0]      #aupb\n",
    "f_prm2[10] = f_prm2[9] #par[0]      #adob\n",
    "f_prm2[11] = f_prm2[9] #par[0]      #astb\n",
    "#¯#¯¯¯¯¯¯¯\n",
    "f_prm2[12] = df2['BUP'].mean() #par[0]      #bup\n",
    "f_prm2[13] = 0 #par[0]      #bdo\n",
    "f_prm2[14] = 0# par[0]      #bst\n",
    "f_prm2[15] = df2['BSEA'].mean() #par[0]      #bupb\n",
    "f_prm2[16] = f_prm2[15] #par[0]      #bdob\n",
    "f_prm2[17] = f_prm2[15] # par[0]      #bstb\n",
    "pp2 = np.float64(df2['PP2'].mean())\n",
    "#pp=gauss.PP.astype(float)\n"
   ]
  },
  {
   "cell_type": "code",
   "execution_count": null,
   "metadata": {},
   "outputs": [],
   "source": [
    "f_prm3=arange(0.,18.,1.)\n",
    "f_prm3[0] = df3['NUP'].mean()\n",
    "f_prm3[1] = df3['NUP'].mean()#par[0]  #do\n",
    "f_prm3[2] = df3['NST'].mean()  #par[0]      #st\n",
    "f_prm3[3] = df3['NSEA'].mean()  #par[0]      #upb\n",
    "f_prm3[4] = df3['NSEA'].mean()  #par[0]      #dob\n",
    "f_prm3[5] = df3['NDO'].mean()  # par[0]      #stb\n",
    "#¯¯¯¯¯¯\n",
    "f_prm3[6] = 0 #par[0]      #aup\n",
    "f_prm3[7] = 0.#par[0]      #ado\n",
    "f_prm3[8] = df3['AST'].mean()  # par[0]      #ast\n",
    "f_prm3[9] = 0# par[0]      #aupb\n",
    "f_prm3[10] = 0.#par[0]      #adob\n",
    "f_prm3[11] = 0 #par[0]      #astb\n",
    "#¯#¯¯¯¯¯¯¯\n",
    "f_prm3[12] = df3['BUP'].mean() #par[0]      #bup\n",
    "f_prm3[13] = df3['BUP'].mean()  #par[0]      #bdo\n",
    "f_prm3[14] = 0# par[0]      #bst\n",
    "f_prm3[15] = 0 #par[0]      #bupb\n",
    "f_prm3[16] = 0 #par[0]      #bdob\n",
    "f_prm3[17] = df3['BDO'].mean() # par[0]      #bstb\n",
    "pp3 = np.float64(df3['PP2'].mean())\n",
    "#pp=gauss.PP.astype(float)\n"
   ]
  },
  {
   "cell_type": "code",
   "execution_count": null,
   "metadata": {},
   "outputs": [],
   "source": [
    "pts = linspace(0.1,1.1,30)\n",
    "xb=0.5\n",
    "zz=0.6"
   ]
  },
  {
   "cell_type": "code",
   "execution_count": null,
   "metadata": {},
   "outputs": [],
   "source": [
    "pls1=zeros(len(pts))\n",
    "pls2=zeros(len(pts))\n",
    "pls3=zeros(len(pts))\n",
    "\n",
    "pls11=zeros(len(pts))\n",
    "pls22=zeros(len(pts))\n",
    "pls33=zeros(len(pts))\n",
    "\n",
    "i=0\n",
    "for pt in pts:\n",
    "    pls1[i]= pol1.ratio_pt('lbd','PP',zz,xb,pt,f_prm1,pp1,0.)\n",
    "    pls2[i]= pol2.ratio_pt('lbd','PP',zz,xb,pt,f_prm2,pp2,0)\n",
    "    pls3[i]= pol3.ratio_pt('lbd','PP',zz,xb,pt,f_prm3,pp3,0)\n",
    "\n",
    "    \n",
    "    pls11[i]= pol1.ratio_pt('lbd_b','PP',zz,xb,pt,f_prm1,pp1,0.)\n",
    "    pls22[i]= pol2.ratio_pt('lbd_b','PP',zz,xb,pt,f_prm2,pp2,0)\n",
    "    pls33[i]= pol3.ratio_pt('lbd_b','PP',zz,xb,pt,f_prm3,pp3,0)\n",
    "\n",
    "    i+=1"
   ]
  },
  {
   "cell_type": "code",
   "execution_count": null,
   "metadata": {},
   "outputs": [],
   "source": [
    "y_lbl=50\n",
    "x_lbl =50\n",
    "ers_bar = 2.  # dimensione barre errore\n",
    "pnt_dat = 9 # dimensione punti\n",
    "\n",
    "title_s=35 #dimensione titolo bin\n",
    "\n",
    "fit_l=3.  # dimensione"
   ]
  },
  {
   "cell_type": "code",
   "execution_count": null,
   "metadata": {},
   "outputs": [],
   "source": [
    "fig1, ax = plt.subplots()\n",
    "plot(pts,pls1*100,label='lambda',linewidth=fit_l)\n",
    "plot(pts,pls2*100,label='charm_su2no lambda',linewidth=fit_l)\n",
    "plot(pts,pls3*100,label='charm_su2yes lambda',linewidth=fit_l)\n",
    "ylabel('Polarization %',size=y_lbl)\n",
    "xlabel('$p_{\\perp}$',size=y_lbl)\n",
    "plt.text(0.8, -5 ,'$x_b$ = '+ str(xb) , fontsize=title_s)\n",
    "plt.text(0.8, -10 ,'$z_1$ = '+ str(zz),fontsize=title_s) \n",
    "#ylim(-10,35)\n",
    "tick_params(axis='both', which='major', labelsize=28)\n",
    "axhline(y = 0., color = 'g', linestyle = 'dotted')\n",
    "legend(loc='upper right',bbox_to_anchor=(1.,1.), fontsize=20,frameon=True)\n",
    "fig1.subplots_adjust(top=0.9,bottom=0.2,left=0.230,right=0.76,hspace=0.,wspace=0.)\n",
    "\n",
    "fig1.set_size_inches(20., 10., forward=True)\n",
    "#fig1.savefig('pol_sidis_PT_lambda_xb_'+str(xb)+'_z1_'+str(zz)+'.pdf')\n",
    "#fig1.savefig('pol_sidis_PT_lambda_xb_'+str(xb)+'_z1_'+str(zz)+'.png')\n"
   ]
  },
  {
   "cell_type": "code",
   "execution_count": null,
   "metadata": {},
   "outputs": [],
   "source": [
    "fig1, ax = plt.subplots()\n",
    "\n",
    "plot(pts,pls11*100,label='lambda_bar',linewidth=fit_l)\n",
    "plot(pts,pls22*100,label='charm_su2no lambda_bar',linewidth=fit_l)\n",
    "plot(pts,pls33*100,label='charm_su2yes lambda_bar',linewidth=fit_l)\n",
    "ylabel('Polarization %',size=y_lbl)\n",
    "xlabel('$p_{\\perp}$',size=y_lbl)\n",
    "plt.text(0.8, -10 ,'$x_b$ = '+ str(xb) , fontsize=title_s)\n",
    "plt.text(0.8, -15 ,'$z_1$ = '+ str(zz),fontsize=title_s) \n",
    "\n",
    "#ylim(-10,35)\n",
    "tick_params(axis='both', which='major', labelsize=28)\n",
    "axhline(y = 0., color = 'g', linestyle = 'dotted')\n",
    "legend(loc='lower right', fontsize=20,frameon=True)\n",
    "fig1.subplots_adjust(top=0.9,bottom=0.2,left=0.230,right=0.76,hspace=0.,wspace=0.)\n",
    "\n",
    "fig1.set_size_inches(20., 10., forward=True)\n",
    "#fig1.savefig('pol_sidis_PT_lambda_bar_xb_'+str(xb)+'_z1_'+str(zz)+'.pdf')\n",
    "#fig1.savefig('pol_sidis_PT_lambda_bar_xb_'+str(xb)+'_z1_'+str(zz)+'.png')\n"
   ]
  },
  {
   "cell_type": "code",
   "execution_count": null,
   "metadata": {},
   "outputs": [],
   "source": [
    "fig1, ax = plt.subplots()\n",
    "xbs=[0.1,.2,.3,.4,.5,.6]\n",
    "zz= 0.5\n",
    "for xb in xbs:\n",
    "    pls1=zeros(len(pts))\n",
    "    pls2=zeros(len(pts))\n",
    "    pls3=zeros(len(pts))\n",
    "\n",
    "    pls11=zeros(len(pts))\n",
    "    pls22=zeros(len(pts))\n",
    "    pls33=zeros(len(pts))\n",
    "\n",
    "    i=0\n",
    "    for pt in pts:\n",
    "        pls1[i]= pol1.ratio_pt('lbd','PP',zz,xb,pt,f_prm1,pp1,0.)\n",
    "        pls2[i]= pol2.ratio_pt('lbd','PP',zz,xb,pt,f_prm2,pp2,0)\n",
    "        pls3[i]= pol3.ratio_pt('lbd','PP',zz,xb,pt,f_prm3,pp3,0)\n",
    "\n",
    "\n",
    "        #pls11[i]= pol1.ratio_pt('lbd_b','PP',zz,xb,pt,f_prm1,pp1,0.)\n",
    "        #pls22[i]= pol2.ratio_pt('lbd_b','PP',zz,xb,pt,f_prm2,pp2,0)\n",
    "        #pls33[i]= pol3.ratio_pt('lbd_b','PP',zz,xb,pt,f_prm3,pp3,0)\n",
    "\n",
    "        i+=1\n",
    "\n",
    "    #plot(pts,pls1*100,label='lambda xb = '+str(xb),linewidth=fit_l)\n",
    "    plot(pts,pls2*100,label='charm_su2no lambda xb = '+str(xb),linewidth=fit_l,linestyle=':')\n",
    "    #plot(pts,pls3*100,label='charm_su2yes lambda xb = '+str(xb),linewidth=fit_l,linestyle='-.')\n",
    "    \n",
    "    #plot(pts,pls11*100,label='lambda_bar xb = '+str(xb)',linewidth=fit_l)\n",
    "    #plot(pts,pls22*100,label='charm_su2no lambda_bar xb = '+str(xb)',linewidth=fit_l,linestyle=':')\n",
    "    #plot(pts,pls33*100,label='charm_su2yes lambda_bar xb = '+str(xb)',linewidth=fit_l,linestyle='-.')\n",
    "\n",
    "    ylabel('Polarization %',size=y_lbl)\n",
    "    xlabel('$p_{\\perp}$',size=y_lbl)\n",
    "    title('zz = '+str(zz),size=30)\n",
    "    #ylim(-10,35)\n",
    "    tick_params(axis='both', which='major', labelsize=28)\n",
    "    axhline(y = 0., color = 'g', linestyle = 'dotted')\n",
    "    legend(bbox_to_anchor=(1.,1.), fontsize=20,frameon=True)\n",
    "    fig1.subplots_adjust(top=0.9,bottom=0.2,left=0.230,right=0.76,hspace=0.,wspace=0.)\n",
    "\n",
    "    fig1.set_size_inches(22., 10., forward=True)\n",
    "    #legend(loc='upper right', fontsize=20,frameon=True)\n"
   ]
  },
  {
   "cell_type": "code",
   "execution_count": null,
   "metadata": {},
   "outputs": [],
   "source": []
  }
 ],
 "metadata": {
  "kernelspec": {
   "display_name": "Python 3",
   "language": "python",
   "name": "python3"
  },
  "language_info": {
   "codemirror_mode": {
    "name": "ipython",
    "version": 3
   },
   "file_extension": ".py",
   "mimetype": "text/x-python",
   "name": "python",
   "nbconvert_exporter": "python",
   "pygments_lexer": "ipython3",
   "version": "3.7.3"
  }
 },
 "nbformat": 4,
 "nbformat_minor": 2
}
