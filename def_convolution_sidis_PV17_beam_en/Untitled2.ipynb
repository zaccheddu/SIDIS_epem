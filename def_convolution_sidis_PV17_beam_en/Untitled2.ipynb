{
 "cells": [
  {
   "cell_type": "code",
   "execution_count": 1,
   "metadata": {},
   "outputs": [
    {
     "name": "stdout",
     "output_type": "stream",
     "text": [
      "/home/zackmrc/Documenti/git_project/SIDIS_epem_git/def_convolution_sidis_PV17_beam_en\n"
     ]
    }
   ],
   "source": [
    "# -*- coding: utf-8 -*-\n",
    "from pylab import*\n",
    "import matplotlib.pyplot as plt\n",
    "from numpy import*\n",
    "from matplotlib.pyplot import*\n",
    "import pandas as pd\n",
    "import time\n",
    "import sys\n",
    "from def_conv_crs_2h import*\n",
    "from numpy import*\n",
    "import time \n",
    "from datetime import datetime\n",
    "from matplotlib.legend_handler import HandlerTuple\n",
    "#scale=10.58\n",
    "lhapdf.setVerbosity(0)"
   ]
  },
  {
   "cell_type": "code",
   "execution_count": 93,
   "metadata": {},
   "outputs": [],
   "source": [
    "dfs1 = pd.read_csv('fit_parameters/dfs_/new_gauss_su_charm_no_no_def.csv') \n",
    "dfs2 = pd.read_csv('fit_parameters/dfs_/new_gauss_su_charm_no_yes_def.csv')\n",
    "dfs3 = pd.read_csv('fit_parameters/dfs_/new_gauss_su_charm_yes_yes_def.csv')\n",
    "\n",
    "df1 = pd.read_csv('fit_parameters/dfs_/fit_hadron_coef_0.27_chi_1.174__True_gk_PV17_su_no_charmno.csv')\n",
    "df2 = pd.read_csv('fit_parameters/dfs_/fit_hadron_coef_0.27_chi_1.259__True_gk_PV17_su_no_charmyes_correction_no.csv')\n",
    "df3 = pd.read_csv('fit_parameters/dfs_/fit_hadron_coef_0.27_chi_1.447__True_gk_PV17_su_yes_charmyes.csv')\n"
   ]
  },
  {
   "cell_type": "code",
   "execution_count": 94,
   "metadata": {},
   "outputs": [
    {
     "data": {
      "text/html": [
       "<div>\n",
       "<style scoped>\n",
       "    .dataframe tbody tr th:only-of-type {\n",
       "        vertical-align: middle;\n",
       "    }\n",
       "\n",
       "    .dataframe tbody tr th {\n",
       "        vertical-align: top;\n",
       "    }\n",
       "\n",
       "    .dataframe thead th {\n",
       "        text-align: right;\n",
       "    }\n",
       "</style>\n",
       "<table border=\"1\" class=\"dataframe\">\n",
       "  <thead>\n",
       "    <tr style=\"text-align: right;\">\n",
       "      <th></th>\n",
       "      <th>NUP</th>\n",
       "      <th>NDO</th>\n",
       "      <th>NST</th>\n",
       "      <th>NSEA</th>\n",
       "      <th>AUP</th>\n",
       "      <th>ADO</th>\n",
       "      <th>AST</th>\n",
       "      <th>ASEA</th>\n",
       "      <th>BUP</th>\n",
       "      <th>BDO</th>\n",
       "      <th>BST</th>\n",
       "      <th>BSEA</th>\n",
       "      <th>PP</th>\n",
       "      <th>MSS</th>\n",
       "      <th>coef</th>\n",
       "      <th>chi_sq</th>\n",
       "    </tr>\n",
       "  </thead>\n",
       "  <tbody>\n",
       "    <tr>\n",
       "      <th>0</th>\n",
       "      <td>0.151081</td>\n",
       "      <td>-0.135165</td>\n",
       "      <td>-0.146546</td>\n",
       "      <td>-0.095736</td>\n",
       "      <td>0.0</td>\n",
       "      <td>0.0</td>\n",
       "      <td>2.060626</td>\n",
       "      <td>0.0</td>\n",
       "      <td>3.834975</td>\n",
       "      <td>0.0</td>\n",
       "      <td>0.0</td>\n",
       "      <td>2.889306</td>\n",
       "      <td>0.103888</td>\n",
       "      <td>0.0</td>\n",
       "      <td>0.27</td>\n",
       "      <td>1.174</td>\n",
       "    </tr>\n",
       "  </tbody>\n",
       "</table>\n",
       "</div>"
      ],
      "text/plain": [
       "        NUP       NDO       NST      NSEA  AUP  ADO       AST  ASEA       BUP  \\\n",
       "0  0.151081 -0.135165 -0.146546 -0.095736  0.0  0.0  2.060626   0.0  3.834975   \n",
       "\n",
       "   BDO  BST      BSEA        PP  MSS  coef  chi_sq  \n",
       "0  0.0  0.0  2.889306  0.103888  0.0  0.27   1.174  "
      ]
     },
     "execution_count": 94,
     "metadata": {},
     "output_type": "execute_result"
    }
   ],
   "source": [
    "df1"
   ]
  },
  {
   "cell_type": "code",
   "execution_count": 95,
   "metadata": {},
   "outputs": [
    {
     "data": {
      "text/html": [
       "<div>\n",
       "<style scoped>\n",
       "    .dataframe tbody tr th:only-of-type {\n",
       "        vertical-align: middle;\n",
       "    }\n",
       "\n",
       "    .dataframe tbody tr th {\n",
       "        vertical-align: top;\n",
       "    }\n",
       "\n",
       "    .dataframe thead th {\n",
       "        text-align: right;\n",
       "    }\n",
       "</style>\n",
       "<table border=\"1\" class=\"dataframe\">\n",
       "  <thead>\n",
       "    <tr style=\"text-align: right;\">\n",
       "      <th></th>\n",
       "      <th>NUP</th>\n",
       "      <th>NDO</th>\n",
       "      <th>NST</th>\n",
       "      <th>NSEA</th>\n",
       "      <th>AST</th>\n",
       "      <th>BUP</th>\n",
       "      <th>BSEA</th>\n",
       "      <th>PP2</th>\n",
       "      <th>chi</th>\n",
       "    </tr>\n",
       "  </thead>\n",
       "  <tbody>\n",
       "    <tr>\n",
       "      <th>0</th>\n",
       "      <td>0.179414</td>\n",
       "      <td>-0.154495</td>\n",
       "      <td>-0.134967</td>\n",
       "      <td>-0.114834</td>\n",
       "      <td>1.975072</td>\n",
       "      <td>3.654721</td>\n",
       "      <td>2.948449</td>\n",
       "      <td>0.119957</td>\n",
       "      <td>112.500995</td>\n",
       "    </tr>\n",
       "    <tr>\n",
       "      <th>1</th>\n",
       "      <td>0.140092</td>\n",
       "      <td>-0.103588</td>\n",
       "      <td>-0.168640</td>\n",
       "      <td>-0.086923</td>\n",
       "      <td>2.244914</td>\n",
       "      <td>4.199672</td>\n",
       "      <td>2.801611</td>\n",
       "      <td>0.084528</td>\n",
       "      <td>115.857903</td>\n",
       "    </tr>\n",
       "    <tr>\n",
       "      <th>2</th>\n",
       "      <td>0.170602</td>\n",
       "      <td>-0.140393</td>\n",
       "      <td>-0.148621</td>\n",
       "      <td>-0.098653</td>\n",
       "      <td>2.142658</td>\n",
       "      <td>4.032842</td>\n",
       "      <td>2.792415</td>\n",
       "      <td>0.114751</td>\n",
       "      <td>117.223654</td>\n",
       "    </tr>\n",
       "    <tr>\n",
       "      <th>3</th>\n",
       "      <td>0.131428</td>\n",
       "      <td>-0.144763</td>\n",
       "      <td>-0.135081</td>\n",
       "      <td>-0.084212</td>\n",
       "      <td>2.035190</td>\n",
       "      <td>3.539777</td>\n",
       "      <td>2.889007</td>\n",
       "      <td>0.100297</td>\n",
       "      <td>116.806015</td>\n",
       "    </tr>\n",
       "    <tr>\n",
       "      <th>4</th>\n",
       "      <td>0.134546</td>\n",
       "      <td>-0.137666</td>\n",
       "      <td>-0.101932</td>\n",
       "      <td>-0.077150</td>\n",
       "      <td>1.550112</td>\n",
       "      <td>3.829438</td>\n",
       "      <td>2.928802</td>\n",
       "      <td>0.089877</td>\n",
       "      <td>115.509900</td>\n",
       "    </tr>\n",
       "    <tr>\n",
       "      <th>...</th>\n",
       "      <td>...</td>\n",
       "      <td>...</td>\n",
       "      <td>...</td>\n",
       "      <td>...</td>\n",
       "      <td>...</td>\n",
       "      <td>...</td>\n",
       "      <td>...</td>\n",
       "      <td>...</td>\n",
       "      <td>...</td>\n",
       "    </tr>\n",
       "    <tr>\n",
       "      <th>1963</th>\n",
       "      <td>0.162036</td>\n",
       "      <td>-0.147861</td>\n",
       "      <td>-0.177139</td>\n",
       "      <td>-0.100254</td>\n",
       "      <td>2.288681</td>\n",
       "      <td>3.865611</td>\n",
       "      <td>2.946237</td>\n",
       "      <td>0.110033</td>\n",
       "      <td>109.349952</td>\n",
       "    </tr>\n",
       "    <tr>\n",
       "      <th>1964</th>\n",
       "      <td>0.118966</td>\n",
       "      <td>-0.119035</td>\n",
       "      <td>-0.118783</td>\n",
       "      <td>-0.071224</td>\n",
       "      <td>1.733556</td>\n",
       "      <td>4.002351</td>\n",
       "      <td>2.977212</td>\n",
       "      <td>0.078102</td>\n",
       "      <td>116.860152</td>\n",
       "    </tr>\n",
       "    <tr>\n",
       "      <th>1965</th>\n",
       "      <td>0.131575</td>\n",
       "      <td>-0.167733</td>\n",
       "      <td>-0.119713</td>\n",
       "      <td>-0.099209</td>\n",
       "      <td>1.814585</td>\n",
       "      <td>3.010215</td>\n",
       "      <td>2.973223</td>\n",
       "      <td>0.118235</td>\n",
       "      <td>115.327194</td>\n",
       "    </tr>\n",
       "    <tr>\n",
       "      <th>1966</th>\n",
       "      <td>0.147982</td>\n",
       "      <td>-0.161057</td>\n",
       "      <td>-0.164618</td>\n",
       "      <td>-0.097140</td>\n",
       "      <td>2.198179</td>\n",
       "      <td>3.588961</td>\n",
       "      <td>2.988108</td>\n",
       "      <td>0.117827</td>\n",
       "      <td>116.462929</td>\n",
       "    </tr>\n",
       "    <tr>\n",
       "      <th>1967</th>\n",
       "      <td>0.197821</td>\n",
       "      <td>-0.150155</td>\n",
       "      <td>-0.139488</td>\n",
       "      <td>-0.114708</td>\n",
       "      <td>2.035369</td>\n",
       "      <td>4.031198</td>\n",
       "      <td>2.912394</td>\n",
       "      <td>0.118497</td>\n",
       "      <td>114.195029</td>\n",
       "    </tr>\n",
       "  </tbody>\n",
       "</table>\n",
       "<p>1968 rows × 9 columns</p>\n",
       "</div>"
      ],
      "text/plain": [
       "           NUP       NDO       NST      NSEA       AST       BUP      BSEA  \\\n",
       "0     0.179414 -0.154495 -0.134967 -0.114834  1.975072  3.654721  2.948449   \n",
       "1     0.140092 -0.103588 -0.168640 -0.086923  2.244914  4.199672  2.801611   \n",
       "2     0.170602 -0.140393 -0.148621 -0.098653  2.142658  4.032842  2.792415   \n",
       "3     0.131428 -0.144763 -0.135081 -0.084212  2.035190  3.539777  2.889007   \n",
       "4     0.134546 -0.137666 -0.101932 -0.077150  1.550112  3.829438  2.928802   \n",
       "...        ...       ...       ...       ...       ...       ...       ...   \n",
       "1963  0.162036 -0.147861 -0.177139 -0.100254  2.288681  3.865611  2.946237   \n",
       "1964  0.118966 -0.119035 -0.118783 -0.071224  1.733556  4.002351  2.977212   \n",
       "1965  0.131575 -0.167733 -0.119713 -0.099209  1.814585  3.010215  2.973223   \n",
       "1966  0.147982 -0.161057 -0.164618 -0.097140  2.198179  3.588961  2.988108   \n",
       "1967  0.197821 -0.150155 -0.139488 -0.114708  2.035369  4.031198  2.912394   \n",
       "\n",
       "           PP2         chi  \n",
       "0     0.119957  112.500995  \n",
       "1     0.084528  115.857903  \n",
       "2     0.114751  117.223654  \n",
       "3     0.100297  116.806015  \n",
       "4     0.089877  115.509900  \n",
       "...        ...         ...  \n",
       "1963  0.110033  109.349952  \n",
       "1964  0.078102  116.860152  \n",
       "1965  0.118235  115.327194  \n",
       "1966  0.117827  116.462929  \n",
       "1967  0.118497  114.195029  \n",
       "\n",
       "[1968 rows x 9 columns]"
      ]
     },
     "execution_count": 95,
     "metadata": {},
     "output_type": "execute_result"
    }
   ],
   "source": [
    "dfs1"
   ]
  },
  {
   "cell_type": "code",
   "execution_count": 96,
   "metadata": {},
   "outputs": [
    {
     "data": {
      "text/html": [
       "<div>\n",
       "<style scoped>\n",
       "    .dataframe tbody tr th:only-of-type {\n",
       "        vertical-align: middle;\n",
       "    }\n",
       "\n",
       "    .dataframe tbody tr th {\n",
       "        vertical-align: top;\n",
       "    }\n",
       "\n",
       "    .dataframe thead th {\n",
       "        text-align: right;\n",
       "    }\n",
       "</style>\n",
       "<table border=\"1\" class=\"dataframe\">\n",
       "  <thead>\n",
       "    <tr style=\"text-align: right;\">\n",
       "      <th></th>\n",
       "      <th>NUP</th>\n",
       "      <th>NDO</th>\n",
       "      <th>NST</th>\n",
       "      <th>NSEA</th>\n",
       "      <th>AST</th>\n",
       "      <th>BUP</th>\n",
       "      <th>BSEA</th>\n",
       "      <th>PP</th>\n",
       "      <th>chi_sq</th>\n",
       "    </tr>\n",
       "  </thead>\n",
       "  <tbody>\n",
       "    <tr>\n",
       "      <th>0</th>\n",
       "      <td>0.151081</td>\n",
       "      <td>-0.135165</td>\n",
       "      <td>-0.146546</td>\n",
       "      <td>-0.095736</td>\n",
       "      <td>2.060626</td>\n",
       "      <td>3.834975</td>\n",
       "      <td>2.889306</td>\n",
       "      <td>0.103888</td>\n",
       "      <td>1.174</td>\n",
       "    </tr>\n",
       "  </tbody>\n",
       "</table>\n",
       "</div>"
      ],
      "text/plain": [
       "        NUP       NDO       NST      NSEA       AST       BUP      BSEA  \\\n",
       "0  0.151081 -0.135165 -0.146546 -0.095736  2.060626  3.834975  2.889306   \n",
       "\n",
       "         PP  chi_sq  \n",
       "0  0.103888   1.174  "
      ]
     },
     "execution_count": 96,
     "metadata": {},
     "output_type": "execute_result"
    }
   ],
   "source": [
    "df1=df1.drop(columns=['AUP', 'ADO','ASEA','BDO','BST','MSS','coef'])\n",
    "df1"
   ]
  },
  {
   "cell_type": "code",
   "execution_count": 97,
   "metadata": {},
   "outputs": [],
   "source": [
    "max1=dfs1.max().to_numpy()\n",
    "min1=dfs1.min().to_numpy()\n",
    "mean1=df1.values[0]"
   ]
  },
  {
   "cell_type": "code",
   "execution_count": 98,
   "metadata": {},
   "outputs": [
    {
     "data": {
      "text/plain": [
       "array([7.8000e-02, 3.8000e-02, 5.4000e-02, 3.2000e-02, 8.4900e-01,\n",
       "       1.1850e+00, 2.9200e-01, 4.6000e-02, 1.1791e+02])"
      ]
     },
     "execution_count": 98,
     "metadata": {},
     "output_type": "execute_result"
    }
   ],
   "source": [
    "np.round((max1-mean1),3)"
   ]
  },
  {
   "cell_type": "code",
   "execution_count": 99,
   "metadata": {},
   "outputs": [
    {
     "data": {
      "text/plain": [
       "array([ 5.20000e-02,  4.60000e-02,  9.00000e-02,  4.90000e-02,\n",
       "        6.30000e-01,  1.08700e+00,  2.38000e-01,  3.50000e-02,\n",
       "       -1.03061e+02])"
      ]
     },
     "execution_count": 99,
     "metadata": {},
     "output_type": "execute_result"
    }
   ],
   "source": [
    "np.round((mean1-min1),3)"
   ]
  },
  {
   "cell_type": "code",
   "execution_count": 100,
   "metadata": {},
   "outputs": [
    {
     "data": {
      "text/html": [
       "<div>\n",
       "<style scoped>\n",
       "    .dataframe tbody tr th:only-of-type {\n",
       "        vertical-align: middle;\n",
       "    }\n",
       "\n",
       "    .dataframe tbody tr th {\n",
       "        vertical-align: top;\n",
       "    }\n",
       "\n",
       "    .dataframe thead th {\n",
       "        text-align: right;\n",
       "    }\n",
       "</style>\n",
       "<table border=\"1\" class=\"dataframe\">\n",
       "  <thead>\n",
       "    <tr style=\"text-align: right;\">\n",
       "      <th></th>\n",
       "      <th>NUP</th>\n",
       "      <th>NDO</th>\n",
       "      <th>NST</th>\n",
       "      <th>NSEA</th>\n",
       "      <th>AUP</th>\n",
       "      <th>ADO</th>\n",
       "      <th>AST</th>\n",
       "      <th>ASEA</th>\n",
       "      <th>BUP</th>\n",
       "      <th>BDO</th>\n",
       "      <th>BST</th>\n",
       "      <th>BSEA</th>\n",
       "      <th>PP</th>\n",
       "      <th>MSS</th>\n",
       "      <th>coef</th>\n",
       "      <th>chi_sq</th>\n",
       "    </tr>\n",
       "  </thead>\n",
       "  <tbody>\n",
       "    <tr>\n",
       "      <th>0</th>\n",
       "      <td>0.17767</td>\n",
       "      <td>-0.37635</td>\n",
       "      <td>-0.120607</td>\n",
       "      <td>-0.12731</td>\n",
       "      <td>0.0</td>\n",
       "      <td>0.773697</td>\n",
       "      <td>0.84825</td>\n",
       "      <td>0.0</td>\n",
       "      <td>2.709673</td>\n",
       "      <td>0.0</td>\n",
       "      <td>0.0</td>\n",
       "      <td>1.589869</td>\n",
       "      <td>0.093485</td>\n",
       "      <td>0.0</td>\n",
       "      <td>0.27</td>\n",
       "      <td>1.259</td>\n",
       "    </tr>\n",
       "  </tbody>\n",
       "</table>\n",
       "</div>"
      ],
      "text/plain": [
       "       NUP      NDO       NST     NSEA  AUP       ADO      AST  ASEA  \\\n",
       "0  0.17767 -0.37635 -0.120607 -0.12731  0.0  0.773697  0.84825   0.0   \n",
       "\n",
       "        BUP  BDO  BST      BSEA        PP  MSS  coef  chi_sq  \n",
       "0  2.709673  0.0  0.0  1.589869  0.093485  0.0  0.27   1.259  "
      ]
     },
     "execution_count": 100,
     "metadata": {},
     "output_type": "execute_result"
    }
   ],
   "source": [
    "df2"
   ]
  },
  {
   "cell_type": "code",
   "execution_count": 101,
   "metadata": {},
   "outputs": [
    {
     "data": {
      "text/html": [
       "<div>\n",
       "<style scoped>\n",
       "    .dataframe tbody tr th:only-of-type {\n",
       "        vertical-align: middle;\n",
       "    }\n",
       "\n",
       "    .dataframe tbody tr th {\n",
       "        vertical-align: top;\n",
       "    }\n",
       "\n",
       "    .dataframe thead th {\n",
       "        text-align: right;\n",
       "    }\n",
       "</style>\n",
       "<table border=\"1\" class=\"dataframe\">\n",
       "  <thead>\n",
       "    <tr style=\"text-align: right;\">\n",
       "      <th></th>\n",
       "      <th>NUP</th>\n",
       "      <th>NDO</th>\n",
       "      <th>NST</th>\n",
       "      <th>NSEA</th>\n",
       "      <th>ADO</th>\n",
       "      <th>AST</th>\n",
       "      <th>BUP</th>\n",
       "      <th>BSEA</th>\n",
       "      <th>PP</th>\n",
       "      <th>chi_sq</th>\n",
       "    </tr>\n",
       "  </thead>\n",
       "  <tbody>\n",
       "    <tr>\n",
       "      <th>0</th>\n",
       "      <td>0.17767</td>\n",
       "      <td>-0.37635</td>\n",
       "      <td>-0.120607</td>\n",
       "      <td>-0.12731</td>\n",
       "      <td>0.773697</td>\n",
       "      <td>0.84825</td>\n",
       "      <td>2.709673</td>\n",
       "      <td>1.589869</td>\n",
       "      <td>0.093485</td>\n",
       "      <td>1.259</td>\n",
       "    </tr>\n",
       "  </tbody>\n",
       "</table>\n",
       "</div>"
      ],
      "text/plain": [
       "       NUP      NDO       NST     NSEA       ADO      AST       BUP      BSEA  \\\n",
       "0  0.17767 -0.37635 -0.120607 -0.12731  0.773697  0.84825  2.709673  1.589869   \n",
       "\n",
       "         PP  chi_sq  \n",
       "0  0.093485   1.259  "
      ]
     },
     "execution_count": 101,
     "metadata": {},
     "output_type": "execute_result"
    }
   ],
   "source": [
    "df2=df2.drop(columns=['AUP','ASEA','BDO','BST','MSS','coef'])\n",
    "df2"
   ]
  },
  {
   "cell_type": "code",
   "execution_count": 102,
   "metadata": {},
   "outputs": [],
   "source": [
    "max2=dfs2.max().to_numpy()\n",
    "min2=dfs2.min().to_numpy()\n",
    "mean2=df2.values[0]"
   ]
  },
  {
   "cell_type": "code",
   "execution_count": 103,
   "metadata": {},
   "outputs": [
    {
     "data": {
      "text/plain": [
       "array([1.67000e-01, 2.53000e-01, 5.00000e-02, 7.60000e-02, 1.17900e+00,\n",
       "       6.51000e-01, 2.24200e+00, 2.04000e+00, 5.00000e-02, 1.25535e+02])"
      ]
     },
     "execution_count": 103,
     "metadata": {},
     "output_type": "execute_result"
    }
   ],
   "source": [
    "np.round((max2-mean2),3)"
   ]
  },
  {
   "cell_type": "code",
   "execution_count": 104,
   "metadata": {},
   "outputs": [
    {
     "data": {
      "text/plain": [
       "array([ 9.80000e-02,  4.18000e-01,  5.90000e-02,  1.31000e-01,\n",
       "        7.69000e-01,  6.20000e-01,  1.74900e+00,  1.49900e+00,\n",
       "        4.60000e-02, -1.09145e+02])"
      ]
     },
     "execution_count": 104,
     "metadata": {},
     "output_type": "execute_result"
    }
   ],
   "source": [
    "np.round((mean2-min2),3)"
   ]
  },
  {
   "cell_type": "code",
   "execution_count": 105,
   "metadata": {},
   "outputs": [
    {
     "data": {
      "text/html": [
       "<div>\n",
       "<style scoped>\n",
       "    .dataframe tbody tr th:only-of-type {\n",
       "        vertical-align: middle;\n",
       "    }\n",
       "\n",
       "    .dataframe tbody tr th {\n",
       "        vertical-align: top;\n",
       "    }\n",
       "\n",
       "    .dataframe thead th {\n",
       "        text-align: right;\n",
       "    }\n",
       "</style>\n",
       "<table border=\"1\" class=\"dataframe\">\n",
       "  <thead>\n",
       "    <tr style=\"text-align: right;\">\n",
       "      <th></th>\n",
       "      <th>NUP</th>\n",
       "      <th>NDO</th>\n",
       "      <th>NST</th>\n",
       "      <th>NSEA</th>\n",
       "      <th>AUP</th>\n",
       "      <th>ADO</th>\n",
       "      <th>AST</th>\n",
       "      <th>ASEA</th>\n",
       "      <th>BUP</th>\n",
       "      <th>BDO</th>\n",
       "      <th>BST</th>\n",
       "      <th>BSEA</th>\n",
       "      <th>PP</th>\n",
       "      <th>MSS</th>\n",
       "      <th>coef</th>\n",
       "      <th>chi_sq</th>\n",
       "    </tr>\n",
       "  </thead>\n",
       "  <tbody>\n",
       "    <tr>\n",
       "      <th>0</th>\n",
       "      <td>0.20755</td>\n",
       "      <td>-0.128118</td>\n",
       "      <td>-0.252721</td>\n",
       "      <td>-0.164992</td>\n",
       "      <td>0.0</td>\n",
       "      <td>0.0</td>\n",
       "      <td>2.112447</td>\n",
       "      <td>0.0</td>\n",
       "      <td>2.43826</td>\n",
       "      <td>1.154119</td>\n",
       "      <td>0.0</td>\n",
       "      <td>0.0</td>\n",
       "      <td>0.117157</td>\n",
       "      <td>0.0</td>\n",
       "      <td>0.27</td>\n",
       "      <td>1.447</td>\n",
       "    </tr>\n",
       "  </tbody>\n",
       "</table>\n",
       "</div>"
      ],
      "text/plain": [
       "       NUP       NDO       NST      NSEA  AUP  ADO       AST  ASEA      BUP  \\\n",
       "0  0.20755 -0.128118 -0.252721 -0.164992  0.0  0.0  2.112447   0.0  2.43826   \n",
       "\n",
       "        BDO  BST  BSEA        PP  MSS  coef  chi_sq  \n",
       "0  1.154119  0.0   0.0  0.117157  0.0  0.27   1.447  "
      ]
     },
     "execution_count": 105,
     "metadata": {},
     "output_type": "execute_result"
    }
   ],
   "source": [
    "df3"
   ]
  },
  {
   "cell_type": "code",
   "execution_count": 106,
   "metadata": {},
   "outputs": [
    {
     "data": {
      "text/html": [
       "<div>\n",
       "<style scoped>\n",
       "    .dataframe tbody tr th:only-of-type {\n",
       "        vertical-align: middle;\n",
       "    }\n",
       "\n",
       "    .dataframe tbody tr th {\n",
       "        vertical-align: top;\n",
       "    }\n",
       "\n",
       "    .dataframe thead th {\n",
       "        text-align: right;\n",
       "    }\n",
       "</style>\n",
       "<table border=\"1\" class=\"dataframe\">\n",
       "  <thead>\n",
       "    <tr style=\"text-align: right;\">\n",
       "      <th></th>\n",
       "      <th>NUP</th>\n",
       "      <th>NDO</th>\n",
       "      <th>NST</th>\n",
       "      <th>NSEA</th>\n",
       "      <th>AST</th>\n",
       "      <th>BUP</th>\n",
       "      <th>BDO</th>\n",
       "      <th>PP</th>\n",
       "      <th>chi_sq</th>\n",
       "    </tr>\n",
       "  </thead>\n",
       "  <tbody>\n",
       "    <tr>\n",
       "      <th>0</th>\n",
       "      <td>0.20755</td>\n",
       "      <td>-0.128118</td>\n",
       "      <td>-0.252721</td>\n",
       "      <td>-0.164992</td>\n",
       "      <td>2.112447</td>\n",
       "      <td>2.43826</td>\n",
       "      <td>1.154119</td>\n",
       "      <td>0.117157</td>\n",
       "      <td>1.447</td>\n",
       "    </tr>\n",
       "  </tbody>\n",
       "</table>\n",
       "</div>"
      ],
      "text/plain": [
       "       NUP       NDO       NST      NSEA       AST      BUP       BDO  \\\n",
       "0  0.20755 -0.128118 -0.252721 -0.164992  2.112447  2.43826  1.154119   \n",
       "\n",
       "         PP  chi_sq  \n",
       "0  0.117157   1.447  "
      ]
     },
     "execution_count": 106,
     "metadata": {},
     "output_type": "execute_result"
    }
   ],
   "source": [
    "df3=df3.drop(columns=['AUP','ADO','ASEA','BST','BSEA','MSS','coef'])\n",
    "df3"
   ]
  },
  {
   "cell_type": "code",
   "execution_count": 82,
   "metadata": {},
   "outputs": [],
   "source": [
    "max3=dfs3.max().to_numpy()\n",
    "min3=dfs3.min().to_numpy()\n",
    "mean3=df3.values[0]"
   ]
  },
  {
   "cell_type": "code",
   "execution_count": 108,
   "metadata": {},
   "outputs": [
    {
     "data": {
      "text/plain": [
       "array([7.20000e-02, 6.50000e-02, 1.08000e-01, 3.70000e-02, 1.11500e+00,\n",
       "       8.05000e-01, 1.52700e+00, 4.60000e-02, 1.41742e+02])"
      ]
     },
     "execution_count": 108,
     "metadata": {},
     "output_type": "execute_result"
    }
   ],
   "source": [
    "np.round((max3-mean3),3)"
   ]
  },
  {
   "cell_type": "code",
   "execution_count": 107,
   "metadata": {},
   "outputs": [
    {
     "data": {
      "text/plain": [
       "array([ 5.50000e-02,  8.10000e-02,  1.99000e-01,  5.60000e-02,\n",
       "        8.76000e-01,  8.40000e-01,  1.13100e+00,  3.60000e-02,\n",
       "       -1.26333e+02])"
      ]
     },
     "execution_count": 107,
     "metadata": {},
     "output_type": "execute_result"
    }
   ],
   "source": [
    "np.round((mean3-min3),3)"
   ]
  },
  {
   "cell_type": "code",
   "execution_count": null,
   "metadata": {},
   "outputs": [],
   "source": []
  }
 ],
 "metadata": {
  "kernelspec": {
   "display_name": "Python 3",
   "language": "python",
   "name": "python3"
  },
  "language_info": {
   "codemirror_mode": {
    "name": "ipython",
    "version": 3
   },
   "file_extension": ".py",
   "mimetype": "text/x-python",
   "name": "python",
   "nbconvert_exporter": "python",
   "pygments_lexer": "ipython3",
   "version": "3.7.3"
  }
 },
 "nbformat": 4,
 "nbformat_minor": 2
}
