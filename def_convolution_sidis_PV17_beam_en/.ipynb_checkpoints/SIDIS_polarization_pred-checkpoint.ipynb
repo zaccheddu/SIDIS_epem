{
 "cells": [
  {
   "cell_type": "code",
   "execution_count": 1,
   "metadata": {},
   "outputs": [
    {
     "name": "stdout",
     "output_type": "stream",
     "text": [
      "/home/zackmrc/Documenti/git_project/SIDIS pol/def_convolution_sidis_PV17\n"
     ]
    }
   ],
   "source": [
    "# -*- coding: utf-8 -*-\n",
    "from pylab import*\n",
    "import matplotlib.pyplot as plt\n",
    "from numpy import*\n",
    "from matplotlib.pyplot import*\n",
    "import pandas as pd\n",
    "import time\n",
    "import sys\n",
    "from def_conv_crs_2h import*\n",
    "from numpy import*\n",
    "y_lbl=50\n",
    "x_lbl =50\n",
    "\n",
    "\n",
    "ers_bar = 1.3  # dimensione barre errore\n",
    "pnt_dat = 6 # dimensione punti\n",
    "\n",
    "title_s=35 #dimensione titolo bin\n",
    "\n",
    "fit_l=3.  # dimensione linea fit\n"
   ]
  },
  {
   "cell_type": "code",
   "execution_count": 2,
   "metadata": {},
   "outputs": [],
   "source": [
    "pwrlw = pd.read_csv('fit_parameters/fit_hadron_coef_0.25_chi_1.21__True_gk_ll_lgm.csv')\n",
    "gauss = pd.read_csv('fit_parameters/fit_hadron_coef_0.25_chi_1.192__True_gk_ll_lgm.csv')"
   ]
  },
  {
   "cell_type": "code",
   "execution_count": 3,
   "metadata": {},
   "outputs": [
    {
     "data": {
      "text/html": [
       "<div>\n",
       "<style scoped>\n",
       "    .dataframe tbody tr th:only-of-type {\n",
       "        vertical-align: middle;\n",
       "    }\n",
       "\n",
       "    .dataframe tbody tr th {\n",
       "        vertical-align: top;\n",
       "    }\n",
       "\n",
       "    .dataframe thead th {\n",
       "        text-align: right;\n",
       "    }\n",
       "</style>\n",
       "<table border=\"1\" class=\"dataframe\">\n",
       "  <thead>\n",
       "    <tr style=\"text-align: right;\">\n",
       "      <th></th>\n",
       "      <th>NUP</th>\n",
       "      <th>NDO</th>\n",
       "      <th>NST</th>\n",
       "      <th>NSEA</th>\n",
       "      <th>AUP</th>\n",
       "      <th>ADO</th>\n",
       "      <th>AST</th>\n",
       "      <th>ASEA</th>\n",
       "      <th>BUP</th>\n",
       "      <th>BDO</th>\n",
       "      <th>BST</th>\n",
       "      <th>BSEA</th>\n",
       "      <th>PP</th>\n",
       "      <th>MSS</th>\n",
       "      <th>coef</th>\n",
       "      <th>chi_sq</th>\n",
       "    </tr>\n",
       "  </thead>\n",
       "  <tbody>\n",
       "    <tr>\n",
       "      <th>0</th>\n",
       "      <td>0.099659</td>\n",
       "      <td>-0.106663</td>\n",
       "      <td>-0.115087</td>\n",
       "      <td>-0.057671</td>\n",
       "      <td>0.0</td>\n",
       "      <td>0.0</td>\n",
       "      <td>2.119515</td>\n",
       "      <td>0.0</td>\n",
       "      <td>3.50037</td>\n",
       "      <td>0.0</td>\n",
       "      <td>0.0</td>\n",
       "      <td>2.27198</td>\n",
       "      <td>3.015445</td>\n",
       "      <td>0.348702</td>\n",
       "      <td>0.25</td>\n",
       "      <td>1.21</td>\n",
       "    </tr>\n",
       "  </tbody>\n",
       "</table>\n",
       "</div>"
      ],
      "text/plain": [
       "        NUP       NDO       NST      NSEA  AUP  ADO       AST  ASEA      BUP  \\\n",
       "0  0.099659 -0.106663 -0.115087 -0.057671  0.0  0.0  2.119515   0.0  3.50037   \n",
       "\n",
       "   BDO  BST     BSEA        PP       MSS  coef  chi_sq  \n",
       "0  0.0  0.0  2.27198  3.015445  0.348702  0.25    1.21  "
      ]
     },
     "execution_count": 3,
     "metadata": {},
     "output_type": "execute_result"
    }
   ],
   "source": [
    "pwrlw"
   ]
  },
  {
   "cell_type": "code",
   "execution_count": 4,
   "metadata": {},
   "outputs": [],
   "source": [
    "pol = polarization(0.25)\n",
    "pol.g_k = 'PV17'\n",
    "pol.scale =10.58\n",
    "pol.mass = 1.115\n",
    "pol.bmax = 0.6\n",
    "pol.charm = 'no'\n",
    "\n",
    "pol.mdl_den = 'pwr_lw_star'\n",
    "pol.mdl_num = 'gauss'\n",
    "\n",
    "pol2 = polarization(0.25)\n",
    "pol2.g_k = 'PV17'\n",
    "pol2.scale =10.58\n",
    "pol2.mass = 1.115\n",
    "pol2.bmax = 0.6\n",
    "pol2.charm = 'no'\n",
    "\n",
    "pol2.mdl_den = 'pwr_lw_star'\n",
    "pol2.mdl_num = 'pwr_lw_star'\n"
   ]
  },
  {
   "cell_type": "code",
   "execution_count": 5,
   "metadata": {},
   "outputs": [],
   "source": [
    "f_prm=arange(0.,18.,1.)\n",
    "f_prm[0] = gauss.NUP\n",
    "f_prm[1] = gauss.NDO#par[0]  #do\n",
    "f_prm[2] = gauss.NST  #par[0]      #st\n",
    "f_prm[3] = gauss.NSEA  #par[0]      #upb\n",
    "f_prm[4] = f_prm[3] #par[0]      #dob\n",
    "f_prm[5] = f_prm[3] # par[0]      #stb\n",
    "#¯¯¯¯¯¯\n",
    "f_prm[6] = 0 #par[0]      #aup\n",
    "f_prm[7] = 0 #par[0]      #ado\n",
    "f_prm[8] = gauss.AST  # par[0]      #ast\n",
    "f_prm[9] = 0# par[0]      #aupb\n",
    "f_prm[10] = f_prm[9] #par[0]      #adob\n",
    "f_prm[11] = f_prm[9] #par[0]      #astb\n",
    "#¯#¯¯¯¯¯¯¯\n",
    "f_prm[12] = gauss.BUP #par[0]      #bup\n",
    "f_prm[13] = 0 #par[0]      #bdo\n",
    "f_prm[14] = 0# par[0]      #bst\n",
    "f_prm[15] = gauss.BSEA #par[0]      #bupb\n",
    "f_prm[16] = f_prm[15] #par[0]      #bdob\n",
    "f_prm[17] = f_prm[15] # par[0]      #bstb\n",
    "pp = np.float64(gauss.PP)\n",
    "#pp=gauss.PP.astype(float)\n",
    "\n"
   ]
  },
  {
   "cell_type": "code",
   "execution_count": 6,
   "metadata": {},
   "outputs": [],
   "source": [
    "f_prm2=arange(0.,18.,1.)\n",
    "f_prm2[0] = pwrlw.NUP\n",
    "f_prm2[1] = pwrlw.NDO#par[0]  #do\n",
    "f_prm2[2] = pwrlw.NST  #par[0]      #st\n",
    "f_prm2[3] = pwrlw.NSEA  #par[0]      #upb\n",
    "f_prm2[4] = f_prm[3] #par[0]      #dob\n",
    "f_prm2[5] = f_prm[3] # par[0]      #stb\n",
    "#¯¯¯¯¯¯\n",
    "f_prm2[6] = 0 #par[0]      #aup\n",
    "f_prm2[7] = 0 #par[0]      #ado\n",
    "f_prm2[8] = pwrlw.AST  # par[0]      #ast\n",
    "f_prm2[9] = 0# par[0]      #aupb\n",
    "f_prm2[10] = f_prm[9] #par[0]      #adob\n",
    "f_prm2[11] = f_prm[9] #par[0]      #astb\n",
    "#¯#¯¯¯¯¯¯¯\n",
    "f_prm2[12] = pwrlw.BUP #par[0]      #bup\n",
    "f_prm2[13] = 0 #par[0]      #bdo\n",
    "f_prm2[14] = 0# par[0]      #bst\n",
    "f_prm2[15] = pwrlw.BSEA #par[0]      #bupb\n",
    "f_prm2[16] = f_prm[15] #par[0]      #bdob\n",
    "f_prm2[17] = f_prm[15] # par[0]      #bstb\n",
    "pp2 = np.float64(pwrlw.PP)\n",
    "mss = np.float64(pwrlw.MSS)\n",
    "#pp=gauss.PP.astype(float)\n",
    "\n"
   ]
  },
  {
   "cell_type": "code",
   "execution_count": 7,
   "metadata": {},
   "outputs": [
    {
     "data": {
      "text/plain": [
       "0.017506222158041995"
      ]
     },
     "execution_count": 7,
     "metadata": {},
     "output_type": "execute_result"
    }
   ],
   "source": [
    "pol.ratio('lbd','PP',0.3,0.1,f_prm,pp,0.)"
   ]
  },
  {
   "cell_type": "code",
   "execution_count": 8,
   "metadata": {},
   "outputs": [
    {
     "data": {
      "text/plain": [
       "0.016701048487456075"
      ]
     },
     "execution_count": 8,
     "metadata": {},
     "output_type": "execute_result"
    }
   ],
   "source": [
    "pol2.ratio('lbd','PP',0.3,0.1,f_prm2,pp2,mss)"
   ]
  },
  {
   "cell_type": "code",
   "execution_count": 9,
   "metadata": {},
   "outputs": [],
   "source": [
    "zs = linspace(0.25,0.7,30)"
   ]
  },
  {
   "cell_type": "code",
   "execution_count": 10,
   "metadata": {},
   "outputs": [],
   "source": [
    "pls1=zeros(len(zs))\n",
    "pls2=zeros(len(zs))\n",
    "\n",
    "pls11=zeros(len(zs))\n",
    "pls22=zeros(len(zs))\n",
    "\n",
    "i=0\n",
    "for zz in zs:\n",
    "    pls1[i]= pol.ratio('lbd','PP',zz,0.1,f_prm,pp,0.)\n",
    "    pls2[i]= pol2.ratio('lbd','PP',zz,0.1,f_prm2,pp2,mss)\n",
    "\n",
    "    pls11[i]= pol.ratio('lbd_b','PP',zz,0.1,f_prm,pp,0.)\n",
    "    pls22[i]= pol2.ratio('lbd_b','PP',zz,0.1,f_prm2,pp2,mss)\n",
    "\n",
    "    i+=1"
   ]
  },
  {
   "cell_type": "code",
   "execution_count": 11,
   "metadata": {},
   "outputs": [
    {
     "data": {
      "text/plain": [
       "<matplotlib.legend.Legend at 0x7eff8355bef0>"
      ]
     },
     "execution_count": 11,
     "metadata": {},
     "output_type": "execute_result"
    },
    {
     "data": {
      "image/png": "[encoded data removed]",
      "text/plain": [
       "<Figure size 432x288 with 1 Axes>"
      ]
     },
     "metadata": {
      "needs_background": "light"
     },
     "output_type": "display_data"
    }
   ],
   "source": [
    "plot(zs,pls2,label='pwrlw lambda')\n",
    "plot(zs,pls1,label='gauss lambda')\n",
    "\n",
    "plot(zs,pls22,label='pwrlw lambda_bar')\n",
    "plot(zs,pls11,label='gauss lambda_bar')\n",
    "\n",
    "legend()"
   ]
  },
  {
   "cell_type": "code",
   "execution_count": 12,
   "metadata": {},
   "outputs": [],
   "source": [
    "pol.scale=10.58\n",
    "pol2.scale=10.58\n",
    "\n",
    "\n",
    "pls1=zeros(len(zs))\n",
    "pls2=zeros(len(zs))\n",
    "\n",
    "pls11=zeros(len(zs))\n",
    "pls22=zeros(len(zs))\n",
    "\n",
    "i=0\n",
    "for zz in zs:\n",
    "    pls1[i]= pol.ratio('lbd','PP',zz,0.3,f_prm,pp,0.)\n",
    "    pls2[i]= pol2.ratio('lbd','PP',zz,0.3,f_prm2,pp2,mss)\n",
    "\n",
    "    pls11[i]= pol.ratio('lbd_b','PP',zz,0.3,f_prm,pp,0.)\n",
    "    pls22[i]= pol2.ratio('lbd_b','PP',zz,0.3,f_prm2,pp2,mss)\n",
    "\n",
    "    i+=1"
   ]
  },
  {
   "cell_type": "code",
   "execution_count": 13,
   "metadata": {},
   "outputs": [
    {
     "data": {
      "text/plain": [
       "<matplotlib.legend.Legend at 0x7eff8142aeb8>"
      ]
     },
     "execution_count": 13,
     "metadata": {},
     "output_type": "execute_result"
    },
    {
     "data": {
      "image/png": "[encoded data removed]",
      "text/plain": [
       "<Figure size 432x288 with 1 Axes>"
      ]
     },
     "metadata": {
      "needs_background": "light"
     },
     "output_type": "display_data"
    }
   ],
   "source": [
    "plot(zs,pls2,label='pwrlw lambda')\n",
    "plot(zs,pls1,label='gauss lambda')\n",
    "\n",
    "plot(zs,pls22,label='pwrlw lambda_bar')\n",
    "plot(zs,pls11,label='gauss lambda_bar')\n",
    "\n",
    "legend()"
   ]
  },
  {
   "cell_type": "code",
   "execution_count": 14,
   "metadata": {},
   "outputs": [],
   "source": [
    "pwrlw_ch_no = pd.read_csv('fit_parameters/fit_hadron_coef_0.25_chi_1.218__True_gk_ll_lgm.csv')\n",
    "pwrlw_ch_yes = pd.read_csv('fit_parameters/fit_hadron_coef_0.25_chi_1.437__True_gk_ll_lgm.csv')"
   ]
  },
  {
   "cell_type": "code",
   "execution_count": 15,
   "metadata": {},
   "outputs": [
    {
     "data": {
      "text/html": [
       "<div>\n",
       "<style scoped>\n",
       "    .dataframe tbody tr th:only-of-type {\n",
       "        vertical-align: middle;\n",
       "    }\n",
       "\n",
       "    .dataframe tbody tr th {\n",
       "        vertical-align: top;\n",
       "    }\n",
       "\n",
       "    .dataframe thead th {\n",
       "        text-align: right;\n",
       "    }\n",
       "</style>\n",
       "<table border=\"1\" class=\"dataframe\">\n",
       "  <thead>\n",
       "    <tr style=\"text-align: right;\">\n",
       "      <th></th>\n",
       "      <th>NUP</th>\n",
       "      <th>NDO</th>\n",
       "      <th>NST</th>\n",
       "      <th>NSEA</th>\n",
       "      <th>AUP</th>\n",
       "      <th>ADO</th>\n",
       "      <th>AST</th>\n",
       "      <th>ASEA</th>\n",
       "      <th>BUP</th>\n",
       "      <th>BDO</th>\n",
       "      <th>BST</th>\n",
       "      <th>BSEA</th>\n",
       "      <th>PP</th>\n",
       "      <th>MSS</th>\n",
       "      <th>coef</th>\n",
       "      <th>chi_sq</th>\n",
       "    </tr>\n",
       "  </thead>\n",
       "  <tbody>\n",
       "    <tr>\n",
       "      <th>0</th>\n",
       "      <td>0.16542</td>\n",
       "      <td>-0.152615</td>\n",
       "      <td>-0.09244</td>\n",
       "      <td>-0.091276</td>\n",
       "      <td>0.0</td>\n",
       "      <td>0.0</td>\n",
       "      <td>0.686383</td>\n",
       "      <td>0.0</td>\n",
       "      <td>2.864056</td>\n",
       "      <td>0.0</td>\n",
       "      <td>0.0</td>\n",
       "      <td>1.056605</td>\n",
       "      <td>1.867813</td>\n",
       "      <td>0.246021</td>\n",
       "      <td>0.25</td>\n",
       "      <td>1.218</td>\n",
       "    </tr>\n",
       "  </tbody>\n",
       "</table>\n",
       "</div>"
      ],
      "text/plain": [
       "       NUP       NDO      NST      NSEA  AUP  ADO       AST  ASEA       BUP  \\\n",
       "0  0.16542 -0.152615 -0.09244 -0.091276  0.0  0.0  0.686383   0.0  2.864056   \n",
       "\n",
       "   BDO  BST      BSEA        PP       MSS  coef  chi_sq  \n",
       "0  0.0  0.0  1.056605  1.867813  0.246021  0.25   1.218  "
      ]
     },
     "execution_count": 15,
     "metadata": {},
     "output_type": "execute_result"
    }
   ],
   "source": [
    "pwrlw_ch_no"
   ]
  },
  {
   "cell_type": "code",
   "execution_count": 16,
   "metadata": {},
   "outputs": [],
   "source": [
    "f_prm3=arange(0.,18.,1.)\n",
    "f_prm3[0] = pwrlw_ch_no.NUP\n",
    "f_prm3[1] = pwrlw_ch_no.NDO#par[0]  #do\n",
    "f_prm3[2] = pwrlw_ch_no.NST  #par[0]      #st\n",
    "f_prm3[3] = pwrlw_ch_no.NSEA  #par[0]      #upb\n",
    "f_prm3[4] = f_prm[3] #par[0]      #dob\n",
    "f_prm3[5] = f_prm[3] # par[0]      #stb\n",
    "#¯¯¯¯¯¯\n",
    "f_prm3[6] = 0 #par[0]      #aup\n",
    "f_prm3[7] = 0 #par[0]      #ado\n",
    "f_prm3[8] = pwrlw_ch_no.AST  # par[0]      #ast\n",
    "f_prm3[9] = 0# par[0]      #aupb\n",
    "f_prm3[10] = f_prm[9] #par[0]      #adob\n",
    "f_prm3[11] = f_prm[9] #par[0]      #astb\n",
    "#¯#¯¯¯¯¯¯¯\n",
    "f_prm3[12] = pwrlw_ch_no.BUP #par[0]      #bup\n",
    "f_prm3[13] = 0 #par[0]      #bdo\n",
    "f_prm3[14] = 0# par[0]      #bst\n",
    "f_prm3[15] = pwrlw_ch_no.BSEA #par[0]      #bupb\n",
    "f_prm3[16] = f_prm[15] #par[0]      #bdob\n",
    "f_prm3[17] = f_prm[15] # par[0]      #bstb\n",
    "pp3 = np.float64(pwrlw_ch_no.PP)\n",
    "mss3 =np.float64(pwrlw_ch_no.MSS)\n",
    "#pp=gauss.PP.astype(float)\n",
    "\n"
   ]
  },
  {
   "cell_type": "code",
   "execution_count": 17,
   "metadata": {},
   "outputs": [
    {
     "data": {
      "text/html": [
       "<div>\n",
       "<style scoped>\n",
       "    .dataframe tbody tr th:only-of-type {\n",
       "        vertical-align: middle;\n",
       "    }\n",
       "\n",
       "    .dataframe tbody tr th {\n",
       "        vertical-align: top;\n",
       "    }\n",
       "\n",
       "    .dataframe thead th {\n",
       "        text-align: right;\n",
       "    }\n",
       "</style>\n",
       "<table border=\"1\" class=\"dataframe\">\n",
       "  <thead>\n",
       "    <tr style=\"text-align: right;\">\n",
       "      <th></th>\n",
       "      <th>NUP</th>\n",
       "      <th>NDO</th>\n",
       "      <th>NST</th>\n",
       "      <th>NSEA</th>\n",
       "      <th>AUP</th>\n",
       "      <th>ADO</th>\n",
       "      <th>AST</th>\n",
       "      <th>ASEA</th>\n",
       "      <th>BUP</th>\n",
       "      <th>BDO</th>\n",
       "      <th>BST</th>\n",
       "      <th>BSEA</th>\n",
       "      <th>PP</th>\n",
       "      <th>MSS</th>\n",
       "      <th>coef</th>\n",
       "      <th>chi_sq</th>\n",
       "    </tr>\n",
       "  </thead>\n",
       "  <tbody>\n",
       "    <tr>\n",
       "      <th>0</th>\n",
       "      <td>0.222929</td>\n",
       "      <td>-0.159527</td>\n",
       "      <td>-0.203855</td>\n",
       "      <td>-0.17626</td>\n",
       "      <td>0.0</td>\n",
       "      <td>0.0</td>\n",
       "      <td>2.306557</td>\n",
       "      <td>0.0</td>\n",
       "      <td>2.444924</td>\n",
       "      <td>1.630131</td>\n",
       "      <td>0.058939</td>\n",
       "      <td>0.0</td>\n",
       "      <td>1.928847</td>\n",
       "      <td>0.308942</td>\n",
       "      <td>0.25</td>\n",
       "      <td>1.437</td>\n",
       "    </tr>\n",
       "  </tbody>\n",
       "</table>\n",
       "</div>"
      ],
      "text/plain": [
       "        NUP       NDO       NST     NSEA  AUP  ADO       AST  ASEA       BUP  \\\n",
       "0  0.222929 -0.159527 -0.203855 -0.17626  0.0  0.0  2.306557   0.0  2.444924   \n",
       "\n",
       "        BDO       BST  BSEA        PP       MSS  coef  chi_sq  \n",
       "0  1.630131  0.058939   0.0  1.928847  0.308942  0.25   1.437  "
      ]
     },
     "execution_count": 17,
     "metadata": {},
     "output_type": "execute_result"
    }
   ],
   "source": [
    "pwrlw_ch_yes"
   ]
  },
  {
   "cell_type": "code",
   "execution_count": 18,
   "metadata": {},
   "outputs": [],
   "source": [
    "f_prm4=arange(0.,18.,1.)\n",
    "f_prm4[0] = pwrlw_ch_no.NUP\n",
    "f_prm4[1] = pwrlw_ch_no.NUP#par[0]  #do\n",
    "f_prm4[2] = pwrlw_ch_no.NST  #par[0]      #st\n",
    "f_prm4[3] = pwrlw_ch_no.NSEA  #par[0]      #upb\n",
    "f_prm4[4] = pwrlw_ch_no.NSEA #par[0]      #dob\n",
    "f_prm4[5] = pwrlw_ch_no.NDO # par[0]      #stb\n",
    "#¯¯¯¯¯¯\n",
    "f_prm4[6] = 0 #par[0]      #aup\n",
    "f_prm4[7] = 0 #par[0]      #ado\n",
    "f_prm4[8] = pwrlw_ch_no.AST  # par[0]      #ast\n",
    "f_prm4[9] = 0# par[0]      #aupb\n",
    "f_prm4[10] = 0. #par[0]      #adob\n",
    "f_prm4[11] = 0.#par[0]      #astb\n",
    "#¯#¯¯¯¯¯¯¯\n",
    "f_prm4[12] = pwrlw_ch_no.BUP #par[0]      #bup\n",
    "f_prm4[13] = pwrlw_ch_no.BUP     #bdo\n",
    "f_prm4[14] = pwrlw_ch_no.BST     #bst\n",
    "f_prm4[15] = 0. #par[0]      #bupb\n",
    "f_prm4[16] = 0. #par[0]      #bdob\n",
    "f_prm4[17] = pwrlw_ch_no.BDO  # par[0]     \n",
    "#bstb\n",
    "pp4 = np.float64(pwrlw_ch_no.PP)\n",
    "mss4 =np.float64(pwrlw_ch_no.MSS)\n",
    "#pp=gauss.PP.astype(float)\n",
    "\n"
   ]
  },
  {
   "cell_type": "code",
   "execution_count": null,
   "metadata": {},
   "outputs": [],
   "source": [
    "pol = polarization(0.25)\n",
    "pol.g_k = 'PV17'\n",
    "pol.scale =10.58\n",
    "pol.mass = 1.115\n",
    "pol.bmax = 0.6\n",
    "pol.charm = 'yes'\n",
    "\n",
    "pol.mdl_den = 'pwr_lw_star'\n",
    "pol.mdl_num = 'pwr_lw_star'\n",
    "\n",
    "pol2 = polarization(0.25)\n",
    "pol2.g_k = 'PV17'\n",
    "pol2.scale =10.58\n",
    "pol2.mass = 1.115\n",
    "pol2.bmax = 0.6\n",
    "pol2.charm = 'yes'\n",
    "\n",
    "pol2.mdl_den = 'pwr_lw_star'\n",
    "pol2.mdl_num = 'pwr_lw_star'\n"
   ]
  }
 ],
 "metadata": {
  "kernelspec": {
   "display_name": "Python 3",
   "language": "python",
   "name": "python3"
  },
  "language_info": {
   "codemirror_mode": {
    "name": "ipython",
    "version": 3
   },
   "file_extension": ".py",
   "mimetype": "text/x-python",
   "name": "python",
   "nbconvert_exporter": "python",
   "pygments_lexer": "ipython3",
   "version": "3.7.3"
  }
 },
 "nbformat": 4,
 "nbformat_minor": 2
}
