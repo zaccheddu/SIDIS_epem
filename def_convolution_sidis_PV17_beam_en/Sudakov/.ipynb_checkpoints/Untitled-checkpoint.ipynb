{
 "cells": [
  {
   "cell_type": "code",
   "execution_count": 9,
   "metadata": {},
   "outputs": [],
   "source": [
    "# -*- coding: utf-8 -*-\n",
    "from pylab import*\n",
    "import numpy as np\n",
    "import lhapdf\n",
    "import scipy.integrate as integrate\n",
    "#from Sudakov.evolve import evolve, sng\n",
    "#from evolve import evolve, sng\n",
    "import pycuba\n",
    "#from sudakov_factor import*\n",
    "import matplotlib.pyplot as plt\n",
    "import lhapdf"
   ]
  },
  {
   "cell_type": "code",
   "execution_count": 39,
   "metadata": {},
   "outputs": [
    {
     "name": "stdout",
     "output_type": "stream",
     "text": [
      "0.9452266320546896\n",
      "0.8745545092296015\n"
     ]
    }
   ],
   "source": [
    "pdf=lhapdf.mkAlphaS(\"NNFF10_PIp_nlo\")\n",
    "pdf2=lhapdf.mkAlphaS(\"CT10\")\n",
    "print(pdf.alphasQ(0.4))\n",
    "print(pdf2.alphasQ(0.4))"
   ]
  },
  {
   "cell_type": "code",
   "execution_count": 48,
   "metadata": {},
   "outputs": [],
   "source": [
    "mus = linspace(0.21,50,500)\n",
    "ct10 = zeros(len(mus))\n",
    "nnpd = zeros(len(mus))\n",
    "i=0\n",
    "for mu in mus:\n",
    "    ct10[i]= pdf2.alphasQ(mu)\n",
    "    nnpd[i]= pdf.alphasQ(mu)\n",
    "    i+=1"
   ]
  },
  {
   "cell_type": "code",
   "execution_count": 49,
   "metadata": {},
   "outputs": [
    {
     "data": {
      "image/png": "[encoded data removed]",
      "text/plain": [
       "<Figure size 432x288 with 1 Axes>"
      ]
     },
     "metadata": {
      "needs_background": "light"
     },
     "output_type": "display_data"
    }
   ],
   "source": [
    "plot(mus,ct10,label='ct10')\n",
    "plot(mus,nnpd,label='nnpdf')\n",
    "legend()\n",
    "show()"
   ]
  },
  {
   "cell_type": "code",
   "execution_count": 58,
   "metadata": {},
   "outputs": [],
   "source": [
    "nf=3\n",
    "A = 12*np.pi/(33-2*nf)\n",
    "lambda_QCD = 0.2123\n",
    "c1=  2*e**(-euler_gamma)"
   ]
  },
  {
   "cell_type": "code",
   "execution_count": 75,
   "metadata": {},
   "outputs": [],
   "source": [
    "def integrale_gk(x_up,x_down):\n",
    "    uppero = A/2*np.log(np.log(x_up/lambda_QCD))\n",
    "    down   = A/2*np.log(np.log(x_down/lambda_QCD))\n",
    "    return (uppero-down)    "
   ]
  },
  {
   "cell_type": "code",
   "execution_count": 73,
   "metadata": {},
   "outputs": [
    {
     "data": {
      "text/plain": [
       "0.0"
      ]
     },
     "execution_count": 73,
     "metadata": {},
     "output_type": "execute_result"
    }
   ],
   "source": [
    "integrale_gk()"
   ]
  },
  {
   "cell_type": "code",
   "execution_count": 70,
   "metadata": {},
   "outputs": [
    {
     "data": {
      "text/plain": [
       "0.161469034243332"
      ]
     },
     "execution_count": 70,
     "metadata": {},
     "output_type": "execute_result"
    }
   ],
   "source": [
    "A/2*np.log(np.log(c1/1.5/lambda_QCD))"
   ]
  },
  {
   "cell_type": "code",
   "execution_count": 71,
   "metadata": {},
   "outputs": [
    {
     "data": {
      "text/plain": [
       "0.5991137704164311"
      ]
     },
     "execution_count": 71,
     "metadata": {},
     "output_type": "execute_result"
    }
   ],
   "source": [
    "A/2*np.log(np.log(c1/0.5/lambda_QCD))"
   ]
  },
  {
   "cell_type": "code",
   "execution_count": null,
   "metadata": {},
   "outputs": [],
   "source": []
  }
 ],
 "metadata": {
  "kernelspec": {
   "display_name": "Python 3",
   "language": "python",
   "name": "python3"
  },
  "language_info": {
   "codemirror_mode": {
    "name": "ipython",
    "version": 3
   },
   "file_extension": ".py",
   "mimetype": "text/x-python",
   "name": "python",
   "nbconvert_exporter": "python",
   "pygments_lexer": "ipython3",
   "version": "3.7.3"
  }
 },
 "nbformat": 4,
 "nbformat_minor": 2
}
