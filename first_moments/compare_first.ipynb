{
 "cells": [
  {
   "cell_type": "code",
   "execution_count": 1,
   "metadata": {},
   "outputs": [],
   "source": [
    "from first_moments import*\n",
    "import numpy as np\n",
    "import pandas as pd\n",
    "import matplotlib.pyplot as plt\n",
    "from numpy import*\n",
    "from matplotlib.pyplot import*\n"
   ]
  },
  {
   "cell_type": "code",
   "execution_count": 2,
   "metadata": {},
   "outputs": [],
   "source": [
    "mean2h= array([ 0.09341723, -0.1000179,  -0.11673005, -0.05501322,-0.05501322,-0.05501322,  0.,          0.,\n",
    "  2.19397263,  0.,0.,0., 3.47205659 , 0., 0. , 2.31910624,2.31910624,2.31910624])"
   ]
  },
  {
   "cell_type": "code",
   "execution_count": 3,
   "metadata": {},
   "outputs": [],
   "source": [
    "fst = cr_sec()\n",
    "zs = linspace(0.25,0.95,100)\n",
    "qq=10.58\n"
   ]
  },
  {
   "cell_type": "code",
   "execution_count": 4,
   "metadata": {},
   "outputs": [],
   "source": [
    "fst.mass=1.115"
   ]
  },
  {
   "cell_type": "code",
   "execution_count": 8,
   "metadata": {},
   "outputs": [],
   "source": [
    "fst_moms = array([])\n",
    "fst_moms_jk = array([])\n",
    "zlcs = array([])\n",
    "for z1 in zs:\n",
    "    fst_moms= np.append(fst_moms,fst.cross_sec2_polda_fst('lbd',z1,qq,mean2h)[1])\n",
    "    fst_moms_jk= np.append(fst_moms_jk,fst.cross_sec2_polda_jk('lbd',z1,qq,mean2h)[1])\n",
    "    zlcs= np.append(zlcs,fst.jack(z1)[1])\n",
    "    #fst.cross_sec2_polda('lbd',z1,qq,mean)"
   ]
  },
  {
   "cell_type": "code",
   "execution_count": 9,
   "metadata": {},
   "outputs": [
    {
     "data": {
      "text/plain": [
       "array([0.19221956, 0.20212073, 0.21167059, 0.22094347, 0.22999186,\n",
       "       0.23885436, 0.2475603 , 0.25613251, 0.26458914, 0.27294489,\n",
       "       0.28121182, 0.2894    , 0.29751785, 0.30557257, 0.31357031,\n",
       "       0.3215164 , 0.32941544, 0.33727149, 0.34508811, 0.35286845,\n",
       "       0.36061531, 0.3683312 , 0.37601835, 0.38367879, 0.39131434,\n",
       "       0.39892664, 0.4065172 , 0.41408738, 0.42163844, 0.4291715 ,\n",
       "       0.43668763, 0.44418779, 0.45167286, 0.45914367, 0.46660098,\n",
       "       0.4740455 , 0.48147787, 0.48889872, 0.49630859, 0.50370804,\n",
       "       0.51109754, 0.51847756, 0.52584854, 0.53321088, 0.54056496,\n",
       "       0.54791114, 0.55524976, 0.56258114, 0.56990557, 0.57722334,\n",
       "       0.58453472, 0.59183996, 0.59913929, 0.60643295, 0.61372115,\n",
       "       0.6210041 , 0.62828198, 0.63555498, 0.64282328, 0.65008704,\n",
       "       0.65734642, 0.66460157, 0.67185264, 0.67909976, 0.68634307,\n",
       "       0.69358268, 0.70081873, 0.70805132, 0.71528057, 0.72250657,\n",
       "       0.72972943, 0.73694925, 0.74416611, 0.75138011, 0.75859133,\n",
       "       0.76579985, 0.77300576, 0.78020912, 0.78741001, 0.7946085 ,\n",
       "       0.80180465, 0.80899853, 0.81619021, 0.82337973, 0.83056717,\n",
       "       0.83775257, 0.84493599, 0.85211748, 0.85929709, 0.86647487,\n",
       "       0.87365086, 0.88082511, 0.88799766, 0.89516856, 0.90233785,\n",
       "       0.90950556, 0.91667173, 0.9238364 , 0.93099961, 0.93816139])"
      ]
     },
     "execution_count": 9,
     "metadata": {},
     "output_type": "execute_result"
    }
   ],
   "source": [
    "zlcs"
   ]
  },
  {
   "cell_type": "code",
   "execution_count": 10,
   "metadata": {},
   "outputs": [
    {
     "data": {
      "text/plain": [
       "<matplotlib.legend.Legend at 0x7f7040fae2b0>"
      ]
     },
     "execution_count": 10,
     "metadata": {},
     "output_type": "execute_result"
    },
    {
     "data": {
      "image/png": "[encoded data removed]",
      "text/plain": [
       "<Figure size 432x288 with 1 Axes>"
      ]
     },
     "metadata": {
      "needs_background": "light"
     },
     "output_type": "display_data"
    }
   ],
   "source": [
    "plot(zs,zs*fst_moms,label='no jack')\n",
    "plot(zlcs,fst_moms_jk)\n",
    "legend()"
   ]
  },
  {
   "cell_type": "code",
   "execution_count": null,
   "metadata": {},
   "outputs": [],
   "source": []
  }
 ],
 "metadata": {
  "kernelspec": {
   "display_name": "Python 3",
   "language": "python",
   "name": "python3"
  },
  "language_info": {
   "codemirror_mode": {
    "name": "ipython",
    "version": 3
   },
   "file_extension": ".py",
   "mimetype": "text/x-python",
   "name": "python",
   "nbconvert_exporter": "python",
   "pygments_lexer": "ipython3",
   "version": "3.7.3"
  }
 },
 "nbformat": 4,
 "nbformat_minor": 2
}
