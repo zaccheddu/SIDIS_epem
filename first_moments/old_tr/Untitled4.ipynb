{
 "cells": [
  {
   "cell_type": "code",
   "execution_count": 1,
   "metadata": {},
   "outputs": [],
   "source": [
    "# -*- coding: utf-8 -*-\n",
    "from pylab import*\n",
    "import matplotlib.pyplot as plt\n",
    "from numpy import*\n",
    "import numpy as np\n",
    "from matplotlib.pyplot import*\n",
    "import pandas as pd\n",
    "from iminuit import Minuit\n",
    "from least_squares_lh import*\n",
    "import time "
   ]
  },
  {
   "cell_type": "code",
   "execution_count": 2,
   "metadata": {},
   "outputs": [],
   "source": [
    "a = array([ 0.7141878 , -0.65277775, -0.9998639 , -0.44666279,  0.        ,\n",
    "        0.        ,  2.21282486,  0.        ,  3.55538371,  0.        ,\n",
    "        0.        ,  2.53094726,  0.11639022])\n"
   ]
  },
  {
   "cell_type": "code",
   "execution_count": 3,
   "metadata": {},
   "outputs": [],
   "source": [
    "nup = 0.1\n",
    "ndo = -0.1\n",
    "nst = -0.1\n",
    "nsea = -0.2\n",
    "\n",
    "aup = 0.\n",
    "ado = 0.\n",
    "ast = 1.\n",
    "asea = 0.\n",
    "\n",
    "bup = 1.\n",
    "bdo = 0.\n",
    "bst = 0.\n",
    "bsea = 1.\n",
    "\n",
    "pp=0.05\n",
    "##______________\n",
    "##--------------\n",
    "nup_fix = False\n",
    "ndo_fix = False\n",
    "nst_fix = False\n",
    "nsea_fix = False\n",
    "\n",
    "aup_fix = True\n",
    "ado_fix = True\n",
    "ast_fix = False\n",
    "asea_fix = True\n",
    "\n",
    "bup_fix = False\n",
    "bdo_fix = True\n",
    "bst_fix = True\n",
    "bsea_fix = False\n",
    "\n",
    "pp_fix = False\n",
    "\n",
    "nst_lt_lw = -1\n",
    "nst_lt_up = 1\n",
    "\n",
    "\n",
    "\n",
    "mass = 1.115\n",
    "\n",
    "wd = 0.2\n",
    "\n",
    "mns = 'n'\n",
    "\n",
    "cut_h2= 5   # 0 : global, 1: cut umb; 2 : my cut; 5: cut_articolo\n",
    "cut_h1 = 'all'\n",
    "\n",
    "ff2= 'dss'\n",
    "\n",
    "\n",
    "coef = 0.3\n"
   ]
  },
  {
   "cell_type": "code",
   "execution_count": 4,
   "metadata": {},
   "outputs": [],
   "source": [
    "lst = least_sq(5,'all')"
   ]
  },
  {
   "cell_type": "code",
   "execution_count": 5,
   "metadata": {},
   "outputs": [],
   "source": [
    "fit = Minuit(lst.least_squares_lh,NUP= nup ,NDO= ndo, NST=nst, NSEA=nsea,AUP=aup,ADO=ado,AST=ast,ASEA=asea,\\\n",
    "BUP=bup,BDO=bdo,BST=bst,BSEA=bsea,PP=pp, error_NUP=0.001,error_NDO=0.001, error_NST=0.001,\\\n",
    "error_NSEA=0.001,error_AUP=0.001,error_ADO=0.001,error_AST=0.001,error_BUP=0.001,error_BDO=0.001,error_BSEA=0.001,error_PP=0.005,\\\n",
    "fix_NUP=nup_fix,fix_NDO=ndo_fix  ,fix_NST=nst_fix  ,fix_NSEA=nsea_fix ,fix_AUP=aup_fix ,fix_ADO=ado_fix ,fix_AST=ast_fix ,fix_ASEA=asea_fix,\\\n",
    "fix_BUP=bup_fix,fix_BDO=bdo_fix, fix_BST=bst_fix,fix_BSEA=bsea_fix, fix_PP=pp_fix, limit_NUP=(None,None),limit_NDO=(None,None),limit_NST=(None,None ), limit_NSEA=(None,None), limit_BUP=(0., 20.),limit_AST=(0., None),limit_BSEA=(0., None), limit_PP=(0., lst.unp_wd),  errordef=1)"
   ]
  },
  {
   "cell_type": "code",
   "execution_count": 6,
   "metadata": {},
   "outputs": [],
   "source": [
    "clm = fit.parameters"
   ]
  },
  {
   "cell_type": "code",
   "execution_count": 7,
   "metadata": {},
   "outputs": [
    {
     "data": {
      "text/plain": [
       "array([ 0.1 , -0.1 , -0.1 , -0.2 ,  0.  ,  0.  ,  1.  ,  0.  ,  1.  ,\n",
       "        0.  ,  0.  ,  1.  ,  0.05])"
      ]
     },
     "execution_count": 7,
     "metadata": {},
     "output_type": "execute_result"
    }
   ],
   "source": [
    " fit.np_values()\n",
    "    "
   ]
  },
  {
   "cell_type": "code",
   "execution_count": null,
   "metadata": {},
   "outputs": [],
   "source": []
  },
  {
   "cell_type": "code",
   "execution_count": null,
   "metadata": {},
   "outputs": [],
   "source": []
  },
  {
   "cell_type": "code",
   "execution_count": 8,
   "metadata": {},
   "outputs": [
    {
     "data": {
      "text/plain": [
       "['NUP',\n",
       " 'NDO',\n",
       " 'NST',\n",
       " 'NSEA',\n",
       " 'AUP',\n",
       " 'ADO',\n",
       " 'AST',\n",
       " 'ASEA',\n",
       " 'BUP',\n",
       " 'BDO',\n",
       " 'BST',\n",
       " 'BSEA',\n",
       " 'PP',\n",
       " 'coef',\n",
       " 'chi_sq']"
      ]
     },
     "execution_count": 8,
     "metadata": {},
     "output_type": "execute_result"
    }
   ],
   "source": [
    "clm.append('coef')\n",
    "clm.append('chi_sq')\n",
    "clm"
   ]
  },
  {
   "cell_type": "code",
   "execution_count": 9,
   "metadata": {},
   "outputs": [
    {
     "name": "stdout",
     "output_type": "stream",
     "text": [
      "Empty DataFrame\n",
      "Columns: [NUP, NDO, NST, NSEA, AUP, ADO, AST, ASEA, BUP, BDO, BST, BSEA, PP, coef, chi_sq]\n",
      "Index: []\n"
     ]
    }
   ],
   "source": [
    "clm = fit.parameters\n",
    "df = pd.DataFrame(columns = clm)\n",
    "print(df)"
   ]
  },
  {
   "cell_type": "code",
   "execution_count": 10,
   "metadata": {},
   "outputs": [
    {
     "data": {
      "text/plain": [
       "15"
      ]
     },
     "execution_count": 10,
     "metadata": {},
     "output_type": "execute_result"
    }
   ],
   "source": [
    "values = fit.np_values()\n",
    "values = np.append(values,0.5)\n",
    "values = np.append(values,1.3)\n",
    "len(values)"
   ]
  },
  {
   "cell_type": "code",
   "execution_count": 11,
   "metadata": {},
   "outputs": [
    {
     "name": "stdout",
     "output_type": "stream",
     "text": [
      "   NUP  NDO  NST NSEA AUP ADO AST ASEA BUP BDO BST BSEA    PP coef chi_sq\n",
      "0  0.1 -0.1 -0.1 -0.2   0   0   1    0   1   0   0    1  0.05  0.5    1.3\n"
     ]
    }
   ],
   "source": [
    "df.loc[len(df), :] = values\n",
    "print(df)"
   ]
  },
  {
   "cell_type": "code",
   "execution_count": 12,
   "metadata": {},
   "outputs": [
    {
     "data": {
      "text/html": [
       "<div>\n",
       "<style scoped>\n",
       "    .dataframe tbody tr th:only-of-type {\n",
       "        vertical-align: middle;\n",
       "    }\n",
       "\n",
       "    .dataframe tbody tr th {\n",
       "        vertical-align: top;\n",
       "    }\n",
       "\n",
       "    .dataframe thead th {\n",
       "        text-align: right;\n",
       "    }\n",
       "</style>\n",
       "<table border=\"1\" class=\"dataframe\">\n",
       "  <thead>\n",
       "    <tr style=\"text-align: right;\">\n",
       "      <th></th>\n",
       "      <th>NUP</th>\n",
       "      <th>NDO</th>\n",
       "      <th>NST</th>\n",
       "      <th>NSEA</th>\n",
       "      <th>AUP</th>\n",
       "      <th>ADO</th>\n",
       "      <th>AST</th>\n",
       "      <th>ASEA</th>\n",
       "      <th>BUP</th>\n",
       "      <th>BDO</th>\n",
       "      <th>BST</th>\n",
       "      <th>BSEA</th>\n",
       "      <th>PP</th>\n",
       "      <th>coef</th>\n",
       "      <th>chi_sq</th>\n",
       "    </tr>\n",
       "  </thead>\n",
       "  <tbody>\n",
       "    <tr>\n",
       "      <th>0</th>\n",
       "      <td>0.1</td>\n",
       "      <td>-0.1</td>\n",
       "      <td>-0.1</td>\n",
       "      <td>-0.2</td>\n",
       "      <td>0</td>\n",
       "      <td>0</td>\n",
       "      <td>1</td>\n",
       "      <td>0</td>\n",
       "      <td>1</td>\n",
       "      <td>0</td>\n",
       "      <td>0</td>\n",
       "      <td>1</td>\n",
       "      <td>0.05</td>\n",
       "      <td>0.5</td>\n",
       "      <td>1.3</td>\n",
       "    </tr>\n",
       "  </tbody>\n",
       "</table>\n",
       "</div>"
      ],
      "text/plain": [
       "   NUP  NDO  NST NSEA AUP ADO AST ASEA BUP BDO BST BSEA    PP coef chi_sq\n",
       "0  0.1 -0.1 -0.1 -0.2   0   0   1    0   1   0   0    1  0.05  0.5    1.3"
      ]
     },
     "execution_count": 12,
     "metadata": {},
     "output_type": "execute_result"
    }
   ],
   "source": [
    "df"
   ]
  },
  {
   "cell_type": "code",
   "execution_count": 15,
   "metadata": {},
   "outputs": [],
   "source": [
    "chi = 1.459646\n",
    "chi = round(chi,2)"
   ]
  },
  {
   "cell_type": "code",
   "execution_count": 16,
   "metadata": {},
   "outputs": [
    {
     "data": {
      "text/plain": [
       "1.46"
      ]
     },
     "execution_count": 16,
     "metadata": {},
     "output_type": "execute_result"
    }
   ],
   "source": [
    "chi"
   ]
  },
  {
   "cell_type": "code",
   "execution_count": 17,
   "metadata": {},
   "outputs": [
    {
     "name": "stdout",
     "output_type": "stream",
     "text": [
      "def_conv_crs_1h.py  g_funct.py           model_fct.py     Untitled2.ipynb\r\n",
      "def_conv_crs_2h.py  \u001b[0m\u001b[01;34mgrid_conv\u001b[0m/           plot_partial.py  Untitled3.ipynb\r\n",
      "def_crs.py          \u001b[01;34mgrid_conv_nosoft\u001b[0m/    \u001b[01;34m__pycache__\u001b[0m/     Untitled4.ipynb\r\n",
      "\u001b[01;34mexp_data\u001b[0m/           grid.ipynb           \u001b[01;34mset_bande_pols\u001b[0m/  Untitled.ipynb\r\n",
      "FBT.py              grid.py              \u001b[01;34mset_FF\u001b[0m/\r\n",
      "\u001b[01;34mfit_parameters\u001b[0m/     __init__.py          \u001b[01;34mSudakov\u001b[0m/\r\n",
      "fitter.py           least_squares_lh.py  Untitled1.ipynb\r\n"
     ]
    }
   ],
   "source": [
    "ls"
   ]
  },
  {
   "cell_type": "code",
   "execution_count": 18,
   "metadata": {},
   "outputs": [
    {
     "name": "stdout",
     "output_type": "stream",
     "text": [
      "[Errno 2] No such file or directory: '.. fit_parameters/'\n",
      "/home/zackmrc/Documenti/git_project/lambda_fit/def_convolution\n"
     ]
    }
   ],
   "source": [
    "cd .. fit_parameters/"
   ]
  },
  {
   "cell_type": "code",
   "execution_count": null,
   "metadata": {},
   "outputs": [],
   "source": []
  }
 ],
 "metadata": {
  "kernelspec": {
   "display_name": "Python 3",
   "language": "python",
   "name": "python3"
  },
  "language_info": {
   "codemirror_mode": {
    "name": "ipython",
    "version": 3
   },
   "file_extension": ".py",
   "mimetype": "text/x-python",
   "name": "python",
   "nbconvert_exporter": "python",
   "pygments_lexer": "ipython3",
   "version": "3.7.3"
  }
 },
 "nbformat": 4,
 "nbformat_minor": 2
}
