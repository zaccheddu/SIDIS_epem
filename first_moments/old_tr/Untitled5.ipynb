{
 "cells": [
  {
   "cell_type": "code",
   "execution_count": 1,
   "metadata": {},
   "outputs": [],
   "source": [
    "# -*- coding: utf-8 -*-\n",
    "from pylab import*\n",
    "import numpy as np\n",
    "import lhapdf\n",
    "import scipy.integrate as integrate\n",
    "from Sudakov.evolve import evolve, sng\n",
    "#from evolve import evolve, sng\n",
    "import pycuba\n",
    "from Sudakov.sudakov_factor import*\n",
    "import matplotlib.pyplot as plt\n",
    "from model_fct import* \n",
    "from def_crs import*\n",
    "from def_conv_crs_1h import*\n",
    "import pandas as pd"
   ]
  },
  {
   "cell_type": "code",
   "execution_count": 2,
   "metadata": {},
   "outputs": [],
   "source": [
    "coef=0.3\n",
    "chi=1.793\n",
    "fit_type='both'\n",
    "df = pd.read_csv(\"fit_parameters/fit_\"+str(fit_type)+\"_coef_\"+str(coef)+\"_chi_\"+str(chi)+\".csv\") \n"
   ]
  },
  {
   "cell_type": "code",
   "execution_count": 3,
   "metadata": {},
   "outputs": [],
   "source": [
    "f_prm=arange(0.,18.,1.)\n",
    "f_prm[0] = df['NUP']\n",
    "f_prm[1] = df['NDO']#par[0]  #do\n",
    "f_prm[2] = df['NST']  #par[0]      #st\n",
    "f_prm[3] = df['NSEA']  #par[0]      #upb\n",
    "f_prm[4] = f_prm[3] #par[0]      #dob\n",
    "f_prm[5] = f_prm[3] # par[0]      #stb\n",
    "#¯¯¯¯¯¯\n",
    "f_prm[6] = 0 #par[0]      #aup\n",
    "f_prm[7] = 0 #par[0]      #ado\n",
    "f_prm[8] = df['AST']  # par[0]      #ast\n",
    "f_prm[9] = 0# par[0]      #aupb\n",
    "f_prm[10] = f_prm[9] #par[0]      #adob\n",
    "f_prm[11] = f_prm[9] #par[0]      #astb\n",
    "#¯#¯¯¯¯¯¯¯\n",
    "f_prm[12] = df['BUP'] #par[0]      #bup\n",
    "f_prm[13] = 0 #par[0]      #bdo\n",
    "f_prm[14] = 0# par[0]      #bst\n",
    "f_prm[15] =  df['BSEA'] #par[0]      #bupb\n",
    "f_prm[16] = f_prm[15] #par[0]      #bdob\n",
    "f_prm[17] = f_prm[15] # par[0]      #bstb\n",
    "pt_pp=float(df['PP'])\n"
   ]
  },
  {
   "cell_type": "code",
   "execution_count": 4,
   "metadata": {},
   "outputs": [],
   "source": [
    "fnc1 = polarization_1h()\n",
    "fnc2 = polarization_1h()"
   ]
  },
  {
   "cell_type": "code",
   "execution_count": 5,
   "metadata": {},
   "outputs": [],
   "source": [
    "fnc1.mdl_den = 'pwr_lw'\n",
    "fnc1.mdl = 'pwr_lw'\n",
    "fnc1.g_k = 'log_b'\n",
    "\n",
    "fnc2.mdl_den = 'gauss'\n",
    "fnc2.mdl = 'gauss'\n",
    "fnc2.g_k = 'log_b'\n"
   ]
  },
  {
   "cell_type": "code",
   "execution_count": 6,
   "metadata": {},
   "outputs": [],
   "source": [
    "pts = linspace(0.1,1.,50)\n",
    "zh1 = [0.25,0.35,0.45,0.6]\n",
    "had1 = 'lbd'\n",
    "xh = 0.25\n",
    "den = zeros(len(pts))\n",
    "num = zeros(len(pts))"
   ]
  },
  {
   "cell_type": "code",
   "execution_count": 7,
   "metadata": {},
   "outputs": [],
   "source": [
    "for i in range(len(pts)):\n",
    "    den[i] = fnc2.denominator(had1,xh,pts[i])"
   ]
  },
  {
   "cell_type": "code",
   "execution_count": 8,
   "metadata": {},
   "outputs": [
    {
     "data": {
      "text/plain": [
       "[<matplotlib.lines.Line2D at 0x7f406a9fa358>]"
      ]
     },
     "execution_count": 8,
     "metadata": {},
     "output_type": "execute_result"
    },
    {
     "data": {
      "image/png": "[encoded data removed]",
      "text/plain": [
       "<Figure size 432x288 with 1 Axes>"
      ]
     },
     "metadata": {
      "needs_background": "light"
     },
     "output_type": "display_data"
    }
   ],
   "source": [
    "plot(pts,den)"
   ]
  },
  {
   "cell_type": "code",
   "execution_count": null,
   "metadata": {},
   "outputs": [],
   "source": []
  }
 ],
 "metadata": {
  "kernelspec": {
   "display_name": "Python 3",
   "language": "python",
   "name": "python3"
  },
  "language_info": {
   "codemirror_mode": {
    "name": "ipython",
    "version": 3
   },
   "file_extension": ".py",
   "mimetype": "text/x-python",
   "name": "python",
   "nbconvert_exporter": "python",
   "pygments_lexer": "ipython3",
   "version": "3.7.3"
  }
 },
 "nbformat": 4,
 "nbformat_minor": 2
}
