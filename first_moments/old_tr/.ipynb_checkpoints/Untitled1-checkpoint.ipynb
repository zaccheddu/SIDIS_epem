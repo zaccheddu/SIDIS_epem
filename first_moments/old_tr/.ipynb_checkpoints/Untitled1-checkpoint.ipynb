{
 "cells": [
  {
   "cell_type": "code",
   "execution_count": 1,
   "metadata": {},
   "outputs": [],
   "source": [
    "from pylab import*\n",
    "import matplotlib.pyplot as plt\n",
    "import numpy as np\n",
    "from matplotlib.pyplot import*\n",
    "from scipy import special\n",
    "from def_crs import*\n",
    "from model_fct import*\n",
    "from g_funct import*\n",
    "from FBT import FBT \n",
    "from model_fct import*\n",
    "from def_conv_crs import*"
   ]
  },
  {
   "cell_type": "code",
   "execution_count": 2,
   "metadata": {},
   "outputs": [],
   "source": [
    "prova = polarization(0.5)\n",
    "prova.mass = 1.115"
   ]
  },
  {
   "cell_type": "code",
   "execution_count": 3,
   "metadata": {},
   "outputs": [
    {
     "data": {
      "text/plain": [
       "0.01285928859948218"
      ]
     },
     "execution_count": 3,
     "metadata": {},
     "output_type": "execute_result"
    }
   ],
   "source": [
    "prova.denominator('lbd_b','k+',0.5,0.23)"
   ]
  },
  {
   "cell_type": "code",
   "execution_count": 4,
   "metadata": {},
   "outputs": [
    {
     "data": {
      "text/plain": [
       "10.58"
      ]
     },
     "execution_count": 4,
     "metadata": {},
     "output_type": "execute_result"
    }
   ],
   "source": [
    "prova.scale"
   ]
  },
  {
   "cell_type": "code",
   "execution_count": 5,
   "metadata": {},
   "outputs": [
    {
     "data": {
      "text/plain": [
       "0.5"
      ]
     },
     "execution_count": 5,
     "metadata": {},
     "output_type": "execute_result"
    }
   ],
   "source": [
    "prova.coef\n"
   ]
  },
  {
   "cell_type": "code",
   "execution_count": 6,
   "metadata": {},
   "outputs": [],
   "source": [
    "mean=array([0.67486074, -0.65605671, -0.99999975, -0.39721677, 2.1669248 ,3.35974926,2.1412581, 0.05622766])\n",
    "\n",
    "prm=arange(0.,18.,1.)\n",
    "prm[0] = mean[0] # par[0]   #up\n",
    "prm[1] = mean[1] #par[0]  #do\n",
    "prm[2] = mean[2] #par[0]      #st\n",
    "prm[3] = mean[3] #par[0]      #upb\n",
    "prm[4] = prm[3] #par[0]      #dob\n",
    "prm[5] = prm[3] # par[0]      #stb\n",
    "#¯¯¯¯¯¯\n",
    "prm[6] = 0 #par[0]      #aup\n",
    "prm[7] = prm[6] #par[0]      #ado\n",
    "prm[8] = mean[4] # par[0]      #ast\n",
    "prm[9] = 0.# par[0]      #aupb\n",
    "prm[10] = prm[9] #par[0]      #adob\n",
    "prm[11] = prm[9] #par[0]      #astb\n",
    "#¯¯¯¯¯¯¯\n",
    "prm[12] = mean[5] #par[0]      #bup\n",
    "prm[13] = 0. #par[0]      #bdo\n",
    "prm[14] = 0. # par[0]      #bst\n",
    "prm[15] = mean[6] #par[0]      #bupb\n",
    "prm[16] = prm[15] #par[0]      #bdob\n",
    "prm[17] = prm[15] # par[0]      #bstb\n",
    "wdt_pol=mean[7]\t\n"
   ]
  },
  {
   "cell_type": "code",
   "execution_count": 7,
   "metadata": {},
   "outputs": [
    {
     "data": {
      "text/plain": [
       "-0.0011219537601259546"
      ]
     },
     "execution_count": 7,
     "metadata": {},
     "output_type": "execute_result"
    }
   ],
   "source": [
    "prova.numerator('lbd_b','k+',0.5,0.23,prm,wdt_pol)"
   ]
  },
  {
   "cell_type": "code",
   "execution_count": 8,
   "metadata": {},
   "outputs": [
    {
     "data": {
      "text/plain": [
       "1.115"
      ]
     },
     "execution_count": 8,
     "metadata": {},
     "output_type": "execute_result"
    }
   ],
   "source": [
    "prova.mass\n"
   ]
  },
  {
   "cell_type": "code",
   "execution_count": 9,
   "metadata": {},
   "outputs": [
    {
     "data": {
      "text/plain": [
       "-0.012680138133886984"
      ]
     },
     "execution_count": 9,
     "metadata": {},
     "output_type": "execute_result"
    }
   ],
   "source": [
    "prova.ratio('lbd_b','k+',0.5,0.23,prm,wdt_pol)"
   ]
  },
  {
   "cell_type": "code",
   "execution_count": 10,
   "metadata": {},
   "outputs": [
    {
     "data": {
      "text/plain": [
       "0.5"
      ]
     },
     "execution_count": 10,
     "metadata": {},
     "output_type": "execute_result"
    }
   ],
   "source": [
    "prova.coef = 0.7"
   ]
  },
  {
   "cell_type": "code",
   "execution_count": null,
   "metadata": {},
   "outputs": [],
   "source": []
  }
 ],
 "metadata": {
  "kernelspec": {
   "display_name": "Python 3",
   "language": "python",
   "name": "python3"
  },
  "language_info": {
   "codemirror_mode": {
    "name": "ipython",
    "version": 3
   },
   "file_extension": ".py",
   "mimetype": "text/x-python",
   "name": "python",
   "nbconvert_exporter": "python",
   "pygments_lexer": "ipython3",
   "version": "3.7.3"
  }
 },
 "nbformat": 4,
 "nbformat_minor": 2
}
