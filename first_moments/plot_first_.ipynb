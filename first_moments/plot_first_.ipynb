{
 "cells": [
  {
   "cell_type": "code",
   "execution_count": 1,
   "metadata": {},
   "outputs": [],
   "source": [
    "from first_moments import*\n",
    "import numpy as np\n",
    "import pandas as pd"
   ]
  },
  {
   "cell_type": "code",
   "execution_count": 3,
   "metadata": {},
   "outputs": [],
   "source": [
    "df1_pwr = pd.read_csv('fit_parameters/new_bands_/new_pwrlw_211.csv')\n",
    "df2_pwr = pd.read_csv('fit_parameters/new_bands_/new_pwrlw_345.csv')\n",
    "df3_pwr = pd.read_csv('fit_parameters/new_bands_/new_pwrlw_3673.csv')"
   ]
  },
  {
   "cell_type": "code",
   "execution_count": 5,
   "metadata": {},
   "outputs": [],
   "source": [
    "df_gauss = pd.concat([df1_pwr,df2_pwr,df3_pwr])\n",
    "chi_min = 181.5\n",
    "df_gauss = df_gauss.loc[(df_gauss['chi']<chi_min+19.99)]"
   ]
  },
  {
   "cell_type": "code",
   "execution_count": 8,
   "metadata": {},
   "outputs": [
    {
     "data": {
      "text/plain": [
       "-0.1649677643502513"
      ]
     },
     "execution_count": 8,
     "metadata": {},
     "output_type": "execute_result"
    }
   ],
   "source": [
    "df_gauss['NDO'].mean()"
   ]
  },
  {
   "cell_type": "code",
   "execution_count": 13,
   "metadata": {},
   "outputs": [],
   "source": [
    "fst = cr_sec()\n",
    "qq=10.58"
   ]
  },
  {
   "cell_type": "code",
   "execution_count": 10,
   "metadata": {},
   "outputs": [],
   "source": [
    "mean= array([ 0.148, -0.165,  -0.137, -0.081,-0.081,-0.081,  0.,          0.,\n",
    "  1.85,  0.,0.,0., 3.438 , 0., 0. , 2.103,2.103,2.103])"
   ]
  },
  {
   "cell_type": "code",
   "execution_count": 11,
   "metadata": {},
   "outputs": [],
   "source": [
    "zs = linspace(0.22,0.95,100)"
   ]
  },
  {
   "cell_type": "code",
   "execution_count": 14,
   "metadata": {},
   "outputs": [],
   "source": [
    "fst_moms = array([])\n",
    "for z1 in zs:\n",
    "    fst_moms= np.append(fst_moms,fst.cross_sec2_polda('lbd',z1,qq,mean)[0])\n",
    "    #fst.cross_sec2_polda('lbd',z1,qq,mean)\n",
    "    "
   ]
  },
  {
   "cell_type": "code",
   "execution_count": 16,
   "metadata": {},
   "outputs": [],
   "source": [
    "up_min= array([])\n",
    "do_min = array([])\n",
    "st_min = array([])\n",
    "\n",
    "upb_min = array([])\n",
    "dob_min = array([])\n",
    "stb_min = array([])\n",
    "\n",
    "up_max= array([])\n",
    "do_max = array([])\n",
    "st_max = array([])\n",
    "\n",
    "upb_max = array([])\n",
    "dob_max = array([])\n",
    "stb_max = array([])\n",
    "\n",
    "\n",
    "for z1 in zs:\n",
    "    up_tmp = array([])\n",
    "    do_tmp = array([])\n",
    "    st_tmp = array([])\n",
    "\n",
    "    upb_tmp = array([])\n",
    "    dob_tmp = array([])\n",
    "    stb_tmp = array([])\n",
    "    for nup, ndo, nst, nsea, ast, bup, bsea in zip(df_gauss.NUP,df_gauss.NDO,df_gauss.NST,df_gauss.NSEA,df_gauss.AST,df_gauss.BUP,df_gauss.BSEA):\n",
    "\n",
    "        f_prm=arange(0.,18.,1.)\n",
    "        f_prm[0] = nup\n",
    "        f_prm[1] = ndo#par[0]  #do\n",
    "        f_prm[2] = nst  #par[0]      #st\n",
    "        f_prm[3] = nsea  #par[0]      #upb\n",
    "        f_prm[4] = f_prm[3] #par[0]      #dob\n",
    "        f_prm[5] = f_prm[3] # par[0]      #stb\n",
    "        #¯¯¯¯¯¯\n",
    "        f_prm[6] = 0 #par[0]      #aup\n",
    "        f_prm[7] = 0 #par[0]      #ado\n",
    "        f_prm[8] = ast  # par[0]      #ast\n",
    "        f_prm[9] = 0# par[0]      #aupb\n",
    "        f_prm[10] = f_prm[9] #par[0]      #adob\n",
    "        f_prm[11] = f_prm[9] #par[0]      #astb\n",
    "        #¯#¯¯¯¯¯¯¯\n",
    "        f_prm[12] = bup #par[0]      #bup\n",
    "        f_prm[13] = 0 #par[0]      #bdo\n",
    "        f_prm[14] = 0# par[0]      #bst\n",
    "        f_prm[15] = bsea #par[0]      #bupb\n",
    "        f_prm[16] = f_prm[15] #par[0]      #bdob\n",
    "        f_prm[17] = f_prm[15] # par[0]      #bstb\n",
    "        #print(pt_pp)\n",
    "        #print(nup)\n",
    "        #print(fst.cross_sec2_polda('lbd',z1,qq,f_prm)[0])\n",
    "        up_tmp = np.append(up_tmp,fst.cross_sec2_polda('lbd',z1,qq,f_prm)[0])\n",
    "        do_tmp = np.append(do_tmp,fst.cross_sec2_polda('lbd',z1,qq,f_prm)[1])\n",
    "        st_tmp = np.append(st_tmp,fst.cross_sec2_polda('lbd',z1,qq,f_prm)[2])\n",
    "\n",
    "        upb_tmp = np.append(upb_tmp,fst.cross_sec2_polda('lbd',z1,qq,f_prm)[3])\n",
    "        dob_tmp = np.append(dob_tmp,fst.cross_sec2_polda('lbd',z1,qq,f_prm)[4])\n",
    "        stb_tmp = np.append(stb_tmp,fst.cross_sec2_polda('lbd',z1,qq,f_prm)[5])\n",
    "        \n",
    "    up_min= np.append(up_min,min(up_tmp))\n",
    "    do_min = np.append(do_min,min(do_tmp))\n",
    "    st_min = np.append(st_min,min(st_tmp))\n",
    "\n",
    "    upb_min = np.append(upb_min,min(upb_tmp))\n",
    "    dob_min = np.append(dob_min,min(dob_tmp))\n",
    "    stb_min = np.append(stb_min,min(stb_tmp))\n",
    "\n",
    "    up_max= np.append(up_max,max(up_tmp))\n",
    "    do_max = np.append(do_max,max(do_tmp))\n",
    "    st_max = np.append(st_max,max(st_tmp))\n",
    "\n",
    "    upb_max = np.append(upb_max,max(upb_tmp))\n",
    "    dob_max = np.append(dob_max,max(dob_tmp))\n",
    "    stb_max = np.append(stb_max,max(stb_tmp))\n"
   ]
  },
  {
   "cell_type": "code",
   "execution_count": 17,
   "metadata": {},
   "outputs": [],
   "source": [
    "fst_moms1 = array([])\n",
    "for z1 in zs:\n",
    "    fst_moms1= np.append(fst_moms1,fst.cross_sec2_polda('lbd',z1,qq,mean)[1])\n",
    "    #fst.cross_sec2_polda('lbd',z1,qq,mean)"
   ]
  },
  {
   "cell_type": "code",
   "execution_count": 18,
   "metadata": {},
   "outputs": [],
   "source": [
    "fst_moms2 = array([])\n",
    "for z1 in zs:\n",
    "    fst_moms2= np.append(fst_moms2,fst.cross_sec2_polda('lbd',z1,qq,mean)[2])\n",
    "    #fst.cross_sec2_polda('lbd',z1,qq,mean)\n",
    "\n",
    "fst_moms3 = array([])\n",
    "for z1 in zs:\n",
    "    fst_moms3= np.append(fst_moms3,fst.cross_sec2_polda('lbd',z1,qq,mean)[3])\n",
    "    #fst.cross_sec2_polda('lbd',z1,qq,mean)    \n",
    "fst_moms4 = array([])\n",
    "for z1 in zs:\n",
    "    fst_moms4= np.append(fst_moms4,fst.cross_sec2_polda('lbd',z1,qq,mean)[4])\n",
    "    #fst.cross_sec2_polda('lbd',z1,qq,mean)    \n",
    "    \n",
    "fst_moms5 = array([])\n",
    "for z1 in zs:\n",
    "    fst_moms5= np.append(fst_moms5,fst.cross_sec2_polda('lbd',z1,qq,mean)[5])\n",
    "    #fst.cross_sec2_polda('lbd',z1,qq,mean)        "
   ]
  },
  {
   "cell_type": "code",
   "execution_count": 19,
   "metadata": {},
   "outputs": [
    {
     "data": {
      "text/plain": [
       "[<matplotlib.lines.Line2D at 0x7f81380f9250>]"
      ]
     },
     "execution_count": 19,
     "metadata": {},
     "output_type": "execute_result"
    },
    {
     "data": {
      "image/png": "[encoded data removed]",
      "text/plain": [
       "<Figure size 432x288 with 1 Axes>"
      ]
     },
     "metadata": {
      "needs_background": "light"
     },
     "output_type": "display_data"
    }
   ],
   "source": [
    "plot(zs,zs*fst_moms)\n",
    "plot(zs,zs*fst_moms1)\n",
    "plot(zs,zs*fst_moms2)\n",
    "plot(zs,zs*fst_moms3)\n",
    "plot(zs,zs*fst_moms4)\n",
    "plot(zs,zs*fst_moms5)"
   ]
  },
  {
   "cell_type": "code",
   "execution_count": 20,
   "metadata": {},
   "outputs": [
    {
     "data": {
      "text/plain": [
       "[<matplotlib.lines.Line2D at 0x7f81382b4340>]"
      ]
     },
     "execution_count": 20,
     "metadata": {},
     "output_type": "execute_result"
    },
    {
     "data": {
      "image/png": "[encoded data removed]",
      "text/plain": [
       "<Figure size 432x288 with 1 Axes>"
      ]
     },
     "metadata": {
      "needs_background": "light"
     },
     "output_type": "display_data"
    }
   ],
   "source": [
    "fill_between(zs,zs*up_min,zs*up_max,alpha=0.5)\n",
    "plot(zs,zs*fst_moms)"
   ]
  },
  {
   "cell_type": "code",
   "execution_count": 30,
   "metadata": {},
   "outputs": [],
   "source": [
    "a =pd.DataFrame([])"
   ]
  },
  {
   "cell_type": "code",
   "execution_count": 31,
   "metadata": {},
   "outputs": [],
   "source": [
    "a['UP'] = fst_moms\n",
    "a['DO'] = fst_moms1\n",
    "a['ST'] = fst_moms2\n",
    "a['UPb'] = fst_moms3\n",
    "a['DOb'] = fst_moms4\n",
    "a['STb'] = fst_moms5"
   ]
  },
  {
   "cell_type": "code",
   "execution_count": 33,
   "metadata": {},
   "outputs": [],
   "source": [
    "a['UP_min'] = up_min\n",
    "a['DO_min'] = do_min\n",
    "a['ST_min'] = st_min\n",
    "a['UPb_min'] = upb_min\n",
    "a['DOb_min'] = dob_min\n",
    "a['STb_min'] = stb_min"
   ]
  },
  {
   "cell_type": "code",
   "execution_count": 34,
   "metadata": {},
   "outputs": [],
   "source": [
    "a['UP_max'] = up_max\n",
    "a['DO_max'] = do_max\n",
    "a['ST_max'] = st_max\n",
    "a['UPb_max'] = upb_max\n",
    "a['DOb_max'] = dob_max\n",
    "a['STb_max'] = stb_max"
   ]
  },
  {
   "cell_type": "code",
   "execution_count": 38,
   "metadata": {},
   "outputs": [],
   "source": [
    "a['zs']=zs"
   ]
  },
  {
   "cell_type": "code",
   "execution_count": 36,
   "metadata": {},
   "outputs": [
    {
     "data": {
      "text/plain": [
       "'/home/marco/Documenti/plot_opal_primi_momenti/first_moments'"
      ]
     },
     "execution_count": 36,
     "metadata": {},
     "output_type": "execute_result"
    }
   ],
   "source": [
    "pwd"
   ]
  },
  {
   "cell_type": "code",
   "execution_count": 39,
   "metadata": {},
   "outputs": [],
   "source": [
    "a.to_csv('first_moments_double_model.csv')"
   ]
  },
  {
   "cell_type": "code",
   "execution_count": null,
   "metadata": {},
   "outputs": [],
   "source": []
  }
 ],
 "metadata": {
  "kernelspec": {
   "display_name": "Python 3",
   "language": "python",
   "name": "python3"
  },
  "language_info": {
   "codemirror_mode": {
    "name": "ipython",
    "version": 3
   },
   "file_extension": ".py",
   "mimetype": "text/x-python",
   "name": "python",
   "nbconvert_exporter": "python",
   "pygments_lexer": "ipython3",
   "version": "3.7.3"
  }
 },
 "nbformat": 4,
 "nbformat_minor": 5
}
