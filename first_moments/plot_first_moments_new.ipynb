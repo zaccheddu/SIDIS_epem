{
 "cells": [
  {
   "cell_type": "code",
   "execution_count": 1,
   "metadata": {},
   "outputs": [],
   "source": [
    "from first_moments import*\n",
    "import numpy as np\n",
    "import pandas as pd\n",
    "import matplotlib.pyplot as plt\n",
    "from numpy import*\n",
    "from matplotlib.pyplot import*\n"
   ]
  },
  {
   "cell_type": "code",
   "execution_count": 2,
   "metadata": {},
   "outputs": [],
   "source": [
    "mean= array([ 0.09341723, -0.1000179,  -0.11673005, -0.05501322,-0.05501322,-0.05501322,  0.,          0.,\n",
    "  2.19397263,  0.,0.,0., 3.47205659 , 0., 0. , 2.31910624,2.31910624,2.31910624])"
   ]
  },
  {
   "cell_type": "code",
   "execution_count": 3,
   "metadata": {},
   "outputs": [],
   "source": [
    "mean=array([ 0.09965859, -0.10666305, -0.1150868 , -0.05767081, -0.05767081, -0.05767081,  0.        ,\n",
    "         0.        ,  2.11951497,  0.,  0.,  0.        ,  3.50037005,  0.        ,\n",
    "         0.        ,  2.27198031,  2.27198031,  2.27198031])"
   ]
  },
  {
   "cell_type": "code",
   "execution_count": 4,
   "metadata": {},
   "outputs": [
    {
     "data": {
      "text/plain": [
       "18"
      ]
     },
     "execution_count": 4,
     "metadata": {},
     "output_type": "execute_result"
    }
   ],
   "source": [
    "len(mean)"
   ]
  },
  {
   "cell_type": "code",
   "execution_count": 5,
   "metadata": {},
   "outputs": [],
   "source": [
    "fst = cr_sec()"
   ]
  },
  {
   "cell_type": "code",
   "execution_count": 6,
   "metadata": {},
   "outputs": [
    {
     "data": {
      "text/plain": [
       "(0.0005032466823398586,\n",
       " -0.004197016629633801,\n",
       " -0.001424984530132153,\n",
       " -0.00035429633373940876,\n",
       " -0.0004601061332037447,\n",
       " -0.0010062121834701525)"
      ]
     },
     "execution_count": 6,
     "metadata": {},
     "output_type": "execute_result"
    }
   ],
   "source": [
    "z1 = 0.45\n",
    "qq = 10.58\n",
    "fst.cross_sec2_polda('lbd',z1,qq,mean)"
   ]
  },
  {
   "cell_type": "code",
   "execution_count": 8,
   "metadata": {},
   "outputs": [],
   "source": [
    "zs = linspace(0.25,0.95,100)"
   ]
  },
  {
   "cell_type": "code",
   "execution_count": 9,
   "metadata": {},
   "outputs": [],
   "source": [
    "fst_moms = array([])\n",
    "for z1 in zs:\n",
    "    fst_moms= np.append(fst_moms,fst.cross_sec2_polda('lbd',z1,qq,mean)[0])\n",
    "    #fst.cross_sec2_polda('lbd',z1,qq,mean)"
   ]
  },
  {
   "cell_type": "code",
   "execution_count": null,
   "metadata": {},
   "outputs": [],
   "source": []
  },
  {
   "cell_type": "code",
   "execution_count": 10,
   "metadata": {},
   "outputs": [],
   "source": [
    "fst_moms1 = array([])\n",
    "for z1 in zs:\n",
    "    fst_moms1= np.append(fst_moms1,fst.cross_sec2_polda('lbd',z1,qq,mean)[1])\n",
    "    #fst.cross_sec2_polda('lbd',z1,qq,mean)"
   ]
  },
  {
   "cell_type": "code",
   "execution_count": 11,
   "metadata": {},
   "outputs": [],
   "source": [
    "fst_moms2 = array([])\n",
    "for z1 in zs:\n",
    "    fst_moms2= np.append(fst_moms2,fst.cross_sec2_polda('lbd',z1,qq,mean)[2])\n",
    "    #fst.cross_sec2_polda('lbd',z1,qq,mean)\n",
    "\n",
    "fst_moms3 = array([])\n",
    "for z1 in zs:\n",
    "    fst_moms3= np.append(fst_moms3,fst.cross_sec2_polda('lbd',z1,qq,mean)[3])\n",
    "    #fst.cross_sec2_polda('lbd',z1,qq,mean)    \n",
    "fst_moms4 = array([])\n",
    "for z1 in zs:\n",
    "    fst_moms4= np.append(fst_moms4,fst.cross_sec2_polda('lbd',z1,qq,mean)[4])\n",
    "    #fst.cross_sec2_polda('lbd',z1,qq,mean)    \n",
    "    \n",
    "fst_moms5 = array([])\n",
    "for z1 in zs:\n",
    "    fst_moms5= np.append(fst_moms5,fst.cross_sec2_polda('lbd',z1,qq,mean)[5])\n",
    "    #fst.cross_sec2_polda('lbd',z1,qq,mean)        "
   ]
  },
  {
   "cell_type": "code",
   "execution_count": null,
   "metadata": {},
   "outputs": [],
   "source": []
  },
  {
   "cell_type": "code",
   "execution_count": 12,
   "metadata": {},
   "outputs": [
    {
     "data": {
      "text/plain": [
       "[<matplotlib.lines.Line2D at 0x7f3e2a7cac50>]"
      ]
     },
     "execution_count": 12,
     "metadata": {},
     "output_type": "execute_result"
    },
    {
     "data": {
      "image/png": "[encoded data removed]",
      "text/plain": [
       "<Figure size 432x288 with 1 Axes>"
      ]
     },
     "metadata": {
      "needs_background": "light"
     },
     "output_type": "display_data"
    }
   ],
   "source": [
    "plot(zs,zs*fst_moms)\n",
    "plot(zs,zs*fst_moms1)\n",
    "plot(zs,zs*fst_moms2)\n",
    "plot(zs,zs*fst_moms3)"
   ]
  },
  {
   "cell_type": "code",
   "execution_count": null,
   "metadata": {
    "scrolled": true
   },
   "outputs": [],
   "source": [
    "plot(zs,fst_moms)\n",
    "plot(zs,fst_moms1)\n",
    "plot(zs,fst_moms2)\n",
    "plot(zs,fst_moms3)"
   ]
  },
  {
   "cell_type": "code",
   "execution_count": null,
   "metadata": {},
   "outputs": [],
   "source": [
    "plot(zs,zs*fst_moms)\n",
    "plot(zs,zs*fst_moms1)\n",
    "plot(zs,zs*fst_moms2)\n",
    "plot(zs,zs*fst_moms3)\n",
    "plot(zs,zs*fst_moms4)\n",
    "plot(zs,zs*fst_moms5)"
   ]
  },
  {
   "cell_type": "code",
   "execution_count": null,
   "metadata": {},
   "outputs": [],
   "source": [
    "df1 = pd.read_csv('fit_parameters/new_bands_/new_gauss_211.csv')\n",
    "df2 = pd.read_csv('fit_parameters/new_bands_/new_gauss_345.csv')\n",
    "df3 = pd.read_csv('fit_parameters/new_bands_/new_gauss_3673.csv')"
   ]
  },
  {
   "cell_type": "code",
   "execution_count": null,
   "metadata": {},
   "outputs": [],
   "source": [
    "df_gauss = pd.concat([df1,df2,df3])\n",
    "chi_min = 104.9\n",
    "df_gauss = df_gauss.loc[(df_gauss['chi']<chi_min+15.79)]\n"
   ]
  },
  {
   "cell_type": "code",
   "execution_count": null,
   "metadata": {},
   "outputs": [],
   "source": [
    "df_gauss"
   ]
  },
  {
   "cell_type": "code",
   "execution_count": null,
   "metadata": {},
   "outputs": [],
   "source": [
    "df_gauss['NUP'].min()"
   ]
  },
  {
   "cell_type": "code",
   "execution_count": null,
   "metadata": {},
   "outputs": [],
   "source": [
    "#for column in df_gauss.columns:\n",
    "#    print(column)\n",
    "#    print(df_gauss[column])"
   ]
  },
  {
   "cell_type": "code",
   "execution_count": null,
   "metadata": {},
   "outputs": [],
   "source": [
    "up_tmp = array([])\n",
    "do_tmp = array([])\n",
    "st_tmp = array([])\n",
    "\n",
    "upb_tmp = array([])\n",
    "dob_tmp = array([])\n",
    "stb_tmp = array([])\n",
    "for nup, ndo, nst, nsea, ast, bup, bsea in zip(df_gauss.NUP,df_gauss.NDO,df_gauss.NST,df_gauss.NSEA,df_gauss.AST,df_gauss.BUP,df_gauss.BSEA):\n",
    "\n",
    "    f_prm=arange(0.,18.,1.)\n",
    "    f_prm[0] = nup\n",
    "    f_prm[1] = ndo#par[0]  #do\n",
    "    f_prm[2] = nst  #par[0]      #st\n",
    "    f_prm[3] = nsea  #par[0]      #upb\n",
    "    f_prm[4] = f_prm[3] #par[0]      #dob\n",
    "    f_prm[5] = f_prm[3] # par[0]      #stb\n",
    "    #¯¯¯¯¯¯\n",
    "    f_prm[6] = 0 #par[0]      #aup\n",
    "    f_prm[7] = 0 #par[0]      #ado\n",
    "    f_prm[8] = ast  # par[0]      #ast\n",
    "    f_prm[9] = 0# par[0]      #aupb\n",
    "    f_prm[10] = f_prm[9] #par[0]      #adob\n",
    "    f_prm[11] = f_prm[9] #par[0]      #astb\n",
    "    #¯#¯¯¯¯¯¯¯\n",
    "    f_prm[12] = bup #par[0]      #bup\n",
    "    f_prm[13] = 0 #par[0]      #bdo\n",
    "    f_prm[14] = 0# par[0]      #bst\n",
    "    f_prm[15] = bsea #par[0]      #bupb\n",
    "    f_prm[16] = f_prm[15] #par[0]      #bdob\n",
    "    f_prm[17] = f_prm[15] # par[0]      #bstb\n",
    "    #print(pt_pp)\n",
    "    #print(nup)\n",
    "    #print(fst.cross_sec2_polda('lbd',z1,qq,f_prm)[0])\n",
    "    up_tmp = np.append(up_tmp,fst.cross_sec2_polda('lbd',z1,qq,f_prm)[0])\n",
    "    do_tmp = np.append(do_tmp,fst.cross_sec2_polda('lbd',z1,qq,f_prm)[1])\n",
    "    st_tmp = np.append(st_tmp,fst.cross_sec2_polda('lbd',z1,qq,f_prm)[2])\n",
    "    \n",
    "    upb_tmp = np.append(upb_tmp,fst.cross_sec2_polda('lbd',z1,qq,f_prm)[3])\n",
    "    dob_tmp = np.append(dob_tmp,fst.cross_sec2_polda('lbd',z1,qq,f_prm)[4])\n",
    "    stb_tmp = np.append(stb_tmp,fst.cross_sec2_polda('lbd',z1,qq,f_prm)[5])"
   ]
  },
  {
   "cell_type": "code",
   "execution_count": null,
   "metadata": {},
   "outputs": [],
   "source": [
    "zs"
   ]
  },
  {
   "cell_type": "code",
   "execution_count": null,
   "metadata": {},
   "outputs": [],
   "source": [
    "up_min= array([])\n",
    "do_min = array([])\n",
    "st_min = array([])\n",
    "\n",
    "upb_min = array([])\n",
    "dob_min = array([])\n",
    "stb_min = array([])\n",
    "\n",
    "up_max= array([])\n",
    "do_max = array([])\n",
    "st_max = array([])\n",
    "\n",
    "upb_max = array([])\n",
    "dob_max = array([])\n",
    "stb_max = array([])\n",
    "\n",
    "\n",
    "for z1 in zs:\n",
    "    up_tmp = array([])\n",
    "    do_tmp = array([])\n",
    "    st_tmp = array([])\n",
    "\n",
    "    upb_tmp = array([])\n",
    "    dob_tmp = array([])\n",
    "    stb_tmp = array([])\n",
    "    for nup, ndo, nst, nsea, ast, bup, bsea in zip(df_gauss.NUP,df_gauss.NDO,df_gauss.NST,df_gauss.NSEA,df_gauss.AST,df_gauss.BUP,df_gauss.BSEA):\n",
    "\n",
    "        f_prm=arange(0.,18.,1.)\n",
    "        f_prm[0] = nup\n",
    "        f_prm[1] = ndo#par[0]  #do\n",
    "        f_prm[2] = nst  #par[0]      #st\n",
    "        f_prm[3] = nsea  #par[0]      #upb\n",
    "        f_prm[4] = f_prm[3] #par[0]      #dob\n",
    "        f_prm[5] = f_prm[3] # par[0]      #stb\n",
    "        #¯¯¯¯¯¯\n",
    "        f_prm[6] = 0 #par[0]      #aup\n",
    "        f_prm[7] = 0 #par[0]      #ado\n",
    "        f_prm[8] = ast  # par[0]      #ast\n",
    "        f_prm[9] = 0# par[0]      #aupb\n",
    "        f_prm[10] = f_prm[9] #par[0]      #adob\n",
    "        f_prm[11] = f_prm[9] #par[0]      #astb\n",
    "        #¯#¯¯¯¯¯¯¯\n",
    "        f_prm[12] = bup #par[0]      #bup\n",
    "        f_prm[13] = 0 #par[0]      #bdo\n",
    "        f_prm[14] = 0# par[0]      #bst\n",
    "        f_prm[15] = bsea #par[0]      #bupb\n",
    "        f_prm[16] = f_prm[15] #par[0]      #bdob\n",
    "        f_prm[17] = f_prm[15] # par[0]      #bstb\n",
    "        #print(pt_pp)\n",
    "        #print(nup)\n",
    "        #print(fst.cross_sec2_polda('lbd',z1,qq,f_prm)[0])\n",
    "        up_tmp = np.append(up_tmp,fst.cross_sec2_polda('lbd',z1,qq,f_prm)[0])\n",
    "        do_tmp = np.append(do_tmp,fst.cross_sec2_polda('lbd',z1,qq,f_prm)[1])\n",
    "        st_tmp = np.append(st_tmp,fst.cross_sec2_polda('lbd',z1,qq,f_prm)[2])\n",
    "\n",
    "        upb_tmp = np.append(upb_tmp,fst.cross_sec2_polda('lbd',z1,qq,f_prm)[3])\n",
    "        dob_tmp = np.append(dob_tmp,fst.cross_sec2_polda('lbd',z1,qq,f_prm)[4])\n",
    "        stb_tmp = np.append(stb_tmp,fst.cross_sec2_polda('lbd',z1,qq,f_prm)[5])\n",
    "        \n",
    "    up_min= np.append(up_min,min(up_tmp))\n",
    "    do_min = np.append(do_min,min(do_tmp))\n",
    "    st_min = np.append(st_min,min(st_tmp))\n",
    "\n",
    "    upb_min = np.append(upb_min,min(upb_tmp))\n",
    "    dob_min = np.append(dob_min,min(dob_tmp))\n",
    "    stb_min = np.append(stb_min,min(stb_tmp))\n",
    "\n",
    "    up_max= np.append(up_max,max(up_tmp))\n",
    "    do_max = np.append(do_max,max(do_tmp))\n",
    "    st_max = np.append(st_max,max(st_tmp))\n",
    "\n",
    "    upb_max = np.append(upb_max,max(upb_tmp))\n",
    "    dob_max = np.append(dob_max,max(dob_tmp))\n",
    "    stb_max = np.append(stb_max,max(stb_tmp))\n"
   ]
  },
  {
   "cell_type": "code",
   "execution_count": null,
   "metadata": {},
   "outputs": [],
   "source": [
    "plot(zs,zs*fst_moms)\n",
    "plot(zs,zs*up_min)\n",
    "plot(zs,zs*up_max)"
   ]
  },
  {
   "cell_type": "code",
   "execution_count": null,
   "metadata": {},
   "outputs": [],
   "source": [
    "fill_between(zs,zs*up_min,zs*up_max,alpha=0.5)\n",
    "plot(zs,zs*fst_moms)"
   ]
  },
  {
   "cell_type": "code",
   "execution_count": null,
   "metadata": {},
   "outputs": [],
   "source": [
    "a =pd.DataFrame([])"
   ]
  },
  {
   "cell_type": "code",
   "execution_count": null,
   "metadata": {},
   "outputs": [],
   "source": [
    "a['UP'] = fst_moms\n",
    "a['DO'] = fst_moms1\n",
    "a['ST'] = fst_moms2\n",
    "a['UPb'] = fst_moms3\n",
    "a['DOb'] = fst_moms4\n",
    "a['STb'] = fst_moms5\n",
    "a['UP_min'] = up_min\n",
    "a['DO_min'] = do_min\n",
    "a['ST_min'] = st_min\n",
    "a['UPb_min'] = upb_min\n",
    "a['DOb_min'] = dob_min\n",
    "a['STb_min'] = stb_min\n",
    "\n",
    "a['UP_max'] = up_max\n",
    "a['DO_max'] = do_max\n",
    "a['ST_max'] = st_max\n",
    "a['UPb_max'] = upb_max\n",
    "a['DOb_max'] = dob_max\n",
    "a['STb_max'] = stb_max\n"
   ]
  },
  {
   "cell_type": "code",
   "execution_count": null,
   "metadata": {},
   "outputs": [],
   "source": [
    "a['zs']=zs"
   ]
  },
  {
   "cell_type": "code",
   "execution_count": null,
   "metadata": {},
   "outputs": [],
   "source": [
    "a['zs']"
   ]
  },
  {
   "cell_type": "code",
   "execution_count": null,
   "metadata": {},
   "outputs": [],
   "source": [
    "a.to_csv('first_moments_2h.csv')"
   ]
  },
  {
   "cell_type": "code",
   "execution_count": null,
   "metadata": {},
   "outputs": [],
   "source": [
    "dbl_mod=pd.read_csv('first_moments_double_model_new.csv')\n",
    "a =pd.read_csv('first_moments_2h_new.csv')"
   ]
  },
  {
   "cell_type": "code",
   "execution_count": null,
   "metadata": {},
   "outputs": [],
   "source": [
    "dbl_mod"
   ]
  },
  {
   "cell_type": "code",
   "execution_count": null,
   "metadata": {},
   "outputs": [],
   "source": [
    "plot(dbl_mod.zs,dbl_mod.zs*a.UP,label='2h')\n",
    "plot(dbl_mod.zs,dbl_mod.zs*dbl_mod.UP,label='dbl')\n",
    "fill_between(dbl_mod.zs,dbl_mod.zs*dbl_mod.UP_min,dbl_mod.zs*dbl_mod.UP_max,alpha=0.5)\n",
    "fill_between(dbl_mod.zs,dbl_mod.zs*a.UP_min,dbl_mod.zs*a.UP_max,alpha=0.5)\n",
    "legend()"
   ]
  },
  {
   "cell_type": "code",
   "execution_count": null,
   "metadata": {},
   "outputs": [],
   "source": [
    "plot(dbl_mod.zs,dbl_mod.zs*a.DO,label='2h')\n",
    "plot(zs,zs*dbl_mod.DO,label='dbl')\n",
    "fill_between(zs,zs*dbl_mod.DO_min,zs*dbl_mod.DO_max,alpha=0.5)\n",
    "fill_between(zs,zs*a.DO_min,zs*a.DO_max,alpha=0.5)\n",
    "\n",
    "legend()"
   ]
  },
  {
   "cell_type": "code",
   "execution_count": null,
   "metadata": {},
   "outputs": [],
   "source": [
    "plot(zs,zs*a.ST,label='2h')\n",
    "plot(zs,zs*dbl_mod.ST,label='dbl')\n",
    "fill_between(zs,zs*dbl_mod.ST_min,zs*dbl_mod.ST_max,alpha=0.5)\n",
    "fill_between(zs,zs*a.ST_min,zs*a.ST_max,alpha=0.5)\n",
    "\n",
    "legend()"
   ]
  },
  {
   "cell_type": "code",
   "execution_count": null,
   "metadata": {},
   "outputs": [],
   "source": [
    "y_lbl=45\n",
    "x_lbl =45\n",
    "\n",
    "lnwd = 3.5\n",
    "\n",
    "\n",
    "title_s=38 #dimensione titolo bin\n",
    "\n",
    "fit_l=2.  # dimensione linea fit\n",
    "\n",
    "t_sz=35\n",
    "fnt_s=40"
   ]
  },
  {
   "cell_type": "code",
   "execution_count": null,
   "metadata": {},
   "outputs": [],
   "source": [
    "figure(figsize=(15, 10))\n",
    "fill_between(dbl_mod.zs,dbl_mod.zs*dbl_mod.UP_min,dbl_mod.zs*dbl_mod.UP_max,alpha=0.5,facecolor='red')\n",
    "plot(dbl_mod.zs,dbl_mod.zs*dbl_mod.UP,label='Combined',color='red',linestyle='--',linewidth=lnwd)\n",
    "#\n",
    "plot(dbl_mod.zs,dbl_mod.zs*a.UP,label='2h',linewidth=lnwd,color='blue',linestyle='-.')\n",
    "fill_between(dbl_mod.zs,dbl_mod.zs*a.UP_min,dbl_mod.zs*a.UP_max,alpha=0.5,facecolor='cornflowerblue')\n",
    "#\n",
    "plt.title(\"up \",fontsize=title_s,x=0.46, y=0.8)\n",
    "plt.ylim([-0.0001,None] )\n",
    "plt.xlim([0.2,0.7] )\n",
    "plt.tick_params(axis='both', which='major', labelsize=t_sz)\n",
    "#\n",
    "plt.xlabel(r'$z$',size=x_lbl)\n",
    "plt.ylabel(r'$ z\\; D^{\\bot (1)}_{1T} (z)$',size=y_lbl)\n",
    "#\n",
    "plt.text(0.35, 0.0008 , r'(a)', fontsize=45)\n",
    "plt.text(0.5, 0.0008 , r'$Q=10.58$ GeV', fontsize=40)\n",
    "\n",
    "plt.legend(loc='upper right', fontsize=fnt_s,frameon=False)\n",
    "savefig('firstmom_up.png')\n",
    "savefig('firstmom_up.pdf')\n"
   ]
  },
  {
   "cell_type": "code",
   "execution_count": null,
   "metadata": {},
   "outputs": [],
   "source": [
    "figure(figsize=(15, 10))\n",
    "fill_between(dbl_mod.zs,dbl_mod.zs*dbl_mod.DO_min,dbl_mod.zs*dbl_mod.DO_max,alpha=0.5,facecolor='red')\n",
    "plot(dbl_mod.zs,dbl_mod.zs*dbl_mod.DO,label='Combined',color='red',linestyle='--',linewidth=lnwd)\n",
    "#\n",
    "plot(dbl_mod.zs,dbl_mod.zs*a.DO,label='2h',linewidth=lnwd,color='blue',linestyle='-.')\n",
    "fill_between(dbl_mod.zs,dbl_mod.zs*a.DO_min,dbl_mod.zs*a.DO_max,alpha=0.5,facecolor='cornflowerblue')\n",
    "#\n",
    "plt.title(\"down\",fontsize=title_s,x=0.46, y=0.2)\n",
    "plt.ylim([-0.0043,None] )\n",
    "plt.xlim([0.2,0.7] )\n",
    "plt.tick_params(axis='both', which='major', labelsize=t_sz)\n",
    "\n",
    "#\n",
    "plt.xlabel(r'$z$',size=x_lbl)\n",
    "plt.ylabel(r'$ z\\; D^{\\bot (1)}_{1T} (z)$',size=y_lbl)\n",
    "#\n",
    "plt.text(0.6, -0.001 , r'(b)', fontsize=45)\n",
    "plt.text(0.5, -0.002 , r'$Q=10.58$ GeV', fontsize=40)\n",
    "\n",
    "plt.legend(loc='lower right', fontsize=fnt_s,frameon=False)\n",
    "savefig('firstmom_down.png')\n",
    "savefig('firstmom_down.pdf')\n"
   ]
  },
  {
   "cell_type": "code",
   "execution_count": null,
   "metadata": {},
   "outputs": [],
   "source": [
    "figure(figsize=(15, 10))\n",
    "fill_between(dbl_mod.zs,dbl_mod.zs*dbl_mod.ST_min,dbl_mod.zs*dbl_mod.ST_max,alpha=0.5,facecolor='red')\n",
    "plot(dbl_mod.zs,dbl_mod.zs*dbl_mod.ST,label='Combined',color='red',linestyle='--',linewidth=lnwd)\n",
    "#\n",
    "plot(dbl_mod.zs,dbl_mod.zs*a.ST,label='2h',linewidth=lnwd,color='blue',linestyle='-.')\n",
    "fill_between(dbl_mod.zs,dbl_mod.zs*a.ST_min,dbl_mod.zs*a.ST_max,alpha=0.5,facecolor='cornflowerblue')\n",
    "#\n",
    "plt.title(\"strange\",fontsize=title_s,x=0.6, y=0.15)\n",
    "plt.ylim([-0.0023,0.] )\n",
    "plt.xlim([0.2,0.7] )\n",
    "plt.tick_params(axis='both', which='major', labelsize=t_sz)\n",
    "#\n",
    "plt.xlabel(r'$z$',size=x_lbl)\n",
    "plt.ylabel(r'$ z\\; D^{\\bot (1)}_{1T} (z)$',size=y_lbl)\n",
    "#\n",
    "plt.text(0.22, -0.001 , r'(c)', fontsize=45)\n",
    "plt.text(0.22, -0.0015 , r'$Q=10.58$ GeV', fontsize=40)\n",
    "\n",
    "plt.legend(loc='lower left', fontsize=fnt_s,frameon=False)\n",
    "savefig('firstmom_strange.png')\n",
    "savefig('firstmom_strange.pdf')\n"
   ]
  },
  {
   "cell_type": "code",
   "execution_count": null,
   "metadata": {},
   "outputs": [],
   "source": [
    "dbl_mod"
   ]
  },
  {
   "cell_type": "code",
   "execution_count": null,
   "metadata": {},
   "outputs": [],
   "source": [
    "dbl_mod['SEA'] = dbl_mod['UPb'] +dbl_mod['DOb']+dbl_mod['STb'] "
   ]
  },
  {
   "cell_type": "code",
   "execution_count": null,
   "metadata": {},
   "outputs": [],
   "source": [
    "dbl_mod['SEA_max'] = dbl_mod['UPb_max'] +dbl_mod['DOb_max']+dbl_mod['STb_max'] "
   ]
  },
  {
   "cell_type": "code",
   "execution_count": null,
   "metadata": {},
   "outputs": [],
   "source": [
    "dbl_mod['SEA_min'] = dbl_mod['UPb_min'] +dbl_mod['DOb_min']+dbl_mod['STb_min'] "
   ]
  },
  {
   "cell_type": "code",
   "execution_count": null,
   "metadata": {},
   "outputs": [],
   "source": [
    "a['SEA'] = a['UPb'] +a['DOb']+a['STb'] \n",
    "a['SEA_max'] = a['UPb_max'] +a['DOb_max']+a['STb_max'] \n",
    "a['SEA_min'] = a['UPb_min'] +a['DOb_min']+a['STb_min'] "
   ]
  },
  {
   "cell_type": "code",
   "execution_count": null,
   "metadata": {},
   "outputs": [],
   "source": [
    "figure(figsize=(15, 10))\n",
    "fill_between(dbl_mod.zs,dbl_mod.zs*dbl_mod.SEA_min,dbl_mod.zs*dbl_mod.SEA_max,alpha=0.5,facecolor='red')\n",
    "plot(dbl_mod.zs,dbl_mod.zs*dbl_mod.SEA,label='Combined',color='red',linestyle='--',linewidth=lnwd)\n",
    "#\n",
    "plot(dbl_mod.zs,dbl_mod.zs*a.SEA,label='2h',linewidth=lnwd,color='blue',linestyle='-.')\n",
    "fill_between(dbl_mod.zs,dbl_mod.zs*a.SEA_min,dbl_mod.zs*a.SEA_max,alpha=0.5,facecolor='cornflowerblue')\n",
    "#\n",
    "plt.title(\"sea\",fontsize=title_s,x=0.46, y=0.2)\n",
    "plt.ylim([-0.0043,None] )\n",
    "plt.xlim([0.2,0.7] )\n",
    "plt.tick_params(axis='both', which='major', labelsize=t_sz)\n",
    "\n",
    "#\n",
    "plt.xlabel(r'$z$',size=x_lbl)\n",
    "plt.ylabel(r'$ z\\; D^{\\bot (1)}_{1T} (z)$',size=y_lbl)\n",
    "#\n",
    "plt.text(0.6, -0.001 , r'(c)', fontsize=45)\n",
    "plt.text(0.5, -0.002 , r'$Q=10.58$ GeV', fontsize=40)\n",
    "\n",
    "plt.legend(loc='lower right', fontsize=fnt_s,frameon=False)\n",
    "savefig('firstmom_sea.png')\n",
    "savefig('firstmom_sea.pdf')\n"
   ]
  },
  {
   "cell_type": "code",
   "execution_count": null,
   "metadata": {},
   "outputs": [],
   "source": []
  }
 ],
 "metadata": {
  "kernelspec": {
   "display_name": "Python 3",
   "language": "python",
   "name": "python3"
  },
  "language_info": {
   "codemirror_mode": {
    "name": "ipython",
    "version": 3
   },
   "file_extension": ".py",
   "mimetype": "text/x-python",
   "name": "python",
   "nbconvert_exporter": "python",
   "pygments_lexer": "ipython3",
   "version": "3.7.3"
  }
 },
 "nbformat": 4,
 "nbformat_minor": 5
}
