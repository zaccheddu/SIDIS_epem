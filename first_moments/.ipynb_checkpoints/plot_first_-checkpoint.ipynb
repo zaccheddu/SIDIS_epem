{
 "cells": [
  {
   "cell_type": "code",
   "execution_count": 1,
   "id": "7682f588",
   "metadata": {},
   "outputs": [],
   "source": [
    "from first_moments import*\n",
    "import numpy as np\n",
    "import pandas as pd"
   ]
  },
  {
   "cell_type": "code",
   "execution_count": 3,
   "id": "57f024d7",
   "metadata": {},
   "outputs": [],
   "source": [
    "df1_pwr = pd.read_csv('fit_parameters/new_bands_/new_pwrlw_211.csv')\n",
    "df2_pwr = pd.read_csv('fit_parameters/new_bands_/new_pwrlw_345.csv')\n",
    "df3_pwr = pd.read_csv('fit_parameters/new_bands_/new_pwrlw_3673.csv')"
   ]
  },
  {
   "cell_type": "code",
   "execution_count": 5,
   "id": "9ff45f93",
   "metadata": {},
   "outputs": [],
   "source": [
    "df_gauss = pd.concat([df1_pwr,df2_pwr,df3_pwr])\n",
    "chi_min = 181.5\n",
    "df_gauss = df_gauss.loc[(df_gauss['chi']<chi_min+19.99)]"
   ]
  },
  {
   "cell_type": "code",
   "execution_count": 8,
   "id": "fcc02c6d",
   "metadata": {},
   "outputs": [
    {
     "data": {
      "text/plain": [
       "-0.1649677643502513"
      ]
     },
     "execution_count": 8,
     "metadata": {},
     "output_type": "execute_result"
    }
   ],
   "source": [
    "df_gauss['NDO'].mean()"
   ]
  },
  {
   "cell_type": "code",
   "execution_count": 9,
   "id": "692df24c",
   "metadata": {},
   "outputs": [],
   "source": [
    "fst = cr_sec()"
   ]
  },
  {
   "cell_type": "code",
   "execution_count": null,
   "id": "d16724e8",
   "metadata": {},
   "outputs": [],
   "source": [
    "mean= array([ 0.148, -0.165,  -0.137, -0.081,-0.081,-0.081,  0.,          0.,\n",
    "  1.85,  0.,0.,0., 3.438 , 0., 0. , 2.103,2.103,2.103])"
   ]
  }
 ],
 "metadata": {
  "kernelspec": {
   "display_name": "Python 3 (ipykernel)",
   "language": "python",
   "name": "python3"
  },
  "language_info": {
   "codemirror_mode": {
    "name": "ipython",
    "version": 3
   },
   "file_extension": ".py",
   "mimetype": "text/x-python",
   "name": "python",
   "nbconvert_exporter": "python",
   "pygments_lexer": "ipython3",
   "version": "3.9.7"
  }
 },
 "nbformat": 4,
 "nbformat_minor": 5
}
